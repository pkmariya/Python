{
  "nbformat": 4,
  "nbformat_minor": 0,
  "metadata": {
    "colab": {
      "name": "PythonSorting.ipynb",
      "provenance": [],
      "authorship_tag": "ABX9TyNkJd0yj5GOWD26dHGqG3hI",
      "include_colab_link": true
    },
    "kernelspec": {
      "name": "python3",
      "display_name": "Python 3"
    },
    "language_info": {
      "name": "python"
    }
  },
  "cells": [
    {
      "cell_type": "markdown",
      "metadata": {
        "id": "view-in-github",
        "colab_type": "text"
      },
      "source": [
        "<a href=\"https://colab.research.google.com/github/pkmariya/Python/blob/master/PythonSorting.ipynb\" target=\"_parent\"><img src=\"https://colab.research.google.com/assets/colab-badge.svg\" alt=\"Open In Colab\"/></a>"
      ]
    },
    {
      "cell_type": "markdown",
      "source": [
        ""
      ],
      "metadata": {
        "id": "PrfskZJAue68"
      }
    },
    {
      "cell_type": "markdown",
      "source": [
        "# Sorting Algorithms"
      ],
      "metadata": {
        "id": "r2x1TCShueU2"
      }
    },
    {
      "cell_type": "markdown",
      "source": [
        "# Merge Sort\n",
        "\n",
        "# Steps\n",
        "# 1. Base condition check\n",
        "# 2. Recursive Logic and\n",
        "# 3. Merge logic"
      ],
      "metadata": {
        "id": "ecNO6jRnuk8N"
      }
    },
    {
      "cell_type": "code",
      "source": [
        "def merge_sort(a):\n",
        "  # Base condition check\n",
        "  if len(a) <= 1:\n",
        "    return a\n",
        "\n",
        "  # recursive logic\n",
        "  n = len(a)\n",
        "  left = merge_sort(a[:n//2])\n",
        "  right = merge_sort(a[n//2:])\n",
        "\n",
        "  # merge logic\n",
        "\n",
        "  i, j = 0, 0\n",
        "  result = []\n",
        "\n",
        "  while i < len(left) and j < len(right):\n",
        "    if left[i] <= right[j]:\n",
        "      result.append(left[i])\n",
        "      i += 1\n",
        "    else:\n",
        "      result.append(right[j])\n",
        "      j += 1\n",
        "\n",
        "  # adding back left over items\n",
        "  if i < len(left):\n",
        "    result += left[i:]\n",
        "  elif j < len(right):\n",
        "    result += right[j:]\n",
        "\n",
        "  return result\n",
        "\n",
        "a = [7, 5, 12, 2, 0, 4, 1, 9, 6, 3, 8]\n",
        "print(f\"Before Sorting: {a}\")\n",
        "print(f\"After  Sorting: {merge_sort(a)}\")"
      ],
      "metadata": {
        "colab": {
          "base_uri": "https://localhost:8080/"
        },
        "id": "BRogaHVawT9F",
        "outputId": "e238aa01-0916-4811-cba6-cdfea802048d"
      },
      "execution_count": 17,
      "outputs": [
        {
          "output_type": "stream",
          "name": "stdout",
          "text": [
            "Before Sorting: [7, 5, 12, 2, 0, 4, 1, 9, 6, 3, 8]\n",
            "After  Sorting: [0, 1, 2, 3, 4, 5, 6, 7, 8, 9, 12]\n"
          ]
        }
      ]
    },
    {
      "cell_type": "code",
      "source": [
        ""
      ],
      "metadata": {
        "id": "mqVysWLPwf2P"
      },
      "execution_count": null,
      "outputs": []
    }
  ]
}