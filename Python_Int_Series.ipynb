{
  "nbformat": 4,
  "nbformat_minor": 0,
  "metadata": {
    "colab": {
      "provenance": [],
      "authorship_tag": "ABX9TyNiNG0ReeC/+Bd5UzQGFb5n",
      "include_colab_link": true
    },
    "kernelspec": {
      "name": "python3",
      "display_name": "Python 3"
    },
    "language_info": {
      "name": "python"
    }
  },
  "cells": [
    {
      "cell_type": "markdown",
      "metadata": {
        "id": "view-in-github",
        "colab_type": "text"
      },
      "source": [
        "<a href=\"https://colab.research.google.com/github/pkmariya/Python/blob/main/Python_Int_Series.ipynb\" target=\"_parent\"><img src=\"https://colab.research.google.com/assets/colab-badge.svg\" alt=\"Open In Colab\"/></a>"
      ]
    },
    {
      "cell_type": "markdown",
      "source": [
        "# Python Code Series"
      ],
      "metadata": {
        "id": "aRo2JWAkvKBx"
      }
    },
    {
      "cell_type": "code",
      "source": [
        "# Reverse an Integer - Approach #1\n",
        "\n",
        "number = int(input(\"Enter an Integer \"))\n",
        "\n",
        "if number == 0:\n",
        "  print(\"Please enter a valid Integer \\n\")\n",
        "  number = int(input(\"Enter an Integer \"))\n",
        "\n",
        "sign = \"-\" if number < 0 else \"\"\n",
        "\n",
        "number = abs(number)\n",
        "\n",
        "print(\"Reverse of the given number is: \", sign, end=\"\")\n",
        "while number != 0:\n",
        "  digit = number % 10\n",
        "  number //= 10\n",
        "  print(digit, end='')"
      ],
      "metadata": {
        "id": "x2BqEdo_zvrx",
        "colab": {
          "base_uri": "https://localhost:8080/"
        },
        "outputId": "e9260d62-8f2e-4458-e193-b999d6cbbc3a"
      },
      "execution_count": 32,
      "outputs": [
        {
          "output_type": "stream",
          "name": "stdout",
          "text": [
            "Enter an Integer -100\n",
            "Reverse of the given number is:  -001"
          ]
        }
      ]
    },
    {
      "cell_type": "code",
      "source": [
        "# Reverse an Integer - Approach #2\n",
        "\n",
        "number = int(input(\"Eneter an Integer \"))\n",
        "\n",
        "if number == 0:\n",
        "  print(\"Please enter a valid Integer \\n\")\n",
        "  number = int(input(\"Enter an Integer \"))\n",
        "\n",
        "sign = \"-\" if number < 0 else \"\"\n",
        "number = abs(int(number))\n",
        "\n",
        "number = str(number)\n",
        "print(\"Reverse of the given number is: {0}\".format(sign), end='')\n",
        "for char in range(len(number)-1, -1, -1):\n",
        "  print(number[char], end='')\n"
      ],
      "metadata": {
        "colab": {
          "base_uri": "https://localhost:8080/"
        },
        "id": "K4YrgHaf4cpT",
        "outputId": "b9037d5c-575f-467b-f703-0b7e3a815d2d"
      },
      "execution_count": 36,
      "outputs": [
        {
          "output_type": "stream",
          "name": "stdout",
          "text": [
            "Eneter an Integer -678\n",
            "Reverse of the given number is: -876"
          ]
        }
      ]
    },
    {
      "cell_type": "code",
      "source": [
        "# Reverse an Integer - Approach #3\n",
        "\n",
        "num = int(input(\"Enter an Integer \"))\n",
        "\n",
        "if number == 0:\n",
        "  print(\"Please enter a valid Integer \\n\")\n",
        "  number = int(input(\"Enter an Integer \"))\n",
        "\n",
        "sign = \"-\" if num < 0 else \"\"\n",
        "\n",
        "num = abs(num)\n",
        "\n",
        "num = str(num)\n",
        "\n",
        "print(sign, end='')\n",
        "print(str(num)[::-1])"
      ],
      "metadata": {
        "colab": {
          "base_uri": "https://localhost:8080/"
        },
        "id": "JCEf5IZS4iFQ",
        "outputId": "5aa0306e-1814-4ec0-8d74-a07af6ffb7ee"
      },
      "execution_count": 51,
      "outputs": [
        {
          "output_type": "stream",
          "name": "stdout",
          "text": [
            "Enter an Integer -67890\n",
            "-09876\n"
          ]
        }
      ]
    },
    {
      "cell_type": "code",
      "source": [],
      "metadata": {
        "id": "RsM2d-zhX7Yu"
      },
      "execution_count": null,
      "outputs": []
    }
  ]
}