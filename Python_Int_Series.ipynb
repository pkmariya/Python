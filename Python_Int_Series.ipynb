{
  "nbformat": 4,
  "nbformat_minor": 0,
  "metadata": {
    "colab": {
      "provenance": [],
      "authorship_tag": "ABX9TyPXIOGSRyN8vuL7fjK1A6iJ",
      "include_colab_link": true
    },
    "kernelspec": {
      "name": "python3",
      "display_name": "Python 3"
    },
    "language_info": {
      "name": "python"
    }
  },
  "cells": [
    {
      "cell_type": "markdown",
      "metadata": {
        "id": "view-in-github",
        "colab_type": "text"
      },
      "source": [
        "<a href=\"https://colab.research.google.com/github/pkmariya/Python/blob/main/Python_Int_Series.ipynb\" target=\"_parent\"><img src=\"https://colab.research.google.com/assets/colab-badge.svg\" alt=\"Open In Colab\"/></a>"
      ]
    },
    {
      "cell_type": "markdown",
      "source": [
        "# Python Code Series"
      ],
      "metadata": {
        "id": "aRo2JWAkvKBx"
      }
    },
    {
      "cell_type": "code",
      "source": [
        "# Reverse an Integer - Approach #1\n",
        "\n",
        "number = int(input(\"Enter an Integer \"))\n",
        "\n",
        "sign = -1 if number < 0 else 1\n",
        "\n",
        "number = abs(number)\n",
        "rev_num = 0\n",
        "\n",
        "print(\"Reverse of the given number is: \", end=\"\")\n",
        "while number != 0:\n",
        "  digit = number % 10\n",
        "  rev_num = rev_num * 10 + digit\n",
        "  number //= 10\n",
        "\n",
        "rev_num *= sign \n",
        "print(rev_num)"
      ],
      "metadata": {
        "colab": {
          "base_uri": "https://localhost:8080/"
        },
        "id": "iF7V_lwDwKWD",
        "outputId": "10cdc092-cc54-432e-b564-7aa95e3694d4"
      },
      "execution_count": null,
      "outputs": [
        {
          "output_type": "stream",
          "name": "stdout",
          "text": [
            "Enter an Integer -10001\n",
            "Reverse of the given number is: -10001\n"
          ]
        }
      ]
    },
    {
      "cell_type": "code",
      "source": [
        "# Reverse an Integer - Approach #2\n",
        "\n",
        "number = int(input(\"Eneter an Integer \"))\n",
        "\n",
        "if number == 0:\n",
        "  print(\"Please enter a valid Integer \\n\")\n",
        "  number = int(input(\"Enter an Integer \"))\n",
        "\n",
        "sign = \"-\" if number < 0 else \"\"\n",
        "number = abs(int(number))\n",
        "\n",
        "number = str(number)\n",
        "print(\"Reverse of the given number is: {0}\".format(sign), end='')\n",
        "for char in range(len(number)-1, -1, -1):\n",
        "  print(number[char], end='')\n"
      ],
      "metadata": {
        "colab": {
          "base_uri": "https://localhost:8080/"
        },
        "id": "K4YrgHaf4cpT",
        "outputId": "8e3cccfd-8dae-4e58-9bfd-a9cd2df9877e"
      },
      "execution_count": null,
      "outputs": [
        {
          "output_type": "stream",
          "name": "stdout",
          "text": [
            "Eneter an Integer -102\n",
            "Reverse of the given number is: -201"
          ]
        }
      ]
    },
    {
      "cell_type": "code",
      "source": [
        "# Reverse an Integer - Approach #3\n",
        "\n",
        "num = int(input(\"Enter an Integer \"))\n",
        "\n",
        "if number == 0:\n",
        "  print(\"Please enter a valid Integer \\n\")\n",
        "  number = int(input(\"Enter an Integer \"))\n",
        "\n",
        "sign = \"-\" if num < 0 else \"\"\n",
        "\n",
        "num = abs(num)\n",
        "\n",
        "num = str(num)\n",
        "\n",
        "print(sign, end='')\n",
        "print(str(num)[::-1])"
      ],
      "metadata": {
        "colab": {
          "base_uri": "https://localhost:8080/"
        },
        "id": "JCEf5IZS4iFQ",
        "outputId": "013c02fc-1bca-4a68-f67a-49a60579f1e3"
      },
      "execution_count": null,
      "outputs": [
        {
          "output_type": "stream",
          "name": "stdout",
          "text": [
            "Enter an Integer -102\n",
            "-201\n"
          ]
        }
      ]
    },
    {
      "cell_type": "code",
      "source": [
        "def first_unique_char(string):\n",
        "  string = string.lower()\n",
        "  count = 0\n",
        "  if len(string) == 0:\n",
        "    return -1\n",
        "  elif len(string) == 1:\n",
        "    return string\n",
        "  else:\n",
        "    for i in range(len(string)):\n",
        "      for j in range(len(string)):\n",
        "        if string[j] == string[i]:\n",
        "          count += 1\n",
        "        else:\n",
        "          continue\n",
        "    if count == 1:\n",
        "      return string(count)"
      ],
      "metadata": {
        "id": "RsM2d-zhX7Yu"
      },
      "execution_count": null,
      "outputs": []
    },
    {
      "cell_type": "code",
      "source": [
        "string = \"PRRER\"\n",
        "print(first_unique_char(string))"
      ],
      "metadata": {
        "colab": {
          "base_uri": "https://localhost:8080/"
        },
        "id": "4GQD7C6jJiej",
        "outputId": "8ed5413c-e427-420e-c83e-275bb5db0093"
      },
      "execution_count": null,
      "outputs": [
        {
          "output_type": "stream",
          "name": "stdout",
          "text": [
            "None\n"
          ]
        }
      ]
    },
    {
      "cell_type": "code",
      "source": [
        "def first_unique_char(string):\n",
        "  string = string.lower()\n",
        "  count = 0\n",
        "  if len(string) == 0:\n",
        "    return -1\n",
        "  elif len(string) == 1:\n",
        "    return string\n",
        "  else:\n",
        "    x = 1\n",
        "    for char in string:\n",
        "      if char not in string[x:]:\n",
        "        return x-1\n",
        "      x += 1\n"
      ],
      "metadata": {
        "id": "xFt3yG3ROQe0"
      },
      "execution_count": null,
      "outputs": []
    },
    {
      "cell_type": "code",
      "source": [
        "string = \"airyia\"\n",
        "print(string[first_unique_char(string)])"
      ],
      "metadata": {
        "colab": {
          "base_uri": "https://localhost:8080/"
        },
        "id": "DZLA6cuaOkVB",
        "outputId": "30c03158-0ccb-4282-ccd6-9354940169dd"
      },
      "execution_count": null,
      "outputs": [
        {
          "output_type": "stream",
          "name": "stdout",
          "text": [
            "r\n"
          ]
        }
      ]
    },
    {
      "cell_type": "code",
      "source": [
        "def first_unique_char(string):\n",
        "  string = string.lower()\n",
        "  # if len(string) == 0:\n",
        "  #   return -1\n",
        "  # elif len(string) == 1:\n",
        "  #   return string\n",
        "  # else:\n",
        "  for i in range(len(string)):\n",
        "    for j in range(i+1, len(string)):\n",
        "      if string[i] != string[j]:\n",
        "        return string[j]"
      ],
      "metadata": {
        "id": "g2ExlntuOoZj"
      },
      "execution_count": null,
      "outputs": []
    },
    {
      "cell_type": "code",
      "source": [
        "print(first_unique_char(\"rewriya\"))"
      ],
      "metadata": {
        "colab": {
          "base_uri": "https://localhost:8080/"
        },
        "id": "22Az-uwrQUxZ",
        "outputId": "1946683a-20b0-43c0-8c3f-6cec43648163"
      },
      "execution_count": null,
      "outputs": [
        {
          "output_type": "stream",
          "name": "stdout",
          "text": [
            "e\n"
          ]
        }
      ]
    },
    {
      "cell_type": "code",
      "source": [
        "def fcn(string:str) -> str:\n",
        "  d={}\n",
        "  lst=[]\n",
        "  if string == \"\":\n",
        "    return -1\n",
        "  for i in string:\n",
        "    if i in d:\n",
        "      lst.append(i)\n",
        "    else:\n",
        "      d[i]=1\n",
        "  \n",
        "  for i in range(len(string)):\n",
        "    if string[i] not in lst:\n",
        "      return string[i]"
      ],
      "metadata": {
        "id": "ETKiDYlPQYMT"
      },
      "execution_count": null,
      "outputs": []
    },
    {
      "cell_type": "code",
      "source": [
        "string = \"hhelleo\"\n",
        "print(fcn(string))"
      ],
      "metadata": {
        "colab": {
          "base_uri": "https://localhost:8080/"
        },
        "id": "Qg8FIuDajJXo",
        "outputId": "94d8ec98-8fc0-4de3-f33c-2fe9c893ed90"
      },
      "execution_count": null,
      "outputs": [
        {
          "output_type": "stream",
          "name": "stdout",
          "text": [
            "o\n"
          ]
        }
      ]
    },
    {
      "cell_type": "code",
      "source": [
        "def findChar(s):\n",
        "  count = [0] * 256 \n",
        "  for i in s: \n",
        "    count[ord(i)] = count[ord(i)] + 1 \n",
        "    k = 0 \n",
        "  for i in s: \n",
        "    if count[ord(i)] == 1: \n",
        "      index = k \n",
        "      break \n",
        "    k += 1 \n",
        "  return s[k]"
      ],
      "metadata": {
        "id": "0bPnCyjljLLi"
      },
      "execution_count": null,
      "outputs": []
    },
    {
      "cell_type": "code",
      "source": [
        "string = \"helhleo\"\n",
        "print(findChar(string))"
      ],
      "metadata": {
        "colab": {
          "base_uri": "https://localhost:8080/"
        },
        "id": "TUrEbOXFjzRp",
        "outputId": "97e6dda8-850f-4316-959b-55813523ed22"
      },
      "execution_count": null,
      "outputs": [
        {
          "output_type": "stream",
          "name": "stdout",
          "text": [
            "o\n"
          ]
        }
      ]
    },
    {
      "cell_type": "code",
      "source": [
        "# Find out the first Unique Character in a String\n",
        "\n",
        "def unique_char(string):\n",
        "  if string == \"\":\n",
        "    return -1\n",
        "\n",
        "# Build the dictionary to count # of chars\n",
        "  char_dict = {}\n",
        "  for char in string:\n",
        "    if char not in char_dict:\n",
        "      char_dict[char] = 1\n",
        "    else:\n",
        "      char_dict[char] += 1\n",
        "\n",
        "# find out the first unique char\n",
        "  for letter in string:\n",
        "    if char_dict[letter] == 1:\n",
        "      return letter"
      ],
      "metadata": {
        "id": "iufSLV9geQ6k"
      },
      "execution_count": null,
      "outputs": []
    },
    {
      "cell_type": "code",
      "source": [
        "string = \"heolelmho\"\n",
        "print(unique_char(string))"
      ],
      "metadata": {
        "colab": {
          "base_uri": "https://localhost:8080/"
        },
        "id": "WYx7ZsFMedkW",
        "outputId": "218149e4-08ef-4284-8370-f6ee6fbdf33e"
      },
      "execution_count": null,
      "outputs": [
        {
          "output_type": "stream",
          "name": "stdout",
          "text": [
            "m\n"
          ]
        }
      ]
    },
    {
      "cell_type": "code",
      "source": [
        "\n",
        "def temp(inpVal):\n",
        "  d = {i:i.count(i) for i in set(inpVal)}\n",
        "  for let in set(inpVal):\n",
        "    if let.count(let) >= 1:\n",
        "      return let\n",
        "# print(d)"
      ],
      "metadata": {
        "id": "S6Tfxx4Ru83q"
      },
      "execution_count": null,
      "outputs": []
    },
    {
      "cell_type": "code",
      "source": [
        "inpVal = \"heolelmho\"\n",
        "print(temp(inpVal))"
      ],
      "metadata": {
        "colab": {
          "base_uri": "https://localhost:8080/"
        },
        "id": "x6mMQbnJc5uS",
        "outputId": "4a075eca-9425-4c5a-d34d-e608e584e64e"
      },
      "execution_count": null,
      "outputs": [
        {
          "output_type": "stream",
          "name": "stdout",
          "text": [
            "h\n"
          ]
        }
      ]
    },
    {
      "cell_type": "code",
      "source": [
        "def uniq(st):\n",
        "  if len(st) == 1:\n",
        "    return \"zero\"\n",
        "  for i in range(0,len(st)):\n",
        "    if st[i] not in st[i:len(st)]:\n",
        "      print(st[i])\n",
        "    return i\n",
        "  return -1"
      ],
      "metadata": {
        "id": "IGUmCCbEdome"
      },
      "execution_count": null,
      "outputs": []
    },
    {
      "cell_type": "code",
      "source": [
        "inpVal = \"ehleolmho\"\n",
        "print(uniq(inpVal))"
      ],
      "metadata": {
        "colab": {
          "base_uri": "https://localhost:8080/"
        },
        "id": "mwA_lfJ9e0kP",
        "outputId": "6264fd74-f0d2-44dc-fa2a-20e83b6266dc"
      },
      "execution_count": null,
      "outputs": [
        {
          "output_type": "stream",
          "name": "stdout",
          "text": [
            "0\n"
          ]
        }
      ]
    },
    {
      "cell_type": "code",
      "source": [
        "# Calculate the power of n - Approach #1\n",
        "def power1(x, n):\n",
        "  sign = -1 if n<0 else 1\n",
        "  n = abs(n)\n",
        "  result = 1\n",
        "  if n == 0:\n",
        "    return 0\n",
        "  else:\n",
        "    while n>0 or n<0:\n",
        "      result *= x\n",
        "      n -= 1\n",
        "    return sign * result"
      ],
      "metadata": {
        "id": "-F40FIZOe4iB"
      },
      "execution_count": null,
      "outputs": []
    },
    {
      "cell_type": "code",
      "source": [
        "print(power1(5, 2))"
      ],
      "metadata": {
        "colab": {
          "base_uri": "https://localhost:8080/"
        },
        "id": "CQR47sS0iPFv",
        "outputId": "3611fcdf-a79f-4856-9f3a-1004f3bb9387"
      },
      "execution_count": null,
      "outputs": [
        {
          "output_type": "stream",
          "name": "stdout",
          "text": [
            "25\n"
          ]
        }
      ]
    },
    {
      "cell_type": "code",
      "source": [
        "# Calculate the power of n - Approach #2\n",
        "def power2(x, n):\n",
        "  sign = -1 if n<0 else 1\n",
        "  n = abs(n)\n",
        "  result = 1\n",
        "  if n == 0:\n",
        "    return 0\n",
        "  else:\n",
        "    for i in range(n):\n",
        "      result *= x\n",
        "    return sign*result"
      ],
      "metadata": {
        "id": "2A31odQQi5MC"
      },
      "execution_count": null,
      "outputs": []
    },
    {
      "cell_type": "code",
      "source": [
        "print(power2(5, -2))"
      ],
      "metadata": {
        "colab": {
          "base_uri": "https://localhost:8080/"
        },
        "id": "VN69fVJDkmX0",
        "outputId": "fc13703f-0f61-41d1-f532-56879f0f8312"
      },
      "execution_count": null,
      "outputs": [
        {
          "output_type": "stream",
          "name": "stdout",
          "text": [
            "-25\n"
          ]
        }
      ]
    },
    {
      "cell_type": "code",
      "source": [
        "# Find the two numbers whose sum equals to a given target\n",
        "\n",
        "def twosum(lst, target):\n",
        "  dic = {}\n",
        "\n",
        "  for i, j in enumerate(lst):\n",
        "    r = target - j\n",
        "    if r in dic:\n",
        "      # return [dic[r], i]\n",
        "      return [r, j]\n",
        "    dic[j] = i\n"
      ],
      "metadata": {
        "id": "WmoYQ9Xux_o0"
      },
      "execution_count": null,
      "outputs": []
    },
    {
      "cell_type": "code",
      "source": [
        "nums = [3, 1, 5, 6, 7, 4]\n",
        "find = 9\n",
        "print(twosum(nums, find))"
      ],
      "metadata": {
        "colab": {
          "base_uri": "https://localhost:8080/"
        },
        "id": "dHfUVRhAQszo",
        "outputId": "a090f0d8-06be-4125-a75d-6dba03dc960c"
      },
      "execution_count": null,
      "outputs": [
        {
          "output_type": "stream",
          "name": "stdout",
          "text": [
            "[3, 6]\n"
          ]
        }
      ]
    },
    {
      "cell_type": "code",
      "source": [
        "lst1 = [2, 4, 3]\n",
        "lst2 = [5, 6, 4]\n",
        "\n",
        "# res = []\n",
        "# limit = len(lst1)\n",
        "# for i in range(limit):\n",
        "#   res.append(lst1[i] + lst2[i])\n",
        "\n",
        "# print(res)\n",
        "\n",
        "print(lst1)\n"
      ],
      "metadata": {
        "colab": {
          "base_uri": "https://localhost:8080/"
        },
        "id": "h5f2OoVVQ4Jr",
        "outputId": "6c265cb6-357d-4c2d-cab8-2e78c7b3bf13"
      },
      "execution_count": null,
      "outputs": [
        {
          "output_type": "stream",
          "name": "stdout",
          "text": [
            "[2, 4, 3]\n"
          ]
        }
      ]
    },
    {
      "cell_type": "code",
      "source": [
        "## QQ Plot - The purpose of QQ Plot \n",
        "import numpy as np\n",
        "import statsmodels.api as sm\n",
        "import matplotlib.pyplot as plt\n",
        "\n",
        "# generate some random data for X and Y\n",
        "X = np.random.normal(loc=0, scale=1, size=100)\n",
        "Y = np.random.normal(loc=0, scale=1, size=100)\n",
        "\n",
        "# plot the QQ plot of X and Y\n",
        "fig = sm.qqplot(X, line='s', label='X')\n",
        "fig = sm.qqplot(Y, line='s', label='Y')\n",
        "\n",
        "# add legend and show plot\n",
        "fig.legend()\n",
        "plt.show()"
      ],
      "metadata": {
        "colab": {
          "base_uri": "https://localhost:8080/",
          "height": 571
        },
        "id": "qN9r2alrELLw",
        "outputId": "0df57ea2-5019-4431-91ce-3c733be510fe"
      },
      "execution_count": null,
      "outputs": [
        {
          "output_type": "display_data",
          "data": {
            "text/plain": [
              "<Figure size 432x288 with 1 Axes>"
            ],
            "image/png": "[encoded data removed]"
          },
          "metadata": {
            "needs_background": "light"
          }
        },
        {
          "output_type": "display_data",
          "data": {
            "text/plain": [
              "<Figure size 432x288 with 1 Axes>"
            ],
            "image/png": "[encoded data removed]"
          },
          "metadata": {
            "needs_background": "light"
          }
        }
      ]
    },
    {
      "cell_type": "code",
      "source": [
        "# Implement QQ Plot from scratch\n",
        "import numpy as np\n",
        "import matplotlib.pyplot as plt\n",
        "\n",
        "def qq_plot(data):\n",
        "    # Sort the data\n",
        "    sorted_data = sorted(data)\n",
        "    \n",
        "    # Calculate the quantiles of the sorted data\n",
        "    n = len(sorted_data)\n",
        "    quantiles = [(i + 0.5) / n for i in range(n)]\n",
        "    \n",
        "    # Calculate the expected values from a standard normal distribution\n",
        "    expected_values = np.quantile(np.random.normal(loc=0, scale=1, size=len(data)), quantiles)\n",
        "    \n",
        "    # Create a line plot of the expected values\n",
        "    plt.plot(expected_values, expected_values, 'r-')\n",
        "    \n",
        "    # Create a scatter plot of the observed data\n",
        "    plt.scatter(expected_values, sorted_data)\n",
        "    \n",
        "    # Add labels and title\n",
        "    plt.xlabel('Expected Values')\n",
        "    plt.ylabel('Observed Data')\n",
        "    plt.title('QQ Plot')\n",
        "    \n",
        "    # Show the plot\n",
        "    plt.show()\n"
      ],
      "metadata": {
        "id": "WsYBMHIjGeF_"
      },
      "execution_count": null,
      "outputs": []
    },
    {
      "cell_type": "code",
      "source": [
        "data = np.random.normal(loc=0, scale=1, size=1000)\n",
        "qq_plot(data)"
      ],
      "metadata": {
        "colab": {
          "base_uri": "https://localhost:8080/",
          "height": 295
        },
        "id": "11AK67QnnCcI",
        "outputId": "dcf5d9ef-0265-448f-b3fb-91eca01cbdb0"
      },
      "execution_count": null,
      "outputs": [
        {
          "output_type": "display_data",
          "data": {
            "text/plain": [
              "<Figure size 432x288 with 1 Axes>"
            ],
            "image/png": "[encoded data removed]"
          },
          "metadata": {
            "needs_background": "light"
          }
        }
      ]
    },
    {
      "cell_type": "code",
      "source": [
        "from scipy.stats import norm \n",
        "\n",
        "def qq_plot_method2(data):\n",
        "    # Sort the data\n",
        "    sorted_data = sorted(data)\n",
        "    \n",
        "    # Calculate the quantiles of the sorted data\n",
        "    n = len(sorted_data)\n",
        "    quantiles = [((i + 0.5) / n) for i in range(n)]\n",
        "    \n",
        "    # Calculate the expected values from a standard normal distribution\n",
        "    expected_values = [norm.ppf(q) for q in quantiles]\n",
        "    \n",
        "    # Plot the observed data against the expected values\n",
        "    plt.plot(expected_values, sorted_data, 'o')\n",
        "    plt.xlabel('Expected Values')\n",
        "    plt.ylabel('Observed Data')\n",
        "    plt.title('QQ Plot')\n",
        "    plt.show()\n"
      ],
      "metadata": {
        "id": "WGjfWXTKndru"
      },
      "execution_count": null,
      "outputs": []
    },
    {
      "cell_type": "code",
      "source": [
        "data = np.random.normal(loc=0, scale=1, size=1000)\n",
        "qq_plot_method2(data)"
      ],
      "metadata": {
        "colab": {
          "base_uri": "https://localhost:8080/",
          "height": 295
        },
        "id": "cRhS3d6Knnw4",
        "outputId": "c3c96098-c164-49ae-f6f6-14cf04c191b5"
      },
      "execution_count": null,
      "outputs": [
        {
          "output_type": "display_data",
          "data": {
            "text/plain": [
              "<Figure size 432x288 with 1 Axes>"
            ],
            "image/png": "[encoded data removed]"
          },
          "metadata": {
            "needs_background": "light"
          }
        }
      ]
    },
    {
      "cell_type": "code",
      "source": [
        "import numpy as np\n",
        "import matplotlib.pyplot as plt\n",
        "\n",
        "def empirical_pdf(X, num_bins=20):\n",
        "    # Calculate the histogram of the observations\n",
        "    counts, bin_edges = np.histogram(X, bins=num_bins, density=True)\n",
        "    \n",
        "    # Calculate the midpoints of the bins\n",
        "    bin_midpoints = (bin_edges[:-1] + bin_edges[1:]) / 2\n",
        "    \n",
        "    # Calculate the estimated PDF as a line plot\n",
        "    plt.plot(bin_midpoints, counts, 'r-')\n",
        "    \n",
        "    # Create a scatter plot of the observed values\n",
        "    plt.scatter(X, np.zeros_like(X), alpha=0.5)\n",
        "    \n",
        "    # Add labels and title\n",
        "    plt.xlabel('Observations')\n",
        "    plt.ylabel('PDF')\n",
        "    plt.title('Empirical PDF')\n",
        "    \n",
        "    # Show the plot\n",
        "    plt.show()\n",
        "\n"
      ],
      "metadata": {
        "id": "N7zEg0anHvw9"
      },
      "execution_count": null,
      "outputs": []
    },
    {
      "cell_type": "code",
      "source": [
        "X = np.random.normal(loc=0, scale=1, size=1000)\n",
        "empirical_pdf(X)"
      ],
      "metadata": {
        "colab": {
          "base_uri": "https://localhost:8080/",
          "height": 295
        },
        "id": "6tN9MARNqNxE",
        "outputId": "aae53e87-bac1-4fcd-f88d-a143ecd57c7e"
      },
      "execution_count": null,
      "outputs": [
        {
          "output_type": "display_data",
          "data": {
            "text/plain": [
              "<Figure size 432x288 with 1 Axes>"
            ],
            "image/png": "[encoded data removed]"
          },
          "metadata": {
            "needs_background": "light"
          }
        }
      ]
    },
    {
      "cell_type": "code",
      "source": [
        "import numpy as np\n",
        "\n",
        "def sample_from_pmf(a, p):\n",
        "    \"\"\"\n",
        "    Samples a value from the list a with PMF p, using numpy.random.uniform().\n",
        "    \"\"\"\n",
        "    # Check if probabilities sum up to 1\n",
        "    if abs(sum(p) - 1.0) > 1e-6:\n",
        "        raise ValueError(\"Probabilities do not sum up to 1.\")\n",
        "\n",
        "    # Generate a uniform random number in [0, 1]\n",
        "    u = np.random.uniform()\n",
        "\n",
        "    # Determine which value to sample based on the probabilities\n",
        "    c = np.cumsum(p)\n",
        "    idx = np.searchsorted(c, u)\n",
        "\n",
        "    # Sample the value from a\n",
        "    return a[idx]"
      ],
      "metadata": {
        "id": "ayw9y-EELGqx"
      },
      "execution_count": null,
      "outputs": []
    },
    {
      "cell_type": "code",
      "source": [
        "a = [1, 3, 6, 12, 5]\n",
        "p = [0.5, 0.1, 0.1, 0.1, 0.2]\n",
        "print(sample_from_pmf(a, p))"
      ],
      "metadata": {
        "colab": {
          "base_uri": "https://localhost:8080/"
        },
        "id": "z_fueVzcOQnT",
        "outputId": "7af87e77-f0bd-42e7-9092-7e06e0dec034"
      },
      "execution_count": null,
      "outputs": [
        {
          "output_type": "stream",
          "name": "stdout",
          "text": [
            "6\n"
          ]
        }
      ]
    },
    {
      "cell_type": "code",
      "source": [
        "a = [1, 3, 6, 12, 5]\n",
        "p = [0.5, 0.1, 0.1, 0.1, 0.2]\n",
        "u_val = np.random.uniform()\n",
        "cum_val = np.cumsum(p)\n",
        "index = np.searchsorted(cum_val, u_val)\n",
        "print(a[index])"
      ],
      "metadata": {
        "colab": {
          "base_uri": "https://localhost:8080/"
        },
        "id": "KK03b73rOcYs",
        "outputId": "af52b02f-65e9-49fd-a223-898abd30b75c"
      },
      "execution_count": null,
      "outputs": [
        {
          "output_type": "stream",
          "name": "stdout",
          "text": [
            "12\n"
          ]
        }
      ]
    },
    {
      "cell_type": "code",
      "source": [
        "a = [1, 3, 6, 12, 5]\n",
        "p = [0.5, 0.1, 0.1, 0.1, 0.2]\n",
        "# Calculate Cumulative Sum for Probabilities\n",
        "csum = np.cumsum(p)\n",
        "print(csum)\n",
        "\n",
        "# Generate random numbers\n",
        "random_nums = np.random_uniform()\n",
        "\n",
        "# Search for u in cumulative sum\n",
        "index = np.searchsorted(csum, random_nums)\n",
        "print(a[index])\n"
      ],
      "metadata": {
        "colab": {
          "base_uri": "https://localhost:8080/"
        },
        "id": "TRIlQrUmPDjO",
        "outputId": "0775f992-7a82-44a5-997d-02837f617ec6"
      },
      "execution_count": null,
      "outputs": [
        {
          "output_type": "stream",
          "name": "stdout",
          "text": [
            "[0.5 0.6 0.7 0.8 1. ]\n"
          ]
        }
      ]
    },
    {
      "cell_type": "code",
      "source": [
        "import seaborn as sns\n",
        "import matplotlib.pyplot as plt\n",
        "\n",
        "def plot_empirical_pdf(X):\n",
        "    \"\"\"\n",
        "    Plots the empirical probability density function of X using a scatterplot and a lineplot.\n",
        "    \"\"\"\n",
        "    # Create a scatterplot of X\n",
        "    sns.scatterplot(x=X, y=np.zeros_like(X), s=10, alpha=0.5, color='blue')\n",
        "\n",
        "    # Create a lineplot of the kernel density estimate of X\n",
        "    sns.kdeplot(x=X, bw_adjust=0.5, color='red')\n",
        "\n",
        "    # Set the x and y labels\n",
        "    plt.xlabel('X')\n",
        "    plt.ylabel('PDF')\n",
        "\n",
        "    # Show the plot\n",
        "    plt.show()"
      ],
      "metadata": {
        "id": "H8KcHBkTQKDj"
      },
      "execution_count": null,
      "outputs": []
    },
    {
      "cell_type": "code",
      "source": [
        "lst = np.random.uniform(1, 100, 2)\n",
        "plot_empirical_pdf(lst)"
      ],
      "metadata": {
        "colab": {
          "base_uri": "https://localhost:8080/",
          "height": 279
        },
        "id": "baYvf1p5UvgP",
        "outputId": "577aed8c-6f9f-408e-8171-cb625b97174e"
      },
      "execution_count": null,
      "outputs": [
        {
          "output_type": "display_data",
          "data": {
            "text/plain": [
              "<Figure size 432x288 with 1 Axes>"
            ],
            "image/png": "[encoded data removed]"
          },
          "metadata": {
            "needs_background": "light"
          }
        }
      ]
    },
    {
      "cell_type": "code",
      "source": [
        "# Write a function that gives us the PDF\n",
        "\n",
        "# What is given to us is X array\n",
        "\n",
        "# Step 1 - Sort X\n",
        "\n",
        "# Step 2 - Compute CDF\n",
        "\n",
        "# Step 3 - Compute PDF (rate of change of CDF)\n",
        "\n",
        "# Step 4 - "
      ],
      "metadata": {
        "id": "uch3L27yU-nY"
      },
      "execution_count": null,
      "outputs": []
    },
    {
      "cell_type": "code",
      "source": [
        "# import random\n",
        "\n",
        "# def cointoss():\n",
        "#     if random.random() < 0.5:\n",
        "#         return \"Head\"\n",
        "#     else:\n",
        "#         return \"Tail\"\n",
        "\n",
        "\n",
        "import time\n",
        "\n",
        "def cointoss():\n",
        "    t = int(time.time() * 1000)\n",
        "    if t % 2 == 0:\n",
        "        return \"Head\"\n",
        "    else:\n",
        "        return \"Tail\"\n"
      ],
      "metadata": {
        "id": "RB56kX8yek0Y"
      },
      "execution_count": null,
      "outputs": []
    },
    {
      "cell_type": "code",
      "source": [
        "def throwdice():\n",
        "    while True:\n",
        "        toss1 = cointoss()   # First coin toss\n",
        "        toss2 = cointoss()   # Second coin toss\n",
        "        \n",
        "        # Check for the six possible outcomes of two coin tosses\n",
        "        if toss1 == \"Head\" and toss2 == \"Head\":\n",
        "            return 1\n",
        "        elif toss1 == \"Head\" and toss2 == \"Tail\":\n",
        "            return 2\n",
        "        elif toss1 == \"Tail\" and toss2 == \"Head\":\n",
        "            return 3\n",
        "        elif toss1 == \"Tail\" and toss2 == \"Tail\":\n",
        "            return 4\n",
        "        elif toss1 == \"Head\" and toss2 == \"Head\" and toss3 == \"Head\":\n",
        "            return 5\n",
        "        elif toss1 == \"Head\" and toss2 == \"Head\" and toss3 == \"Tail\":\n",
        "            return 6\n"
      ],
      "metadata": {
        "id": "JwFJdNXpeV6g"
      },
      "execution_count": null,
      "outputs": []
    },
    {
      "cell_type": "code",
      "source": [
        "for i in range(26):\n",
        "  print(throwdice())"
      ],
      "metadata": {
        "colab": {
          "base_uri": "https://localhost:8080/"
        },
        "id": "O8_BA1gseh5l",
        "outputId": "94ae6b24-6056-424f-8ba0-2bd348699612"
      },
      "execution_count": null,
      "outputs": [
        {
          "output_type": "stream",
          "name": "stdout",
          "text": [
            "4\n",
            "4\n",
            "4\n",
            "4\n",
            "4\n",
            "4\n",
            "4\n",
            "4\n",
            "4\n",
            "4\n",
            "4\n",
            "4\n",
            "1\n",
            "1\n",
            "1\n",
            "1\n",
            "1\n",
            "1\n",
            "1\n",
            "1\n",
            "1\n",
            "1\n",
            "1\n",
            "1\n",
            "1\n",
            "1\n"
          ]
        }
      ]
    },
    {
      "cell_type": "code",
      "source": [
        "# Generate a random integer b/w 1 to k\n",
        "\n",
        "import time\n",
        "\n",
        "def randK(k):\n",
        "    while True:\n",
        "        # Generate a random number in the range [0, 6]\n",
        "        num = int(time.time() * 1000) % k\n",
        "        \n",
        "        # Add 1 to shift the range to [1, k]\n",
        "        num += 1\n",
        "        \n",
        "        # Return the number if it's in the desired range\n",
        "        if num <= k:\n",
        "            return num\n"
      ],
      "metadata": {
        "id": "zuZYbfZdfQmk"
      },
      "execution_count": null,
      "outputs": []
    },
    {
      "cell_type": "code",
      "source": [
        "randK(1511)"
      ],
      "metadata": {
        "colab": {
          "base_uri": "https://localhost:8080/"
        },
        "id": "Ee0t5ThTg1mv",
        "outputId": "0ee6e065-2321-44f5-9c38-736e8c5bdf4f"
      },
      "execution_count": null,
      "outputs": [
        {
          "output_type": "execute_result",
          "data": {
            "text/plain": [
              "317"
            ]
          },
          "metadata": {},
          "execution_count": 55
        }
      ]
    },
    {
      "cell_type": "code",
      "source": [
        "import random\n",
        "\n",
        "# Set the number of iterations\n",
        "n = 1000000\n",
        "\n",
        "# Initialize the count of points inside the circle to zero\n",
        "count = 0\n",
        "\n",
        "# Iterate n times\n",
        "for i in range(n):\n",
        "    # Generate a random point (x, y) in the square [0, 1] x [0, 1]\n",
        "    x = random.random()\n",
        "    y = random.random()\n",
        "    \n",
        "    # Check if the point is inside the unit circle centered at (0.5, 0.5)\n",
        "    if (x - 0.5)**2 + (y - 0.5)**2 <= 0.25:\n",
        "        count += 1\n",
        "\n",
        "# Estimate the value of pi as 4 times the ratio of points inside the circle to total points\n",
        "pi = 4 * count / n\n",
        "\n",
        "# Print the estimated value of pi\n",
        "print(pi)\n"
      ],
      "metadata": {
        "colab": {
          "base_uri": "https://localhost:8080/"
        },
        "id": "Pkxzk6qZg3Nw",
        "outputId": "55d092eb-b0e5-4b00-b30d-1ecc53f57e7e"
      },
      "execution_count": null,
      "outputs": [
        {
          "output_type": "stream",
          "name": "stdout",
          "text": [
            "3.139176\n"
          ]
        }
      ]
    },
    {
      "cell_type": "code",
      "source": [
        "# Mar 4th\n",
        "# Extract the max number which doesn't contain the digit 9\n",
        "\n",
        "def extractNumber(S):\n",
        "  valid_numbers = [int(word) for word in S.split() if word.isdigit() and '9' not in word]\n",
        "\n",
        "  if len(valid_numbers ) == 0:\n",
        "    return -1\n",
        "  else:\n",
        "    return max(valid_numbers)"
      ],
      "metadata": {
        "id": "oOygB0OEOqlQ"
      },
      "execution_count": 4,
      "outputs": []
    },
    {
      "cell_type": "code",
      "source": [
        "print(extractNumber(\"this sentence contains numbers 50 and 97\"))"
      ],
      "metadata": {
        "colab": {
          "base_uri": "https://localhost:8080/"
        },
        "id": "6SrsHwllm7Os",
        "outputId": "9200b0a0-5d6b-4c84-b64a-5416568e0f2e"
      },
      "execution_count": 7,
      "outputs": [
        {
          "output_type": "stream",
          "name": "stdout",
          "text": [
            "50\n"
          ]
        }
      ]
    },
    {
      "cell_type": "code",
      "source": [
        "# Platform allocation for the arrival and departure trains\n",
        "\n",
        "def minPlatform(n, arr, dep):\n",
        "  min_platform_needed = 1\n",
        "  ans = 1\n",
        "\n",
        "  for i in range(n):\n",
        "    min_platform_needed = 1\n",
        "\n",
        "    for j in range(n):\n",
        "      if i != j:\n",
        "        if arr[i] <= arr[j] and arr[j] <= dep[i]:\n",
        "          min_platform_needed += 1\n",
        "\n",
        "    ans = max(ans, min_platform_needed)\n",
        "\n",
        "  return ans"
      ],
      "metadata": {
        "id": "EfDvaLb-nL4h"
      },
      "execution_count": 18,
      "outputs": []
    },
    {
      "cell_type": "code",
      "source": [
        "arr = [900, 910, 925, 940, 950]\n",
        "dep = [915, 925, 935, 945, 955]\n",
        "print(minPlatform(5, arr, dep))"
      ],
      "metadata": {
        "colab": {
          "base_uri": "https://localhost:8080/"
        },
        "id": "Ccfe7AO-p7mq",
        "outputId": "3743f55a-1625-4b1b-f8c6-31b80a36bc7c"
      },
      "execution_count": 21,
      "outputs": [
        {
          "output_type": "stream",
          "name": "stdout",
          "text": [
            "2\n"
          ]
        }
      ]
    },
    {
      "cell_type": "code",
      "source": [
        "# Pascal's Triangle\n",
        "\n",
        "def pascalTriangle(n):\n",
        "  ans = []\n",
        "\n",
        "  for i in range(n):\n",
        "    if i == 0:\n",
        "      prev = [1]\n",
        "      ans.append(prev)\n",
        "    else:\n",
        "      curr = [1]\n",
        "      j = 1\n",
        "\n",
        "      while j < i:\n",
        "        curr.append(prev[j] + prev[j-1])\n",
        "        j += 1\n",
        "      \n",
        "      curr.append(1)\n",
        "      ans.append(curr)\n",
        "      prev = curr\n",
        "\n",
        "  return ans\n",
        "      "
      ],
      "metadata": {
        "id": "75XZjbnurJAi"
      },
      "execution_count": 27,
      "outputs": []
    },
    {
      "cell_type": "code",
      "source": [
        "pascalTriangle(7)"
      ],
      "metadata": {
        "colab": {
          "base_uri": "https://localhost:8080/"
        },
        "id": "iV3Lfy7Nu1Y1",
        "outputId": "44a4d878-c498-44d0-af3e-dec61a3e3671"
      },
      "execution_count": 32,
      "outputs": [
        {
          "output_type": "execute_result",
          "data": {
            "text/plain": [
              "[[1],\n",
              " [1, 1],\n",
              " [1, 2, 1],\n",
              " [1, 3, 3, 1],\n",
              " [1, 4, 6, 4, 1],\n",
              " [1, 5, 10, 10, 5, 1],\n",
              " [1, 6, 15, 20, 15, 6, 1]]"
            ]
          },
          "metadata": {},
          "execution_count": 32
        }
      ]
    },
    {
      "cell_type": "code",
      "source": [
        "def minIncrement(arr, n):\n",
        "\n",
        "  arr.sort()\n",
        "\n",
        "  prev_updated = arr[0]\n",
        "  ans = 0\n",
        "\n",
        "  for i in range(len(arr)):\n",
        "    if a[i] <= a[i-1]:\n",
        "      curr = a[i]\n",
        "      target = prev_updated + 1"
      ],
      "metadata": {
        "colab": {
          "base_uri": "https://localhost:8080/",
          "height": 133
        },
        "id": "w7xBRCSuu4k5",
        "outputId": "58a27895-f696-4e35-ead8-5143b90a9236"
      },
      "execution_count": 33,
      "outputs": [
        {
          "output_type": "error",
          "ename": "SyntaxError",
          "evalue": "ignored",
          "traceback": [
            "\u001b[0;36m  File \u001b[0;32m\"<ipython-input-33-69956c845233>\"\u001b[0;36m, line \u001b[0;32m1\u001b[0m\n\u001b[0;31m    de minIncrement(arr, n):\u001b[0m\n\u001b[0m       ^\u001b[0m\n\u001b[0;31mSyntaxError\u001b[0m\u001b[0;31m:\u001b[0m invalid syntax\n"
          ]
        }
      ]
    },
    {
      "cell_type": "code",
      "source": [
        "# Anagram of Strings\n",
        "\n",
        "def anagram(strings):\n",
        "  anagram_group = {}\n",
        "\n",
        "  for word in strings:\n",
        "    sorted_word = \"\".join(sorted(word))\n",
        "\n",
        "    if sorted_word not in anagram_group:\n",
        "      anagram_group[sorted_word] = [word]\n",
        "    else:\n",
        "      anagram_group[sorted_word].append(word)\n",
        "    \n",
        "    ans = []\n",
        "\n",
        "  for key in anagram_group:\n",
        "    ans.append(anagram_group[key])\n",
        "      \n",
        "  return ans"
      ],
      "metadata": {
        "id": "PY8IucdB1die"
      },
      "execution_count": 50,
      "outputs": []
    },
    {
      "cell_type": "code",
      "source": [
        "anagram(['tea', 'ate', 'eat', 'bat', 'top'])"
      ],
      "metadata": {
        "colab": {
          "base_uri": "https://localhost:8080/"
        },
        "id": "erFnpTEy3Dur",
        "outputId": "533f14bc-9eb6-445e-8fdb-3cbcfd822d53"
      },
      "execution_count": 49,
      "outputs": [
        {
          "output_type": "execute_result",
          "data": {
            "text/plain": [
              "[['tea', 'ate', 'eat'], ['bat'], ['top']]"
            ]
          },
          "metadata": {},
          "execution_count": 49
        }
      ]
    },
    {
      "cell_type": "code",
      "source": [],
      "metadata": {
        "id": "O_K9GaaY3LsL"
      },
      "execution_count": null,
      "outputs": []
    }
  ]
}