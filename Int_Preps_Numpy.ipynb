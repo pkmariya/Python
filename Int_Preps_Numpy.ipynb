{
  "nbformat": 4,
  "nbformat_minor": 0,
  "metadata": {
    "colab": {
      "provenance": [],
      "authorship_tag": "ABX9TyPG8L5riL+S/ki/OyNtX52Y",
      "include_colab_link": true
    },
    "kernelspec": {
      "name": "python3",
      "display_name": "Python 3"
    },
    "language_info": {
      "name": "python"
    }
  },
  "cells": [
    {
      "cell_type": "markdown",
      "metadata": {
        "id": "view-in-github",
        "colab_type": "text"
      },
      "source": [
        "<a href=\"https://colab.research.google.com/github/pkmariya/Python/blob/main/Int_Preps_Numpy.ipynb\" target=\"_parent\"><img src=\"https://colab.research.google.com/assets/colab-badge.svg\" alt=\"Open In Colab\"/></a>"
      ]
    },
    {
      "cell_type": "code",
      "source": [
        "import numpy as np"
      ],
      "metadata": {
        "id": "91OYrulAXfi1"
      },
      "execution_count": 1,
      "outputs": []
    },
    {
      "cell_type": "code",
      "execution_count": null,
      "metadata": {
        "id": "nxRYuy3KV7ro"
      },
      "outputs": [],
      "source": [
        "v1 = [4, 8, 9, 11]\n",
        "v2 = [0, 1, -1, 20]\n"
      ]
    },
    {
      "cell_type": "code",
      "source": [
        "def distance(v1, v2):\n",
        "  dist = 0\n",
        "  v1 = np.array(v1)\n",
        "  v2 = np.array(v2)\n",
        "  dist = np.sum(np.square(v1-v2))\n",
        "  return dist"
      ],
      "metadata": {
        "id": "a9MFlMf2W4zW"
      },
      "execution_count": null,
      "outputs": []
    },
    {
      "cell_type": "code",
      "source": [
        "result = np.sqrt(distance(v1, v2))\n",
        "print(result)\n"
      ],
      "metadata": {
        "colab": {
          "base_uri": "https://localhost:8080/"
        },
        "id": "vLjrtxz8XBDm",
        "outputId": "5e893982-038b-4fc4-d972-3d91dd786274"
      },
      "execution_count": null,
      "outputs": [
        {
          "output_type": "stream",
          "name": "stdout",
          "text": [
            "15.684387141358123\n"
          ]
        }
      ]
    },
    {
      "cell_type": "code",
      "source": [
        "# another simple way\n",
        "print(sum((np.array(v1) - np.array(v2))**2) ** 0.5)"
      ],
      "metadata": {
        "colab": {
          "base_uri": "https://localhost:8080/"
        },
        "id": "51t1l3KLXFsu",
        "outputId": "fa08cfd9-cb2c-47d5-b500-37cd5ec2ce44"
      },
      "execution_count": null,
      "outputs": [
        {
          "output_type": "stream",
          "name": "stdout",
          "text": [
            "15.684387141358123\n"
          ]
        }
      ]
    },
    {
      "cell_type": "code",
      "source": [
        "all_points = [[1, 2, 3, 4], [2, 3, 0, -4], [-1, 4, 1, 0], [0, 1, 2, 5], [1, 10, 0, 0], [0,0,0,0]]\n",
        "current_point = [4, 1, 0, 3]"
      ],
      "metadata": {
        "id": "qdVNAgucaSGy"
      },
      "execution_count": null,
      "outputs": []
    },
    {
      "cell_type": "code",
      "source": [
        "def dist(a, b):\n",
        "  res = 0\n",
        "  p1 = np.array(a)\n",
        "  p2 = np.array(b)\n",
        "  res = np.sum(np.square(p1-p2))**0.5\n",
        "  return res"
      ],
      "metadata": {
        "id": "6_Qx5Dm-fLV0"
      },
      "execution_count": null,
      "outputs": []
    },
    {
      "cell_type": "code",
      "source": [
        "for i in range(len(all_points)):\n",
        "  print(dist(i, current_point))"
      ],
      "metadata": {
        "colab": {
          "base_uri": "https://localhost:8080/"
        },
        "id": "236cBnBifjK8",
        "outputId": "1b84d194-571d-4879-93e4-fc2a4f088653"
      },
      "execution_count": null,
      "outputs": [
        {
          "output_type": "stream",
          "name": "stdout",
          "text": [
            "5.0990195135927845\n",
            "3.7416573867739413\n",
            "3.1622776601683795\n",
            "3.7416573867739413\n",
            "5.0990195135927845\n",
            "6.782329983125268\n"
          ]
        }
      ]
    },
    {
      "cell_type": "code",
      "source": [
        "np.sum((np.array(all_points) - np.array(current_point))**2,axis=1)**0.5"
      ],
      "metadata": {
        "colab": {
          "base_uri": "https://localhost:8080/"
        },
        "id": "zd-DOeqPf5GB",
        "outputId": "9a5bd4e4-961d-4dea-d9f1-f67179be47e6"
      },
      "execution_count": null,
      "outputs": [
        {
          "output_type": "execute_result",
          "data": {
            "text/plain": [
              "array([4.47213595, 7.54983444, 6.63324958, 4.89897949, 9.94987437,\n",
              "       5.09901951])"
            ]
          },
          "metadata": {},
          "execution_count": 32
        }
      ]
    },
    {
      "cell_type": "markdown",
      "source": [
        "### Diff b/w Identity Matrix and Diagnol matrix"
      ],
      "metadata": {
        "id": "MJpueLC2CIwy"
      }
    },
    {
      "cell_type": "code",
      "source": [
        "# Identity Matrix\n",
        "iden_matrix = np.eye(5)\n",
        "iden_matrix"
      ],
      "metadata": {
        "id": "37QIjlIsh0Hl",
        "colab": {
          "base_uri": "https://localhost:8080/"
        },
        "outputId": "006933ab-e177-4b0b-efc0-08689de88c84"
      },
      "execution_count": 11,
      "outputs": [
        {
          "output_type": "execute_result",
          "data": {
            "text/plain": [
              "array([[1., 0., 0., 0., 0.],\n",
              "       [0., 1., 0., 0., 0.],\n",
              "       [0., 0., 1., 0., 0.],\n",
              "       [0., 0., 0., 1., 0.],\n",
              "       [0., 0., 0., 0., 1.]])"
            ]
          },
          "metadata": {},
          "execution_count": 11
        }
      ]
    },
    {
      "cell_type": "code",
      "source": [
        "# Diagnol Matrix\n",
        "diag_matrix = np.diag([1, 2, 3, 4, 5])\n",
        "diag_matrix"
      ],
      "metadata": {
        "colab": {
          "base_uri": "https://localhost:8080/"
        },
        "id": "b9oK1V4zCS24",
        "outputId": "981b1dd1-2115-42ca-d8cb-41b441ce00eb"
      },
      "execution_count": 6,
      "outputs": [
        {
          "output_type": "execute_result",
          "data": {
            "text/plain": [
              "array([[1, 0, 0, 0, 0],\n",
              "       [0, 2, 0, 0, 0],\n",
              "       [0, 0, 3, 0, 0],\n",
              "       [0, 0, 0, 4, 0],\n",
              "       [0, 0, 0, 0, 5]])"
            ]
          },
          "metadata": {},
          "execution_count": 6
        }
      ]
    },
    {
      "cell_type": "markdown",
      "source": [
        "### Diff b/w Repeat and Tile"
      ],
      "metadata": {
        "id": "zq3WdWrSCp_V"
      }
    },
    {
      "cell_type": "code",
      "source": [
        "# Repeat the elements\n",
        "arr = [0, 1, 2]\n",
        "rep_arr = np.repeat(arr, 3)\n",
        "rep_arr"
      ],
      "metadata": {
        "colab": {
          "base_uri": "https://localhost:8080/"
        },
        "id": "Cy3uAIJMCdEC",
        "outputId": "557f73c0-c323-48a2-a3b1-54e67de59377"
      },
      "execution_count": 9,
      "outputs": [
        {
          "output_type": "execute_result",
          "data": {
            "text/plain": [
              "array([0, 0, 0, 1, 1, 1, 2, 2, 2])"
            ]
          },
          "metadata": {},
          "execution_count": 9
        }
      ]
    },
    {
      "cell_type": "code",
      "source": [
        "# Repeat the Rows\n",
        "arr = [0, 1, 2]\n",
        "tile_arr = np.tile(arr, 3)\n",
        "tile_arr"
      ],
      "metadata": {
        "colab": {
          "base_uri": "https://localhost:8080/"
        },
        "id": "ePWr7uV3C0At",
        "outputId": "726df846-a0e4-4dca-99c7-60b268f09e85"
      },
      "execution_count": 10,
      "outputs": [
        {
          "output_type": "execute_result",
          "data": {
            "text/plain": [
              "array([0, 1, 2, 0, 1, 2, 0, 1, 2])"
            ]
          },
          "metadata": {},
          "execution_count": 10
        }
      ]
    },
    {
      "cell_type": "code",
      "source": [
        "# Random array - random function typically gives random numbers b/w 0 to 1\n",
        "ran_arr = np.random.rand(3)\n",
        "ran_arr"
      ],
      "metadata": {
        "colab": {
          "base_uri": "https://localhost:8080/"
        },
        "id": "aN7B9781DGzz",
        "outputId": "f3fd5b44-d461-4e39-98c5-3b097cc5b262"
      },
      "execution_count": 13,
      "outputs": [
        {
          "output_type": "execute_result",
          "data": {
            "text/plain": [
              "array([0.42968459, 0.72474237, 0.86414822])"
            ]
          },
          "metadata": {},
          "execution_count": 13
        }
      ]
    },
    {
      "cell_type": "code",
      "source": [
        "ran_arr1 = np.random.rand(3,3)\n",
        "ran_arr1"
      ],
      "metadata": {
        "colab": {
          "base_uri": "https://localhost:8080/"
        },
        "id": "sITCkkJrD2H1",
        "outputId": "968f36a9-78ea-46b2-f508-ee3c05f5d427"
      },
      "execution_count": 14,
      "outputs": [
        {
          "output_type": "execute_result",
          "data": {
            "text/plain": [
              "array([[0.53317228, 0.01629626, 0.19472516],\n",
              "       [0.7543154 , 0.9678279 , 0.99807502],\n",
              "       [0.61505981, 0.73377186, 0.74029029]])"
            ]
          },
          "metadata": {},
          "execution_count": 14
        }
      ]
    },
    {
      "cell_type": "code",
      "source": [
        "# To print random numnbers other than b/w 0 to 1. This prints 4 random numbers b/w 1 to 10\n",
        "random_ints = np.random.randint(1, 10, 4)\n",
        "random_ints"
      ],
      "metadata": {
        "colab": {
          "base_uri": "https://localhost:8080/"
        },
        "id": "LGD5qJvrIHMI",
        "outputId": "bd714e18-1636-4ffe-c89e-e09be9923376"
      },
      "execution_count": 18,
      "outputs": [
        {
          "output_type": "execute_result",
          "data": {
            "text/plain": [
              "array([4, 5, 3, 3])"
            ]
          },
          "metadata": {},
          "execution_count": 18
        }
      ]
    },
    {
      "cell_type": "code",
      "source": [
        "np.sum(random_ints)"
      ],
      "metadata": {
        "colab": {
          "base_uri": "https://localhost:8080/"
        },
        "id": "dzeGNNoUszv5",
        "outputId": "237d4dce-0a07-4613-96ac-24e11aadca9e"
      },
      "execution_count": 19,
      "outputs": [
        {
          "output_type": "execute_result",
          "data": {
            "text/plain": [
              "15"
            ]
          },
          "metadata": {},
          "execution_count": 19
        }
      ]
    },
    {
      "cell_type": "code",
      "source": [
        "# To retrieve just the diagnoal elements from a matrix\n",
        "np.diag(ran_arr1)"
      ],
      "metadata": {
        "colab": {
          "base_uri": "https://localhost:8080/"
        },
        "id": "U8IeqUxfEBaF",
        "outputId": "79923975-82e4-40e4-cc2f-9976fe9b71db"
      },
      "execution_count": 15,
      "outputs": [
        {
          "output_type": "execute_result",
          "data": {
            "text/plain": [
              "array([0.53317228, 0.9678279 , 0.74029029])"
            ]
          },
          "metadata": {},
          "execution_count": 15
        }
      ]
    },
    {
      "cell_type": "code",
      "source": [
        "# Count unique values in an array\n",
        "\n",
        "uniq_arr = np.array([1, 2, 3, 2, 1, 3, 4, 6, 5, 5, 6])\n",
        "uniques, counts = np.unique(uniq_arr, return_counts=True)\n",
        "print(uniques)\n",
        "print(counts)"
      ],
      "metadata": {
        "colab": {
          "base_uri": "https://localhost:8080/"
        },
        "id": "rmAc3reWEVfP",
        "outputId": "51f83e85-4764-4998-cbac-23fb70d910c9"
      },
      "execution_count": 23,
      "outputs": [
        {
          "output_type": "stream",
          "name": "stdout",
          "text": [
            "[1 2 3 4 5 6]\n",
            "[2 2 2 1 2 2]\n"
          ]
        }
      ]
    },
    {
      "cell_type": "code",
      "source": [
        "def count_unique(a):\n",
        "  for i in range(len(a)):\n",
        "    count = 0\n",
        "    for ele in a:\n",
        "      if (ele == a[i]):\n",
        "        count = count + 1\n",
        "    print(a[i], end=' ')\n",
        "    print(count, end=' ')\n",
        "    print()"
      ],
      "metadata": {
        "id": "blROkEQExJsp"
      },
      "execution_count": 83,
      "outputs": []
    },
    {
      "cell_type": "code",
      "source": [
        "inp_arr = [1, 2, 3, 2, 1, 3, 4, 1, 6, 5, 5, 6]\n",
        "count_unique(inp_arr)"
      ],
      "metadata": {
        "colab": {
          "base_uri": "https://localhost:8080/"
        },
        "id": "phmTcrKqyA9G",
        "outputId": "ac6acd48-3754-453d-f97e-db85488aea32"
      },
      "execution_count": 84,
      "outputs": [
        {
          "output_type": "stream",
          "name": "stdout",
          "text": [
            "1 3 \n",
            "2 2 \n",
            "3 2 \n",
            "2 2 \n",
            "1 3 \n",
            "3 2 \n",
            "4 1 \n",
            "1 3 \n",
            "6 2 \n",
            "5 2 \n",
            "5 2 \n",
            "6 2 \n"
          ]
        }
      ]
    },
    {
      "cell_type": "code",
      "source": [
        "print(inp_arr.count(3))"
      ],
      "metadata": {
        "colab": {
          "base_uri": "https://localhost:8080/"
        },
        "id": "bVIduffZyJW0",
        "outputId": "c3c284bc-0539-4899-9555-1a3212b992ae"
      },
      "execution_count": 59,
      "outputs": [
        {
          "output_type": "stream",
          "name": "stdout",
          "text": [
            "2\n"
          ]
        }
      ]
    },
    {
      "cell_type": "code",
      "source": [],
      "metadata": {
        "id": "4mAhPmlDzJ-I"
      },
      "execution_count": null,
      "outputs": []
    }
  ]
}