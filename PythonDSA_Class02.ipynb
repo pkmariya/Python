{
  "nbformat": 4,
  "nbformat_minor": 0,
  "metadata": {
    "colab": {
      "provenance": [],
      "authorship_tag": "ABX9TyPJlfiCBY137/TkuocYTNtx",
      "include_colab_link": true
    },
    "kernelspec": {
      "name": "python3",
      "display_name": "Python 3"
    },
    "language_info": {
      "name": "python"
    }
  },
  "cells": [
    {
      "cell_type": "markdown",
      "metadata": {
        "id": "view-in-github",
        "colab_type": "text"
      },
      "source": [
        "<a href=\"https://colab.research.google.com/github/pkmariya/Python/blob/main/PythonDSA_Class02.ipynb\" target=\"_parent\"><img src=\"https://colab.research.google.com/assets/colab-badge.svg\" alt=\"Open In Colab\"/></a>"
      ]
    },
    {
      "cell_type": "code",
      "execution_count": 35,
      "metadata": {
        "id": "y9BuUdBRyAui"
      },
      "outputs": [],
      "source": [
        "def find_median(A, N):\n",
        "  A.sort()\n",
        "\n",
        "  print(\"Sorted array is: \", sorted(A))\n",
        "  if N%2 == 0:\n",
        "    mid1 = N // 2\n",
        "    mid2 = mid1 - 1\n",
        "    median = (A[mid1] + A[mid2]) / 2\n",
        "  else:\n",
        "    mid = N // 2\n",
        "    median = A[mid]\n",
        "\n",
        "  return median"
      ]
    },
    {
      "cell_type": "code",
      "source": [
        "arr = [3, 5, 2, 1, 9, 4]\n",
        "# print(\"Sorted Array is: \", arr.sort())\n",
        "print(find_median(arr, len(arr)))"
      ],
      "metadata": {
        "colab": {
          "base_uri": "https://localhost:8080/"
        },
        "id": "ZQZCxoaBybC0",
        "outputId": "faa701eb-0d8f-487b-fd22-7988016bf9e4"
      },
      "execution_count": 38,
      "outputs": [
        {
          "output_type": "stream",
          "name": "stdout",
          "text": [
            "Sorted array is:  [1, 2, 3, 4, 5, 9]\n",
            "3.5\n"
          ]
        }
      ]
    },
    {
      "cell_type": "code",
      "source": [
        "# Return the count of elements in an array which is lesser than a given number\n",
        "def find_smaller(A, K):\n",
        "  count = 0\n",
        "  for i in range(len(A)):\n",
        "    if A[i] < K:\n",
        "      count += 1\n",
        "    \n",
        "  return count"
      ],
      "metadata": {
        "id": "VowLjAw_yvB0"
      },
      "execution_count": 39,
      "outputs": []
    },
    {
      "cell_type": "code",
      "source": [
        "arr = [10, 20, 30, 40, 50]\n",
        "print(find_smaller(arr, 30))"
      ],
      "metadata": {
        "colab": {
          "base_uri": "https://localhost:8080/"
        },
        "id": "f1Vy2Nqv1-Re",
        "outputId": "91891554-5d77-48cc-9892-a8c418a63839"
      },
      "execution_count": 40,
      "outputs": [
        {
          "output_type": "stream",
          "name": "stdout",
          "text": [
            "2\n"
          ]
        }
      ]
    },
    {
      "cell_type": "code",
      "source": [
        "from traitlets.config.loader import KeyValueConfigLoader\n",
        "def find_closest(A, K):\n",
        "  # temp = []\n",
        "  # for i in range(len(A)):\n",
        "  #   if A[i] < K:\n",
        "  #     temp.append(A[i])\n",
        "  # return max(temp)\n",
        "\n",
        "# Another Approach\n",
        "  nearest_smaller = float('-inf') \n",
        "  for ele in arr:\n",
        "    if ele < K:\n",
        "      nearest_smaller = max(nearest_smaller, ele)\n",
        "  return nearest_smaller\n"
      ],
      "metadata": {
        "id": "vtpdqsyG2Gul"
      },
      "execution_count": 59,
      "outputs": []
    },
    {
      "cell_type": "code",
      "source": [
        "arr = [10, 20, 30, 40, 50]\n",
        "print(find_closest(arr, 32))"
      ],
      "metadata": {
        "colab": {
          "base_uri": "https://localhost:8080/"
        },
        "id": "UrkVR1iF2tt5",
        "outputId": "14f68cd9-e263-44ff-8f15-3597ff47b387"
      },
      "execution_count": 60,
      "outputs": [
        {
          "output_type": "stream",
          "name": "stdout",
          "text": [
            "30\n"
          ]
        }
      ]
    },
    {
      "cell_type": "code",
      "source": [
        "from re import X\n",
        "def find_frequency(A, x, y):\n",
        "  cnt_x = 0\n",
        "  cnt_y = 0\n",
        "\n",
        "  if x in A:\n",
        "      cnt_x += 1\n",
        "  if y in A:\n",
        "    cnt_y += 1\n",
        "\n",
        "  if cnt_x == cnt_y:\n",
        "    if cnt_x < cnt_y:\n",
        "      return x\n",
        "    else:\n",
        "      return y\n",
        "  if cnt_x > cnt_y:\n",
        "    return x\n",
        "  else:\n",
        "    return y\n"
      ],
      "metadata": {
        "id": "bGzmrb-_5vbe"
      },
      "execution_count": 73,
      "outputs": []
    },
    {
      "cell_type": "code",
      "source": [
        " arr = [ 1, 1, 2, 3, 3, 4, 4, 4, 4, 5]\n",
        " print(find_frequency(arr, 4, 1))\n",
        "\n"
      ],
      "metadata": {
        "colab": {
          "base_uri": "https://localhost:8080/"
        },
        "id": "lzLPibwq23hx",
        "outputId": "3a51b4af-4109-4a1c-ba96-88fbfe50a101"
      },
      "execution_count": 79,
      "outputs": [
        {
          "output_type": "stream",
          "name": "stdout",
          "text": [
            "1\n"
          ]
        }
      ]
    },
    {
      "cell_type": "code",
      "source": [
        "# Find if a given array is Sorted or not?\n",
        "def find_if_sorted(A):\n",
        "  inc = 0\n",
        "  dec = 0\n",
        "  for i in range(len(A)-1):\n",
        "    if A[i] < A[i+1]:\n",
        "      inc += 1\n",
        "    elif A[i] > A[i+1]:\n",
        "      dec += 1\n",
        "\n",
        "  if (inc==0 or dec==0):\n",
        "    return \"Sorted\"\n",
        "\n",
        "  return \"Not Sorted\""
      ],
      "metadata": {
        "id": "T0m6WNRl6bF3"
      },
      "execution_count": 130,
      "outputs": []
    },
    {
      "cell_type": "code",
      "source": [
        "arr = [0, 0, 0, 2, 3, 3, 4, 4, 5]\n",
        "print(find_if_sorted(arr))"
      ],
      "metadata": {
        "colab": {
          "base_uri": "https://localhost:8080/"
        },
        "id": "Sf0pz2kQ7px8",
        "outputId": "633ba7e5-f1ba-484f-fc6e-982e1460aad9"
      },
      "execution_count": 128,
      "outputs": [
        {
          "output_type": "stream",
          "name": "stdout",
          "text": [
            "Sorted\n"
          ]
        }
      ]
    },
    {
      "cell_type": "code",
      "source": [
        "# Reverse the array\n",
        "def reverse_array(A):\n",
        "  start = 0\n",
        "  end = len(A)-1\n",
        "\n",
        "  while (start < end):\n",
        "    A[start], A[end] = A[end], A[start]\n",
        "    start += 1\n",
        "    end -= 1\n",
        "  \n",
        "  return A\n"
      ],
      "metadata": {
        "id": "IC6xGSmS74nc"
      },
      "execution_count": 164,
      "outputs": []
    },
    {
      "cell_type": "code",
      "source": [
        "arr = [2, 3, 4, 5, 6]\n",
        "print(reverse_array(arr))"
      ],
      "metadata": {
        "colab": {
          "base_uri": "https://localhost:8080/"
        },
        "id": "anx6BQ_UA3vB",
        "outputId": "ce65b0da-c9cd-47d4-a90d-980cfb063a4a"
      },
      "execution_count": 165,
      "outputs": [
        {
          "output_type": "stream",
          "name": "stdout",
          "text": [
            "[6, 5, 4, 3, 2]\n"
          ]
        }
      ]
    },
    {
      "cell_type": "code",
      "source": [
        "# Rotate the array from a given Index\n",
        "\n",
        "def rotate_array(A, index):\n",
        "  # temp = []\n",
        "  # for i in range(index):\n",
        "  #   temp.append(A[i])\n",
        "\n",
        "  # A = A[index:]\n",
        "  # A = A + temp\n",
        "  # return A\n",
        "\n",
        "  # Another Approach\n",
        "  temp = reverse_array(A)   # reverse the given array first\n",
        "  temp1 = temp[index:]      # take out first portion of the array till the index\n",
        "  temp2 = temp[:index]      # taek out the second portion of the array from the index\n",
        "  return reverse_array(temp2) + reverse_array(temp1)  # Now reverse the second & first portion and add them to form the final array"
      ],
      "metadata": {
        "id": "Tk43KSRHA9pg"
      },
      "execution_count": 215,
      "outputs": []
    },
    {
      "cell_type": "code",
      "source": [
        "arr = [1, 2, 7, 4, 5]\n",
        "print(rotate_array(arr, 2))"
      ],
      "metadata": {
        "colab": {
          "base_uri": "https://localhost:8080/"
        },
        "id": "nnEYY-hcCvvF",
        "outputId": "ac97c775-7a47-4701-9982-1d9418c82a66"
      },
      "execution_count": 216,
      "outputs": [
        {
          "output_type": "stream",
          "name": "stdout",
          "text": [
            "[4, 5, 1, 2, 7]\n"
          ]
        }
      ]
    },
    {
      "cell_type": "code",
      "source": [],
      "metadata": {
        "id": "-CZ2ro8QC8_5"
      },
      "execution_count": null,
      "outputs": []
    }
  ]
}