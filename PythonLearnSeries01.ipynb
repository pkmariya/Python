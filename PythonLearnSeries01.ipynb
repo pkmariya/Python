{
  "nbformat": 4,
  "nbformat_minor": 0,
  "metadata": {
    "colab": {
      "name": "PythonLearnSeries01.ipynb",
      "provenance": [],
      "authorship_tag": "ABX9TyP84a6nb4iwxu7DrCb7EKVW",
      "include_colab_link": true
    },
    "kernelspec": {
      "name": "python3",
      "display_name": "Python 3"
    },
    "language_info": {
      "name": "python"
    }
  },
  "cells": [
    {
      "cell_type": "markdown",
      "metadata": {
        "id": "view-in-github",
        "colab_type": "text"
      },
      "source": [
        "<a href=\"https://colab.research.google.com/github/pkmariya/Python/blob/master/PythonLearnSeries01.ipynb\" target=\"_parent\"><img src=\"https://colab.research.google.com/assets/colab-badge.svg\" alt=\"Open In Colab\"/></a>"
      ]
    },
    {
      "cell_type": "code",
      "execution_count": null,
      "metadata": {
        "id": "mCY9MQBDQSdU"
      },
      "outputs": [],
      "source": [
        "# Hello World in Python\n",
        "# Data Types\n",
        "# FCC\n",
        "# Objects\n",
        "# Small Integer Caching\n",
        "# Loops\n",
        "# Collections\n",
        "# Input Processing\n",
        "# Functions\n",
        "# Function Parameters (Positional, Keyword)\n",
        "# Lambda\n",
        "# Webscraping\n",
        "# Loops Vs Vectors (Performance Optimization)"
      ]
    },
    {
      "cell_type": "code",
      "source": [
        "# Hello World\n",
        "print(\"Hello World!\")"
      ],
      "metadata": {
        "colab": {
          "base_uri": "https://localhost:8080/"
        },
        "id": "e8MECmKiT44r",
        "outputId": "d5d455bf-67b8-4aeb-8b2b-6256333b523d"
      },
      "execution_count": null,
      "outputs": [
        {
          "output_type": "stream",
          "name": "stdout",
          "text": [
            "Hello World!\n"
          ]
        }
      ]
    },
    {
      "cell_type": "code",
      "source": [
        "# Data Types - Python is a dynamically typed language\n",
        "a = 10\n",
        "print(a)"
      ],
      "metadata": {
        "colab": {
          "base_uri": "https://localhost:8080/"
        },
        "id": "KPCVuutoT8Uc",
        "outputId": "d1e445a0-61a8-4740-a021-369e94a851bd"
      },
      "execution_count": null,
      "outputs": [
        {
          "output_type": "stream",
          "name": "stdout",
          "text": [
            "10\n"
          ]
        }
      ]
    },
    {
      "cell_type": "code",
      "source": [
        "a = 3.14\n",
        "print(a)"
      ],
      "metadata": {
        "colab": {
          "base_uri": "https://localhost:8080/"
        },
        "id": "z5Awyb8LUNAq",
        "outputId": "2d95e941-e5ee-47be-e1a7-23875d9d39bd"
      },
      "execution_count": null,
      "outputs": [
        {
          "output_type": "stream",
          "name": "stdout",
          "text": [
            "3.14\n"
          ]
        }
      ]
    },
    {
      "cell_type": "code",
      "source": [
        "a = \"Python\"\n",
        "print(a)"
      ],
      "metadata": {
        "colab": {
          "base_uri": "https://localhost:8080/"
        },
        "id": "ud2MwNYJUeZI",
        "outputId": "2c56a955-5f6c-4c3c-bb40-b3d370f89174"
      },
      "execution_count": null,
      "outputs": [
        {
          "output_type": "stream",
          "name": "stdout",
          "text": [
            "Python\n"
          ]
        }
      ]
    },
    {
      "cell_type": "code",
      "source": [
        "a = True\n",
        "print(a)"
      ],
      "metadata": {
        "colab": {
          "base_uri": "https://localhost:8080/"
        },
        "id": "6HYO-or2Ug-R",
        "outputId": "9eece974-c9e4-473c-b39f-ad90175ed1d2"
      },
      "execution_count": null,
      "outputs": [
        {
          "output_type": "stream",
          "name": "stdout",
          "text": [
            "True\n"
          ]
        }
      ]
    },
    {
      "cell_type": "code",
      "source": [
        "a = []\n",
        "print(a)"
      ],
      "metadata": {
        "colab": {
          "base_uri": "https://localhost:8080/"
        },
        "id": "hfJgheqnUks8",
        "outputId": "2ef78a5e-95ed-4789-d081-b0eff9296ed6"
      },
      "execution_count": null,
      "outputs": [
        {
          "output_type": "stream",
          "name": "stdout",
          "text": [
            "[]\n"
          ]
        }
      ]
    },
    {
      "cell_type": "code",
      "source": [
        "# FCC - First Class Citizen\n",
        "intVal = 98765432139287492349729347923749273497234\n",
        "print(intVal)"
      ],
      "metadata": {
        "colab": {
          "base_uri": "https://localhost:8080/"
        },
        "id": "K-ZL69IbUs1e",
        "outputId": "18b17da1-f2c1-45b0-8255-2e9316807507"
      },
      "execution_count": null,
      "outputs": [
        {
          "output_type": "stream",
          "name": "stdout",
          "text": [
            "98765432139287492349729347923749273497234\n"
          ]
        }
      ]
    },
    {
      "cell_type": "code",
      "source": [
        "# Objects - Everything in Python is an Object\n",
        "intVal = 10\n",
        "print(type(intVal))"
      ],
      "metadata": {
        "colab": {
          "base_uri": "https://localhost:8080/"
        },
        "id": "xvJgrponU3PO",
        "outputId": "38fcd66f-1f0a-4a8c-b2f1-2e78cffe4850"
      },
      "execution_count": null,
      "outputs": [
        {
          "output_type": "stream",
          "name": "stdout",
          "text": [
            "<class 'int'>\n"
          ]
        }
      ]
    },
    {
      "cell_type": "code",
      "source": [
        "isinstance(intVal, object)"
      ],
      "metadata": {
        "colab": {
          "base_uri": "https://localhost:8080/"
        },
        "id": "rt0pKwO4VLGI",
        "outputId": "74aadbcf-e225-453b-ab06-2e13956f8109"
      },
      "execution_count": null,
      "outputs": [
        {
          "output_type": "execute_result",
          "data": {
            "text/plain": [
              "True"
            ]
          },
          "metadata": {},
          "execution_count": 15
        }
      ]
    },
    {
      "cell_type": "code",
      "source": [
        "floatVal = 3.14\n",
        "isinstance(floatVal, object)"
      ],
      "metadata": {
        "colab": {
          "base_uri": "https://localhost:8080/"
        },
        "id": "4cLHuBHRVPib",
        "outputId": "99b35f62-38da-43a7-9a52-29f88cee0f80"
      },
      "execution_count": null,
      "outputs": [
        {
          "output_type": "execute_result",
          "data": {
            "text/plain": [
              "True"
            ]
          },
          "metadata": {},
          "execution_count": 16
        }
      ]
    },
    {
      "cell_type": "code",
      "source": [
        "myString = \"Python\"\n",
        "isinstance(myString, object)"
      ],
      "metadata": {
        "colab": {
          "base_uri": "https://localhost:8080/"
        },
        "id": "4fqcGUI2VVml",
        "outputId": "fc64fd0e-5e8b-4eab-f245-ae4057ac6ec6"
      },
      "execution_count": null,
      "outputs": [
        {
          "output_type": "execute_result",
          "data": {
            "text/plain": [
              "True"
            ]
          },
          "metadata": {},
          "execution_count": 17
        }
      ]
    },
    {
      "cell_type": "code",
      "source": [
        "print(type(myString))"
      ],
      "metadata": {
        "colab": {
          "base_uri": "https://localhost:8080/"
        },
        "id": "JESiZ4FzVb12",
        "outputId": "e7218bd2-ee0b-43ab-b09f-59245abcb86b"
      },
      "execution_count": null,
      "outputs": [
        {
          "output_type": "stream",
          "name": "stdout",
          "text": [
            "<class 'str'>\n"
          ]
        }
      ]
    },
    {
      "cell_type": "code",
      "source": [
        "# Small Integer Caching (-5 to 256)\n",
        "a = 10\n",
        "print(id(a))"
      ],
      "metadata": {
        "colab": {
          "base_uri": "https://localhost:8080/"
        },
        "id": "mEkNxs8_VfAC",
        "outputId": "ca11dcbd-b6a4-40a3-bc8a-6c3fe5b7235b"
      },
      "execution_count": null,
      "outputs": [
        {
          "output_type": "stream",
          "name": "stdout",
          "text": [
            "11256352\n"
          ]
        }
      ]
    },
    {
      "cell_type": "code",
      "source": [
        "b = 10\n",
        "print(id(b))"
      ],
      "metadata": {
        "colab": {
          "base_uri": "https://localhost:8080/"
        },
        "id": "Kp9xRN78Vnvl",
        "outputId": "24cb532c-4f2c-4ce9-b5bb-160cf428489c"
      },
      "execution_count": null,
      "outputs": [
        {
          "output_type": "stream",
          "name": "stdout",
          "text": [
            "11256352\n"
          ]
        }
      ]
    },
    {
      "cell_type": "code",
      "source": [
        "c = -7\n",
        "print(id(c))"
      ],
      "metadata": {
        "colab": {
          "base_uri": "https://localhost:8080/"
        },
        "id": "gl3Ek9XBVqjL",
        "outputId": "1587cdae-3ceb-4a34-fe64-0dfaf5c91220"
      },
      "execution_count": null,
      "outputs": [
        {
          "output_type": "stream",
          "name": "stdout",
          "text": [
            "140334462657744\n"
          ]
        }
      ]
    },
    {
      "cell_type": "code",
      "source": [
        "d = -7\n",
        "print(id(d))"
      ],
      "metadata": {
        "colab": {
          "base_uri": "https://localhost:8080/"
        },
        "id": "9O_qKt8XV02q",
        "outputId": "9213d6fb-e62c-4c44-e3c2-d0fe84c79c91"
      },
      "execution_count": null,
      "outputs": [
        {
          "output_type": "stream",
          "name": "stdout",
          "text": [
            "140334462659216\n"
          ]
        }
      ]
    },
    {
      "cell_type": "code",
      "source": [
        "e = 256\n",
        "print(id(e))"
      ],
      "metadata": {
        "colab": {
          "base_uri": "https://localhost:8080/"
        },
        "id": "vDk8VeCmV3xt",
        "outputId": "5ac87acb-9c0b-49e1-affb-968fb78d406a"
      },
      "execution_count": null,
      "outputs": [
        {
          "output_type": "stream",
          "name": "stdout",
          "text": [
            "11264224\n"
          ]
        }
      ]
    },
    {
      "cell_type": "code",
      "source": [
        "f = 256\n",
        "print(id(e))"
      ],
      "metadata": {
        "colab": {
          "base_uri": "https://localhost:8080/"
        },
        "id": "uNPXW8aMV8Md",
        "outputId": "3babfd7c-a11b-46f1-c493-f0ac44782fbb"
      },
      "execution_count": null,
      "outputs": [
        {
          "output_type": "stream",
          "name": "stdout",
          "text": [
            "11264224\n"
          ]
        }
      ]
    },
    {
      "cell_type": "code",
      "source": [
        "g = 257 \n",
        "print(id(g))"
      ],
      "metadata": {
        "colab": {
          "base_uri": "https://localhost:8080/"
        },
        "id": "LMkc9vPGV-wj",
        "outputId": "54cf5c4e-9e37-4ce7-b9ae-c7aeb321a8ad"
      },
      "execution_count": null,
      "outputs": [
        {
          "output_type": "stream",
          "name": "stdout",
          "text": [
            "140334462659312\n"
          ]
        }
      ]
    },
    {
      "cell_type": "code",
      "source": [
        "h = 257\n",
        "print(id(h))"
      ],
      "metadata": {
        "colab": {
          "base_uri": "https://localhost:8080/"
        },
        "id": "d5BcN8ZfWBkH",
        "outputId": "96ea891c-2dab-4696-e2fe-3dc53948ab8d"
      },
      "execution_count": null,
      "outputs": [
        {
          "output_type": "stream",
          "name": "stdout",
          "text": [
            "140334462660432\n"
          ]
        }
      ]
    },
    {
      "cell_type": "code",
      "source": [
        "# Loops - for, while \n",
        "for i in range(10):\n",
        "  print(i)"
      ],
      "metadata": {
        "colab": {
          "base_uri": "https://localhost:8080/"
        },
        "id": "hjwgmC7FWFI0",
        "outputId": "0859470d-ade5-4d36-9158-207137ea73d4"
      },
      "execution_count": null,
      "outputs": [
        {
          "output_type": "stream",
          "name": "stdout",
          "text": [
            "0\n",
            "1\n",
            "2\n",
            "3\n",
            "4\n",
            "5\n",
            "6\n",
            "7\n",
            "8\n",
            "9\n"
          ]
        }
      ]
    },
    {
      "cell_type": "code",
      "source": [
        "myString = \"This is a String\"\n",
        "for chr in myString:\n",
        "  print(chr)"
      ],
      "metadata": {
        "colab": {
          "base_uri": "https://localhost:8080/"
        },
        "id": "uSWtPVZWWUO0",
        "outputId": "f419b339-716f-4953-d0ab-f3764beba070"
      },
      "execution_count": null,
      "outputs": [
        {
          "output_type": "stream",
          "name": "stdout",
          "text": [
            "T\n",
            "h\n",
            "i\n",
            "s\n",
            " \n",
            "i\n",
            "s\n",
            " \n",
            "a\n",
            " \n",
            "S\n",
            "t\n",
            "r\n",
            "i\n",
            "n\n",
            "g\n"
          ]
        }
      ]
    },
    {
      "cell_type": "code",
      "source": [
        "myArray = [1, 5, 7, 3, 10, 55, 100, 78, 34, 0, 15]\n",
        "for item in myArray:\n",
        "  print(item)"
      ],
      "metadata": {
        "colab": {
          "base_uri": "https://localhost:8080/"
        },
        "id": "Byz5kIkTWfcm",
        "outputId": "b775ae69-a657-45c0-e0d1-bf97898f4f45"
      },
      "execution_count": null,
      "outputs": [
        {
          "output_type": "stream",
          "name": "stdout",
          "text": [
            "1\n",
            "5\n",
            "7\n",
            "3\n",
            "10\n",
            "55\n",
            "100\n",
            "78\n",
            "34\n",
            "0\n",
            "15\n"
          ]
        }
      ]
    },
    {
      "cell_type": "code",
      "source": [
        "teamMembers = [\"Kishore\", \"Monisha\", \"Sree\", \"Karthik\", \"Preeti\", \"Venkat\", \"Prince\", \"Satish\"]\n",
        "print(teamMembers)"
      ],
      "metadata": {
        "colab": {
          "base_uri": "https://localhost:8080/"
        },
        "id": "EoddYBFLWrrX",
        "outputId": "4df4db07-f35f-4ca5-f203-89987914d204"
      },
      "execution_count": null,
      "outputs": [
        {
          "output_type": "stream",
          "name": "stdout",
          "text": [
            "['Kishore', 'Monisha', 'Sree', 'Karthik', 'Preeti', 'Venkat', 'Prince', 'Satish']\n"
          ]
        }
      ]
    },
    {
      "cell_type": "code",
      "source": [
        "for name in teamMembers:\n",
        "  print(name)"
      ],
      "metadata": {
        "colab": {
          "base_uri": "https://localhost:8080/"
        },
        "id": "u0Y4wSZvX-1h",
        "outputId": "cd8bfac8-b93d-4a19-9886-e246b1f446d8"
      },
      "execution_count": null,
      "outputs": [
        {
          "output_type": "stream",
          "name": "stdout",
          "text": [
            "Kishore\n",
            "Monisha\n",
            "Sree\n",
            "Karthik\n",
            "Preeti\n",
            "Venkat\n",
            "Prince\n",
            "Satish\n"
          ]
        }
      ]
    },
    {
      "cell_type": "code",
      "source": [
        "# Collections - List, Tuple, Set, Dict\n",
        "# List is a heterogenous, ordered data collection; allows duplicates, denoted by []\n",
        "# Set is a heterogenous, unordered, unchangeable, doesn't allow duplicates, denoted by {}\n",
        "# Dict is a key value pair, ordered, changeble data collection, denoted by {}\n",
        "# Tuple ordered and unchangeable, allows duplicate values, denoted by ()\n",
        "  myList = [100, 3.14, \"Python\", True, [10, 20, 30], \"Python\", 10, 100, 3.14]\n",
        "print(myList)"
      ],
      "metadata": {
        "colab": {
          "base_uri": "https://localhost:8080/"
        },
        "id": "WIAfXo9rYGEg",
        "outputId": "15f008f4-8a9a-4c6e-8dcc-ed65cc70425e"
      },
      "execution_count": null,
      "outputs": [
        {
          "output_type": "stream",
          "name": "stdout",
          "text": [
            "[100, 3.14, 'Python', True, [10, 20, 30], 'Python', 10, 100, 3.14]\n"
          ]
        }
      ]
    },
    {
      "cell_type": "code",
      "source": [
        "print(*myList)"
      ],
      "metadata": {
        "colab": {
          "base_uri": "https://localhost:8080/"
        },
        "id": "J6k3aTEhZUeW",
        "outputId": "77078578-42d9-454f-eec0-9011259d5cb1"
      },
      "execution_count": null,
      "outputs": [
        {
          "output_type": "stream",
          "name": "stdout",
          "text": [
            "100 3.14 Python True [10, 20, 30] Python 10 100 3.14\n"
          ]
        }
      ]
    },
    {
      "cell_type": "code",
      "source": [
        "for i in myList:\n",
        "  print(i)"
      ],
      "metadata": {
        "colab": {
          "base_uri": "https://localhost:8080/"
        },
        "id": "bynXCfIjZWq_",
        "outputId": "5a9ca255-3031-481f-c20d-7e6aa226f900"
      },
      "execution_count": null,
      "outputs": [
        {
          "output_type": "stream",
          "name": "stdout",
          "text": [
            "100\n",
            "3.14\n",
            "Python\n",
            "True\n",
            "[10, 20, 30]\n",
            "Python\n",
            "10\n",
            "100\n",
            "3.14\n"
          ]
        }
      ]
    },
    {
      "cell_type": "code",
      "source": [
        "myList.append(200)\n",
        "print(*myList)"
      ],
      "metadata": {
        "colab": {
          "base_uri": "https://localhost:8080/"
        },
        "id": "XQA9giW5Zc7i",
        "outputId": "3337c5d6-07c6-4ace-dcaa-3039f331fbb8"
      },
      "execution_count": null,
      "outputs": [
        {
          "output_type": "stream",
          "name": "stdout",
          "text": [
            "100 3.14 Python True [10, 20, 30] Python 10 100 3.14 200\n"
          ]
        }
      ]
    },
    {
      "cell_type": "code",
      "source": [
        "myList.insert(1, \"inserted value\")\n",
        "print(*myList)"
      ],
      "metadata": {
        "colab": {
          "base_uri": "https://localhost:8080/"
        },
        "id": "uVjhjdwraMzc",
        "outputId": "2156fe21-c2ad-48d1-f778-79434134691a"
      },
      "execution_count": null,
      "outputs": [
        {
          "output_type": "stream",
          "name": "stdout",
          "text": [
            "100 inserted value 3.14 Python True [10, 20, 30] Python 10 100 3.14 200\n"
          ]
        }
      ]
    },
    {
      "cell_type": "code",
      "source": [
        "myList[1] = \"again changed\"\n",
        "print(myList)"
      ],
      "metadata": {
        "colab": {
          "base_uri": "https://localhost:8080/"
        },
        "id": "nteLOFIwayu2",
        "outputId": "4bddebba-3bd9-4ecc-e89d-d2c79edfc292"
      },
      "execution_count": null,
      "outputs": [
        {
          "output_type": "stream",
          "name": "stdout",
          "text": [
            "[100, 'again changed', 3.14, 'Python', True, [10, 20, 30], 'Python', 10, 100, 3.14, 200]\n"
          ]
        }
      ]
    },
    {
      "cell_type": "code",
      "source": [
        "myList.remove(200)\n",
        "print(myList)"
      ],
      "metadata": {
        "colab": {
          "base_uri": "https://localhost:8080/"
        },
        "id": "LFX8cD-YbANq",
        "outputId": "13627967-6256-4034-f0c3-f7270a8c3838"
      },
      "execution_count": null,
      "outputs": [
        {
          "output_type": "stream",
          "name": "stdout",
          "text": [
            "[100, 'again changed', 3.14, 'Python', True, [10, 20, 30], 'Python', 10, 100, 3.14]\n"
          ]
        }
      ]
    },
    {
      "cell_type": "code",
      "source": [
        "myList.insert(-0, \"200\")\n",
        "print(myList)"
      ],
      "metadata": {
        "colab": {
          "base_uri": "https://localhost:8080/"
        },
        "id": "sTe3_hwRcO8v",
        "outputId": "12b52496-14db-4417-b29d-299d68eff182"
      },
      "execution_count": null,
      "outputs": [
        {
          "output_type": "stream",
          "name": "stdout",
          "text": [
            "['200', 100, 'again changed', 3.14, 'Python', True, [10, 20, 30], 'Python', 10, 100, '200', 3.14]\n"
          ]
        }
      ]
    },
    {
      "cell_type": "code",
      "source": [
        "myList.remove(\"200\")\n",
        "print(myList)"
      ],
      "metadata": {
        "colab": {
          "base_uri": "https://localhost:8080/"
        },
        "id": "RK6HCTq6cZmQ",
        "outputId": "d99f693a-2998-4236-9f96-5a211898f82a"
      },
      "execution_count": null,
      "outputs": [
        {
          "output_type": "stream",
          "name": "stdout",
          "text": [
            "[100, 'again changed', 3.14, 'Python', True, [10, 20, 30], 'Python', 10, 100, '200', 3.14]\n"
          ]
        }
      ]
    },
    {
      "cell_type": "code",
      "source": [
        "\n",
        "print(myList.pop())"
      ],
      "metadata": {
        "colab": {
          "base_uri": "https://localhost:8080/"
        },
        "id": "SHh7Vrqzcv16",
        "outputId": "e586ea1a-4992-4fc1-e4ef-b2e88cfa67db"
      },
      "execution_count": null,
      "outputs": [
        {
          "output_type": "stream",
          "name": "stdout",
          "text": [
            "Python\n"
          ]
        }
      ]
    },
    {
      "cell_type": "code",
      "source": [
        "print(myList)"
      ],
      "metadata": {
        "colab": {
          "base_uri": "https://localhost:8080/"
        },
        "id": "noQ3oxsmdAc4",
        "outputId": "69bd96f1-913b-45e1-cdba-38f04e363b2c"
      },
      "execution_count": null,
      "outputs": [
        {
          "output_type": "stream",
          "name": "stdout",
          "text": [
            "[100, 'again changed', 3.14, 'Python', True, [10, 20, 30]]\n"
          ]
        }
      ]
    },
    {
      "cell_type": "code",
      "source": [
        "[print(x) for x in myList]"
      ],
      "metadata": {
        "colab": {
          "base_uri": "https://localhost:8080/"
        },
        "id": "yj8GfzqSdPWP",
        "outputId": "7ad64bd3-e543-4d68-9a81-a7c7cb6c40d1"
      },
      "execution_count": null,
      "outputs": [
        {
          "output_type": "stream",
          "name": "stdout",
          "text": [
            "100\n",
            "again changed\n",
            "3.14\n",
            "Python\n",
            "True\n",
            "[10, 20, 30]\n"
          ]
        },
        {
          "output_type": "execute_result",
          "data": {
            "text/plain": [
              "[None, None, None, None, None, None]"
            ]
          },
          "metadata": {},
          "execution_count": 63
        }
      ]
    },
    {
      "cell_type": "code",
      "source": [
        "myList.pop()"
      ],
      "metadata": {
        "colab": {
          "base_uri": "https://localhost:8080/"
        },
        "id": "29QiEklCdhUo",
        "outputId": "61709063-fb73-4f5b-f93f-6d502100d2f5"
      },
      "execution_count": null,
      "outputs": [
        {
          "output_type": "execute_result",
          "data": {
            "text/plain": [
              "[10, 20, 30]"
            ]
          },
          "metadata": {},
          "execution_count": 68
        }
      ]
    },
    {
      "cell_type": "code",
      "source": [
        "print(myList)"
      ],
      "metadata": {
        "colab": {
          "base_uri": "https://localhost:8080/"
        },
        "id": "QnokaLrGdyL3",
        "outputId": "a0662369-6c9b-47ee-e78f-762f5c252281"
      },
      "execution_count": null,
      "outputs": [
        {
          "output_type": "stream",
          "name": "stdout",
          "text": [
            "[100, 'again changed', 3.14, 'Python', True]\n"
          ]
        }
      ]
    },
    {
      "cell_type": "code",
      "source": [
        "numbersList = [1, 2, 3, 4, 5, 6, 7, 8, 9, 10, 11, 12, 13, 14, 15, 16, 17, 18, 19, 20]\n",
        "print(numbersList)"
      ],
      "metadata": {
        "colab": {
          "base_uri": "https://localhost:8080/"
        },
        "id": "fWhShGa5eRm0",
        "outputId": "a0d02027-373d-4159-f91e-0aa5a516f391"
      },
      "execution_count": null,
      "outputs": [
        {
          "output_type": "stream",
          "name": "stdout",
          "text": [
            "[1, 2, 3, 4, 5, 6, 7, 8, 9, 10, 11, 12, 13, 14, 15, 16, 17, 18, 19, 20]\n"
          ]
        }
      ]
    },
    {
      "cell_type": "code",
      "source": [
        "for num in numbersList:\n",
        "  if num % 2 == 0:\n",
        "    print(num)"
      ],
      "metadata": {
        "colab": {
          "base_uri": "https://localhost:8080/"
        },
        "id": "5PhMDytaecVP",
        "outputId": "60803461-d62c-451f-e679-e9f7d65c3ebc"
      },
      "execution_count": null,
      "outputs": [
        {
          "output_type": "stream",
          "name": "stdout",
          "text": [
            "2\n",
            "4\n",
            "6\n",
            "8\n",
            "10\n",
            "12\n",
            "14\n",
            "16\n",
            "18\n",
            "20\n"
          ]
        }
      ]
    },
    {
      "cell_type": "code",
      "source": [
        "[print(num) for num in numbersList if num%2!=0]"
      ],
      "metadata": {
        "colab": {
          "base_uri": "https://localhost:8080/"
        },
        "id": "PAREibXXefus",
        "outputId": "6849bd88-6cab-4c87-d886-f94738e416a4"
      },
      "execution_count": null,
      "outputs": [
        {
          "output_type": "stream",
          "name": "stdout",
          "text": [
            "1\n",
            "3\n",
            "5\n",
            "7\n",
            "9\n",
            "11\n",
            "13\n",
            "15\n",
            "17\n",
            "19\n"
          ]
        },
        {
          "output_type": "execute_result",
          "data": {
            "text/plain": [
              "[None, None, None, None, None, None, None, None, None, None]"
            ]
          },
          "metadata": {},
          "execution_count": 74
        }
      ]
    },
    {
      "cell_type": "code",
      "source": [
        "print(myList)"
      ],
      "metadata": {
        "colab": {
          "base_uri": "https://localhost:8080/"
        },
        "id": "6BqCKe2Kevb_",
        "outputId": "83bda17a-e820-41a3-9f99-fd752e2d8148"
      },
      "execution_count": null,
      "outputs": [
        {
          "output_type": "stream",
          "name": "stdout",
          "text": [
            "[100, 'again changed', 3.14, 'Python', True]\n"
          ]
        }
      ]
    },
    {
      "cell_type": "code",
      "source": [
        "print(numbersList)"
      ],
      "metadata": {
        "colab": {
          "base_uri": "https://localhost:8080/"
        },
        "id": "4yOpw-j_fXAg",
        "outputId": "c9fd6d71-2bd9-49e4-8c5d-c4421ae9bfe0"
      },
      "execution_count": null,
      "outputs": [
        {
          "output_type": "stream",
          "name": "stdout",
          "text": [
            "[1, 2, 3, 4, 5, 6, 7, 8, 9, 10, 11, 12, 13, 14, 15, 16, 17, 18, 19, 20]\n"
          ]
        }
      ]
    },
    {
      "cell_type": "code",
      "source": [
        "myName = input(\" Pls enter your name\")\n",
        "print(\"Hello\", myName)"
      ],
      "metadata": {
        "colab": {
          "base_uri": "https://localhost:8080/"
        },
        "id": "DASyFp68fasI",
        "outputId": "2a1f0492-9fbb-4046-979a-aa6241e2adbf"
      },
      "execution_count": null,
      "outputs": [
        {
          "output_type": "stream",
          "name": "stdout",
          "text": [
            " Pls enter your namePython\n",
            "Hello Python\n"
          ]
        }
      ]
    },
    {
      "cell_type": "code",
      "source": [
        "myAge = int(input(\"Please enter your age\"))\n",
        "print(f\"My age is: {myAge}\")"
      ],
      "metadata": {
        "colab": {
          "base_uri": "https://localhost:8080/"
        },
        "id": "ENXJiwpajipi",
        "outputId": "784efe66-ad29-4206-b8b4-4261f874c17d"
      },
      "execution_count": null,
      "outputs": [
        {
          "output_type": "stream",
          "name": "stdout",
          "text": [
            "Please enter your age27\n",
            "My age is: 27\n"
          ]
        }
      ]
    },
    {
      "cell_type": "code",
      "source": [
        "aTup = (1, 2, 3, 4, 5, 6, 7, 8, 9, 0)\n",
        "aLis = [1, 2, 3, 4, 5, 6, 7, 8, 9, 0]\n",
        "print(aTup.__sizeof__())\n",
        "print(aLis.__sizeof__())"
      ],
      "metadata": {
        "id": "MnNw3y0Sj-Ro",
        "colab": {
          "base_uri": "https://localhost:8080/"
        },
        "outputId": "528600cc-a078-4bca-96e5-3bbf944e15aa"
      },
      "execution_count": null,
      "outputs": [
        {
          "output_type": "stream",
          "name": "stdout",
          "text": [
            "104\n",
            "120\n"
          ]
        }
      ]
    },
    {
      "cell_type": "markdown",
      "source": [
        "# Lambda"
      ],
      "metadata": {
        "id": "UGezOsVeuluB"
      }
    },
    {
      "cell_type": "code",
      "source": [
        "x = lambda a, b : a*b\n",
        "print(x(5, 10))"
      ],
      "metadata": {
        "id": "cVTtniiElEYk",
        "colab": {
          "base_uri": "https://localhost:8080/"
        },
        "outputId": "a756fde2-e51c-4ab3-9f4d-e8a753e34d95"
      },
      "execution_count": null,
      "outputs": [
        {
          "output_type": "stream",
          "name": "stdout",
          "text": [
            "50\n"
          ]
        }
      ]
    },
    {
      "cell_type": "code",
      "source": [
        "# def addFunc(a, b):\n",
        "#   return lambda a, b : a + b\n",
        "\n",
        "# result = addFunc(10, 15)\n",
        "result = lambda a, b : a + b\n",
        "print(result(12, 15))"
      ],
      "metadata": {
        "colab": {
          "base_uri": "https://localhost:8080/"
        },
        "id": "w5xWniqhu4v1",
        "outputId": "7b6ef5f4-a2ff-4887-b4b5-7fd0ce11ae16"
      },
      "execution_count": null,
      "outputs": [
        {
          "output_type": "stream",
          "name": "stdout",
          "text": [
            "27\n"
          ]
        }
      ]
    },
    {
      "cell_type": "markdown",
      "source": [
        "## Sorting Algorithms"
      ],
      "metadata": {
        "id": "Vljb2xppmZ66"
      }
    },
    {
      "cell_type": "markdown",
      "source": [
        "# Selection Sort"
      ],
      "metadata": {
        "id": "BTafzv0zmnH5"
      }
    },
    {
      "cell_type": "markdown",
      "source": [
        "# Selection Sort using min() method\n",
        "\n",
        "PSEUDO CODE:\n",
        "\n",
        "1. FIND MIN VALUE OF THE ARRAY USING min() METHOD\n",
        "2. FIND THE INDEX OF MIN VALUE FOUND IN STEP 1\n",
        "3. SWAP THE VALUES B/W NEWLY FOUND MIN INDEX AND PREVIOUS MIN INDEX LOCATIONS"
      ],
      "metadata": {
        "id": "CHp1Cxh9mr1M"
      }
    },
    {
      "cell_type": "code",
      "source": [
        "arr = [10, 3, 9, 1, 0, 12, 21, 5, 1, 8, 4, 3, 6]\n",
        "\n",
        "def selSort(arr):\n",
        "  for i in range(len(arr)-1):\n",
        "    min_val = min(arr[i:])\n",
        "    min_ind = arr.index(min_val, i)\n",
        "\n",
        "    if arr[min_ind] != arr[i]:\n",
        "      arr[i], arr[min_ind] = arr[min_ind], arr[i]\n",
        "\n",
        "  return arr\n",
        "\n",
        "print(\"Before Sorting: \", arr)\n",
        "print(\"After Soring  : \", selSort(arr))"
      ],
      "metadata": {
        "colab": {
          "base_uri": "https://localhost:8080/"
        },
        "id": "2iMfp9ztmx8s",
        "outputId": "d3919ca6-b1e5-47fc-e787-d9d033345195"
      },
      "execution_count": null,
      "outputs": [
        {
          "output_type": "stream",
          "name": "stdout",
          "text": [
            "Before Sorting:  [10, 3, 9, 1, 0, 12, 21, 5, 1, 8, 4, 3, 6]\n",
            "After Soring  :  [0, 1, 1, 3, 3, 4, 5, 6, 8, 9, 10, 12, 21]\n"
          ]
        }
      ]
    },
    {
      "cell_type": "markdown",
      "source": [
        "# Selection Sort Generic Way (without using min() method)\n",
        "\n",
        "PSEUDO CODE:\n",
        "1. ASSUME MINIMUM INDEX IS OF THE FIRST ELEMENT IN ARRAY\n",
        "2. TRAVERSE THROUGH THE ARRAY TO FIND NEXT MIN INDEX\n",
        "3. SWAP THE VALUES OF CURRENT MIN INDEX AND NEW MIN INDEX "
      ],
      "metadata": {
        "id": "XDE68UutpKj2"
      }
    },
    {
      "cell_type": "code",
      "source": [
        "arr = [10, 3, 9, 1, 0, 12, 21, 5, 1, 8, 4, 3, 6]\n",
        "\n",
        "def selSort(arr):\n",
        "  for i in range(len(arr)-1):\n",
        "    min_ind = i\n",
        "\n",
        "    for j in range(i+1, len(arr)):\n",
        "      if arr[j] < arr[min_ind]:\n",
        "        min_ind = j\n",
        "\n",
        "    if arr[min_ind] != arr[i]:\n",
        "      arr[i], arr[min_ind] = arr[min_ind], arr[i]\n",
        "\n",
        "  return arr\n",
        "\n",
        "print(\"Befoer Sorting: \", arr)\n",
        "print(\"After Soring  : \", selSort(arr))\n"
      ],
      "metadata": {
        "id": "SQKavzhHzAQC",
        "colab": {
          "base_uri": "https://localhost:8080/"
        },
        "outputId": "b714a2c6-a939-4933-802d-5266a2cc4df3"
      },
      "execution_count": null,
      "outputs": [
        {
          "output_type": "stream",
          "name": "stdout",
          "text": [
            "Befoer Sorting:  [10, 3, 9, 1, 0, 12, 21, 5, 1, 8, 4, 3, 6]\n",
            "After Soring  :  [0, 1, 1, 3, 3, 4, 5, 6, 8, 9, 10, 12, 21]\n"
          ]
        }
      ]
    },
    {
      "cell_type": "markdown",
      "source": [
        "# Vectors are better & faster than loops especially for large datasets\n",
        "\n",
        "### Vector Vs Loops - Usecase 1. Sum the large numbers"
      ],
      "metadata": {
        "id": "XeGlZFMxrofg"
      }
    },
    {
      "cell_type": "code",
      "source": [
        "# Sum of n numbers using loops\n",
        "import time\n",
        "\n",
        "start_time = time.time()\n",
        "\n",
        "# iterations to sum the numbers\n",
        "total = 0 \n",
        "for num in range(0, 1500000):\n",
        "  total += num\n",
        "\n",
        "print(\"Sum is: \", str(total))\n",
        "\n",
        "end_time = time.time()\n",
        "\n",
        "print(\"Time taken to find the total is: \", round(end_time - start_time, 2))\n",
        "\n"
      ],
      "metadata": {
        "colab": {
          "base_uri": "https://localhost:8080/"
        },
        "id": "SqgFbTgAroKN",
        "outputId": "80023a84-7f0f-4f8d-c915-9b014416d695"
      },
      "execution_count": 3,
      "outputs": [
        {
          "output_type": "stream",
          "name": "stdout",
          "text": [
            "Sum is:  1124999250000\n",
            "Time taken to find the total is:  0.19\n"
          ]
        }
      ]
    },
    {
      "cell_type": "code",
      "source": [
        "# the same above program using Vector\n",
        "import numpy as np\n",
        "\n",
        "start_time = time.time()\n",
        "print(np.sum(np.arange(1500000)))\n",
        "end_time = time.time()\n",
        "\n",
        "print(\"Time taken to find the total is: \", round(end_time - start_time, 2))"
      ],
      "metadata": {
        "colab": {
          "base_uri": "https://localhost:8080/"
        },
        "id": "5RUQRYdPr4Ni",
        "outputId": "b2f34532-8570-4f77-a6f9-a5ba5604a00d"
      },
      "execution_count": 5,
      "outputs": [
        {
          "output_type": "stream",
          "name": "stdout",
          "text": [
            "1124999250000\n",
            "Time taken to find the total is:  0.02\n"
          ]
        }
      ]
    },
    {
      "cell_type": "markdown",
      "source": [
        "### Vector Vs Loops - Usecase 2. Randome numbers in millions"
      ],
      "metadata": {
        "id": "KDRdS5ZAs-j8"
      }
    },
    {
      "cell_type": "code",
      "source": [
        "# Create a dataset with random numbers b/w 1 to 50 of 50L rows and 4 Columns\n",
        "\n",
        "import pandas as pd\n",
        "\n",
        "df = pd.DataFrame(np.random.randint(1, 50, size=(5000000, 4)), columns=('a', 'b', 'c', 'd'))\n",
        "print(\"DataSet Shape: \", df.shape)\n",
        "print()\n",
        "print(df.head())"
      ],
      "metadata": {
        "colab": {
          "base_uri": "https://localhost:8080/"
        },
        "id": "HLCxnRNbsj8y",
        "outputId": "bf9abfff-8eca-4256-90df-4f11448b351c"
      },
      "execution_count": 11,
      "outputs": [
        {
          "output_type": "stream",
          "name": "stdout",
          "text": [
            "DataSet Shape:  (5000000, 4)\n",
            "\n",
            "    a   b   c   d\n",
            "0  34   3  32  14\n",
            "1  15  12  27   9\n",
            "2  40   3  40  27\n",
            "3  47  40  30  35\n",
            "4  19   3  39  14\n"
          ]
        }
      ]
    },
    {
      "cell_type": "code",
      "source": [
        "# Let's create a new column 'ratio' to find the ratio of the last two columns. \n",
        "\n",
        "start_time = time.time()\n",
        "\n",
        "for idx, row in df.iterrows():\n",
        "  # Create a new column\n",
        "  df.at[idx, 'ratio'] = 100 * (row['d'] / row['c'])\n",
        "\n",
        "\n",
        "end_time = time.time()\n",
        "\n",
        "print(\"Time taken to add Ratio column with values to the dataset is:\", round(end_time - start_time, 2))"
      ],
      "metadata": {
        "colab": {
          "base_uri": "https://localhost:8080/"
        },
        "id": "x9RxrNjEtJQD",
        "outputId": "7aef195f-3922-4f50-a17c-9e982f0566a1"
      },
      "execution_count": 12,
      "outputs": [
        {
          "output_type": "stream",
          "name": "stdout",
          "text": [
            "Time taken to add Ratio column with values to the dataset is: 353.38\n"
          ]
        }
      ]
    },
    {
      "cell_type": "code",
      "source": [
        "# Now the same above program using Vector\n",
        "\n",
        "start_time = time.time()\n",
        "df['ratio'] = 100 * (df['d'] / df['c'])\n",
        "end_time = time.time()\n",
        "\n",
        "print(\"Time taken to add Ratio column to the given dataset is: \", round(end_time - start_time, 2))"
      ],
      "metadata": {
        "colab": {
          "base_uri": "https://localhost:8080/"
        },
        "id": "2uBcaTXSuR-u",
        "outputId": "dd736696-9e9c-40c3-98ef-eb3148344a34"
      },
      "execution_count": 13,
      "outputs": [
        {
          "output_type": "stream",
          "name": "stdout",
          "text": [
            "Time taken to add Ratio column to the given dataset is:  0.06\n"
          ]
        }
      ]
    },
    {
      "cell_type": "markdown",
      "source": [
        "### Vector Vs Loops - Usecase 3. multiple if else conditions"
      ],
      "metadata": {
        "id": "jEV_uzyfwL_S"
      }
    },
    {
      "cell_type": "code",
      "source": [
        "# Let's add a new column 'e' based on some conditions checks on column a and values from b & c\n",
        "\n",
        "start_time = time.time()\n",
        "\n",
        "for idx, row in df.iterrows():\n",
        "  if row.a == 0:\n",
        "    df.at[idx, 'e'] = row.d\n",
        "  elif (row.a <= 25) & (row.a > 0):\n",
        "    df.at[idx, 'e'] = (row.b) - (row.c)\n",
        "  else:\n",
        "    df.at[idx, 'e'] = row.b + row.c\n",
        "\n",
        "end_time = time.time()\n",
        "\n",
        "print(\"Time taken to add a new column based on if else conditions is: \", round(end_time - start_time, 2))"
      ],
      "metadata": {
        "colab": {
          "base_uri": "https://localhost:8080/"
        },
        "id": "fvEB-BrkwLb6",
        "outputId": "ffb05f96-7e82-4783-ecbb-875438370c02"
      },
      "execution_count": 14,
      "outputs": [
        {
          "output_type": "stream",
          "name": "stdout",
          "text": [
            "Time taken to add a new column based on if else condistions is:  524.26\n"
          ]
        }
      ]
    },
    {
      "cell_type": "code",
      "source": [
        "# Now the same above program using vector\n",
        "start_time = time.time()\n",
        "\n",
        "df['e'] = df['b'] + df['c']\n",
        "\n",
        "df.loc[df['a'] <= 25, 'e'] = df['b'] - df['c']\n",
        "df.loc[df['a'] == 0, 'e'] = df['d']\n",
        "\n",
        "end_time = time.time()\n",
        "\n",
        "print(\"Time taken to add a new column based on if else conditions is: \", round(end_time - start_time, 2))"
      ],
      "metadata": {
        "colab": {
          "base_uri": "https://localhost:8080/"
        },
        "id": "wcQiVYK1xFLh",
        "outputId": "0bf71655-b200-4b65-ac74-6e54232b663d"
      },
      "execution_count": 15,
      "outputs": [
        {
          "output_type": "stream",
          "name": "stdout",
          "text": [
            "Time taken to add a new column based on if else conditions is:  0.26\n"
          ]
        }
      ]
    },
    {
      "cell_type": "markdown",
      "source": [
        "### Vector Vs Loops - Usecase 4. Complex equations of ML & DL"
      ],
      "metadata": {
        "id": "SQOgiQx_n85k"
      }
    },
    {
      "cell_type": "code",
      "source": [
        "import numpy as np\n",
        "# Create the Data\n",
        "# setting up initial values of m\n",
        "m = np.random.rand(1, 5)\n",
        "\n",
        "# input values for 5 million rows\n",
        "x = np.random.rand(5000000, 5)"
      ],
      "metadata": {
        "id": "hJFxsN3WoD_t"
      },
      "execution_count": 2,
      "outputs": []
    },
    {
      "cell_type": "code",
      "source": [
        "m"
      ],
      "metadata": {
        "colab": {
          "base_uri": "https://localhost:8080/"
        },
        "id": "zD7XBL03oFrW",
        "outputId": "217bc961-71ec-4bcc-eef2-b323dcd02ed1"
      },
      "execution_count": 3,
      "outputs": [
        {
          "output_type": "execute_result",
          "data": {
            "text/plain": [
              "array([[0.35781481, 0.54078048, 0.85680369, 0.77160514, 0.44782093]])"
            ]
          },
          "metadata": {},
          "execution_count": 3
        }
      ]
    },
    {
      "cell_type": "code",
      "source": [
        "x"
      ],
      "metadata": {
        "colab": {
          "base_uri": "https://localhost:8080/"
        },
        "id": "hKEzyupWoYc3",
        "outputId": "3df2c2f2-f619-407b-ab88-474fc83f27ce"
      },
      "execution_count": 4,
      "outputs": [
        {
          "output_type": "execute_result",
          "data": {
            "text/plain": [
              "array([[5.17017551e-01, 8.84477047e-04, 1.13342843e-01, 9.47311893e-01,\n",
              "        3.08069853e-01],\n",
              "       [2.43585402e-01, 1.62666969e-01, 5.62181453e-03, 3.37202309e-01,\n",
              "        5.48988915e-01],\n",
              "       [5.68233853e-01, 6.11469723e-01, 4.60000766e-01, 6.85009742e-01,\n",
              "        4.64943035e-01],\n",
              "       ...,\n",
              "       [8.69085344e-01, 6.50594159e-01, 7.47099914e-01, 8.58150297e-01,\n",
              "        8.96962258e-01],\n",
              "       [7.32790207e-01, 3.48185734e-01, 6.81300934e-01, 4.15042150e-01,\n",
              "        9.94421720e-01],\n",
              "       [2.86884039e-01, 7.57673038e-01, 9.45944607e-01, 4.97757995e-01,\n",
              "        5.03799232e-01]])"
            ]
          },
          "metadata": {},
          "execution_count": 4
        }
      ]
    },
    {
      "cell_type": "code",
      "source": [
        "# Using Loops\n",
        "\n",
        "import time\n",
        "\n",
        "m = np.random.rand(1, 5)\n",
        "x = np.random.rand(5000000, 5)\n",
        "\n",
        "tic = time.process_time()\n",
        "\n",
        "for i in range(0, 5000000):\n",
        "  total = 0\n",
        "  for j in range(0, 5):\n",
        "    total = total + x[i][j] * m[0][j]\n",
        "\n",
        "toc = time.process_time()\n",
        "\n",
        "print(\"Computation time = \" + str(round(toc - tic, 2)) + \"Seconds\")"
      ],
      "metadata": {
        "colab": {
          "base_uri": "https://localhost:8080/"
        },
        "id": "1-MPDykioaEC",
        "outputId": "5ae48aed-91f0-43f7-e4d7-0ef85524cb2d"
      },
      "execution_count": 13,
      "outputs": [
        {
          "output_type": "stream",
          "name": "stdout",
          "text": [
            "Computation time = 21.04Seconds\n"
          ]
        }
      ]
    },
    {
      "cell_type": "code",
      "source": [
        "# Using Vector\n",
        "\n",
        "tic = time.process_time()\n",
        "\n",
        "# dot product\n",
        "np.dot (x, m.T)\n",
        "\n",
        "toc = time.process_time()\n",
        "\n",
        "print(\"Computation time = \" + str(round(toc - tic, 2)) + \" Seconds\")"
      ],
      "metadata": {
        "colab": {
          "base_uri": "https://localhost:8080/"
        },
        "id": "4MJwOhD4pD99",
        "outputId": "9668dba1-d22b-4295-e6ad-e6c452ac914e"
      },
      "execution_count": 12,
      "outputs": [
        {
          "output_type": "stream",
          "name": "stdout",
          "text": [
            "Computation time = 0.1 Seconds\n"
          ]
        }
      ]
    },
    {
      "cell_type": "markdown",
      "source": [
        "### Conclusion\n",
        "Vectorization in python is super fast and should be preferred over loops, whenever we are working with very large datasets."
      ],
      "metadata": {
        "id": "_IDTiKeFqMeW"
      }
    },
    {
      "cell_type": "code",
      "source": [],
      "metadata": {
        "id": "kPns78Q3p-kt"
      },
      "execution_count": null,
      "outputs": []
    }
  ]
}