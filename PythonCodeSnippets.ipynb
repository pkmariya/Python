{
  "nbformat": 4,
  "nbformat_minor": 0,
  "metadata": {
    "colab": {
      "name": "PythonCodeSnippets.ipynb",
      "provenance": [],
      "authorship_tag": "ABX9TyMTtg76uWhkQ6hr9FVEQxSc",
      "include_colab_link": true
    },
    "kernelspec": {
      "name": "python3",
      "display_name": "Python 3"
    },
    "language_info": {
      "name": "python"
    }
  },
  "cells": [
    {
      "cell_type": "markdown",
      "metadata": {
        "id": "view-in-github",
        "colab_type": "text"
      },
      "source": [
        "<a href=\"https://colab.research.google.com/github/pkmariya/Python/blob/master/PythonCodeSnippets.ipynb\" target=\"_parent\"><img src=\"https://colab.research.google.com/assets/colab-badge.svg\" alt=\"Open In Colab\"/></a>"
      ]
    },
    {
      "cell_type": "markdown",
      "source": [
        "# Factorial\n",
        "\n",
        "'''\n",
        "Steps:\n",
        "1. if the number is <0 raise an Exception prompting the user to enter positive number \n",
        "2. if the give number is 0 or 1 then the factorial is 1, so return 1\n",
        "3. Now, get into recursive loop of finding factorial\n",
        "'''"
      ],
      "metadata": {
        "id": "8iS9TbxnqHBw"
      }
    },
    {
      "cell_type": "code",
      "execution_count": 17,
      "metadata": {
        "id": "mbKq2FR1qB5n"
      },
      "outputs": [],
      "source": [
        "def myFactorial(n):\n",
        "  if n < 0 :\n",
        "    raise Exception(\"Pls enter a positive number\")\n",
        "  \n",
        "  if n==0 or n==1:\n",
        "    return 1\n",
        "\n",
        "  return n * myFactorial(n-1)"
      ]
    },
    {
      "cell_type": "code",
      "source": [
        "n = int(input(\"Please enter a number\"))\n",
        "print(f\"Factorial of {n} is, \", myFactorial(n))"
      ],
      "metadata": {
        "colab": {
          "base_uri": "https://localhost:8080/"
        },
        "id": "rUldRQmsq3Xt",
        "outputId": "d2737015-756c-4f83-c137-ccf99c5e4e97"
      },
      "execution_count": 19,
      "outputs": [
        {
          "output_type": "stream",
          "name": "stdout",
          "text": [
            "Please enter a number5\n",
            "Factorial of 5 is,  120\n"
          ]
        }
      ]
    },
    {
      "cell_type": "code",
      "source": [
        ""
      ],
      "metadata": {
        "id": "GGjtMQcMq7t0"
      },
      "execution_count": null,
      "outputs": []
    }
  ]
}