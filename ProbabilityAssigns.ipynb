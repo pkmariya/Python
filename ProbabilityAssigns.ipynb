{
  "nbformat": 4,
  "nbformat_minor": 0,
  "metadata": {
    "colab": {
      "provenance": [],
      "authorship_tag": "ABX9TyP/uffqeAyF+NE4XZuedNoX",
      "include_colab_link": true
    },
    "kernelspec": {
      "name": "python3",
      "display_name": "Python 3"
    },
    "language_info": {
      "name": "python"
    }
  },
  "cells": [
    {
      "cell_type": "markdown",
      "metadata": {
        "id": "view-in-github",
        "colab_type": "text"
      },
      "source": [
        "<a href=\"https://colab.research.google.com/github/pkmariya/Python/blob/master/ProbabilityAssigns.ipynb\" target=\"_parent\"><img src=\"https://colab.research.google.com/assets/colab-badge.svg\" alt=\"Open In Colab\"/></a>"
      ]
    },
    {
      "cell_type": "code",
      "execution_count": null,
      "metadata": {
        "colab": {
          "base_uri": "https://localhost:8080/"
        },
        "id": "xG5lgplpE8vo",
        "outputId": "756bdb8e-b805-4a18-ae04-48a1a9a0af3f"
      },
      "outputs": [
        {
          "output_type": "stream",
          "name": "stdout",
          "text": [
            "[2, 2]\n"
          ]
        }
      ],
      "source": [
        "def display(a, b):\n",
        "  alice_score = 0\n",
        "  bob_score = 0\n",
        "    \n",
        "  result = []\n",
        "    \n",
        "  for i in range(len(a)):\n",
        "    if a[i]==b[i]:\n",
        "      continue\n",
        "    elif a[i] > b[i]:\n",
        "      alice_score = alice_score + 1\n",
        "    else:\n",
        "      bob_score += 1\n",
        "  \t    \n",
        "  result = [alice_score, bob_score]\n",
        "  \n",
        "  return result\n",
        "   \n",
        "   \n",
        "   \n",
        "x = [3, 2, 1, 3, 0, 5]\n",
        "y = [1, 3, 1, 4, 0, 2]\n",
        "\n",
        "print(display(x, y))"
      ]
    },
    {
      "cell_type": "code",
      "source": [
        "arr = [-4, 3, -9, 0, 4, 1]\n",
        "posCnt, negCnt, zeroCnt = 0, 0, 0\n",
        "for i in arr:\n",
        "  if i/2>0:\n",
        "    posCnt += 1\n",
        "  elif i/2<0:\n",
        "    negCnt += 1\n",
        "  else:\n",
        "    zeroCnt += 1\n",
        "\n",
        "print(posCnt, negCnt, zeroCnt)"
      ],
      "metadata": {
        "colab": {
          "base_uri": "https://localhost:8080/"
        },
        "id": "ONGVwISdLoqr",
        "outputId": "4d240b2f-32c7-4383-effa-a1712212aab4"
      },
      "execution_count": null,
      "outputs": [
        {
          "output_type": "stream",
          "name": "stdout",
          "text": [
            "3 2 1\n"
          ]
        }
      ]
    },
    {
      "cell_type": "code",
      "source": [
        "def staircase(n):\n",
        "    # Write your code here\n",
        "    for i in range(n):\n",
        "        print(' ', '#')\n",
        "\n",
        "staircase(5)"
      ],
      "metadata": {
        "id": "JkXJ5Q3nMSGY",
        "colab": {
          "base_uri": "https://localhost:8080/"
        },
        "outputId": "23da198b-7205-4bbf-d13f-04f88b1a6273"
      },
      "execution_count": null,
      "outputs": [
        {
          "output_type": "stream",
          "name": "stdout",
          "text": [
            "  #\n",
            "  #\n",
            "  #\n",
            "  #\n",
            "  #\n"
          ]
        }
      ]
    },
    {
      "cell_type": "code",
      "source": [
        "from scipy.stats import poisson\n",
        "from scipy.stats import binom"
      ],
      "metadata": {
        "id": "1wHKiUPjNv2Q"
      },
      "execution_count": null,
      "outputs": []
    },
    {
      "cell_type": "code",
      "source": [
        "P5 = poisson.pmf(k=5, mu=3)\n",
        "P5"
      ],
      "metadata": {
        "colab": {
          "base_uri": "https://localhost:8080/"
        },
        "id": "7u5l0f7Ok24t",
        "outputId": "fe65d893-31c1-4a51-931e-919d74646196"
      },
      "execution_count": null,
      "outputs": [
        {
          "output_type": "execute_result",
          "data": {
            "text/plain": [
              "0.10081881344492458"
            ]
          },
          "metadata": {},
          "execution_count": 24
        }
      ]
    },
    {
      "cell_type": "code",
      "source": [
        "# P[X=1] Exactly 1\n",
        "P1 = poisson.pmf(k=1, mu=3)\n",
        "P1"
      ],
      "metadata": {
        "colab": {
          "base_uri": "https://localhost:8080/"
        },
        "id": "G6gx2FlLlAhL",
        "outputId": "855aff74-42db-4f8b-a372-f08fb12dc7ba"
      },
      "execution_count": null,
      "outputs": [
        {
          "output_type": "execute_result",
          "data": {
            "text/plain": [
              "0.14936120510359185"
            ]
          },
          "metadata": {},
          "execution_count": 25
        }
      ]
    },
    {
      "cell_type": "code",
      "source": [
        "# P[X=0] Exactly 0\n",
        "P0 = poisson.pmf(k=0, mu=3)\n",
        "P0"
      ],
      "metadata": {
        "colab": {
          "base_uri": "https://localhost:8080/"
        },
        "id": "HfC9vAjMlYsG",
        "outputId": "452ba5dc-30f2-47da-a559-3400ff19b40d"
      },
      "execution_count": null,
      "outputs": [
        {
          "output_type": "execute_result",
          "data": {
            "text/plain": [
              "0.049787068367863944"
            ]
          },
          "metadata": {},
          "execution_count": 26
        }
      ]
    },
    {
      "cell_type": "code",
      "source": [
        "# P[X<=1] atleast 1\n",
        "val = P0 + P1\n",
        "val"
      ],
      "metadata": {
        "colab": {
          "base_uri": "https://localhost:8080/"
        },
        "id": "CLa1MM1YleK0",
        "outputId": "33d22593-857b-4a91-af1f-ffd27dcd4406"
      },
      "execution_count": null,
      "outputs": [
        {
          "output_type": "execute_result",
          "data": {
            "text/plain": [
              "0.1991482734714558"
            ]
          },
          "metadata": {},
          "execution_count": 27
        }
      ]
    },
    {
      "cell_type": "code",
      "source": [
        "# P[X<=1] atleast 1\n",
        "res = poisson.cdf(k=1, mu=3)\n",
        "res"
      ],
      "metadata": {
        "colab": {
          "base_uri": "https://localhost:8080/"
        },
        "id": "Uc2QYOIRlgYY",
        "outputId": "2c2b3c45-0fe9-4e68-8692-c8347112e02c"
      },
      "execution_count": null,
      "outputs": [
        {
          "output_type": "execute_result",
          "data": {
            "text/plain": [
              "0.1991482734714558"
            ]
          },
          "metadata": {},
          "execution_count": 28
        }
      ]
    },
    {
      "cell_type": "code",
      "source": [
        "msg_result = poisson.cdf(k=1, mu=2)\n",
        "msg_result"
      ],
      "metadata": {
        "colab": {
          "base_uri": "https://localhost:8080/"
        },
        "id": "fLFfYVfHl34R",
        "outputId": "2696df45-83d3-4896-dec6-b269f7800eac"
      },
      "execution_count": null,
      "outputs": [
        {
          "output_type": "execute_result",
          "data": {
            "text/plain": [
              "0.40600584970983794"
            ]
          },
          "metadata": {},
          "execution_count": 41
        }
      ]
    },
    {
      "cell_type": "code",
      "source": [
        "# Probability that in 2 hours atleast 7 customer. P[X>=7]\n",
        "result = poisson.cdf(k=6, mu=18.5)\n",
        "1 - result\n"
      ],
      "metadata": {
        "colab": {
          "base_uri": "https://localhost:8080/"
        },
        "id": "vrDqkUIsma8k",
        "outputId": "7d71d94b-bb1f-42f1-b337-3ba32a208a30"
      },
      "execution_count": null,
      "outputs": [
        {
          "output_type": "execute_result",
          "data": {
            "text/plain": [
              "0.9992622541111789"
            ]
          },
          "metadata": {},
          "execution_count": 40
        }
      ]
    },
    {
      "cell_type": "code",
      "source": [
        "res = poisson.pmf(k=3, mu=1.2)\n",
        "res"
      ],
      "metadata": {
        "colab": {
          "base_uri": "https://localhost:8080/"
        },
        "id": "jRRx_LsumkS_",
        "outputId": "a65c5595-42c6-46a9-fe93-36de586840e8"
      },
      "execution_count": null,
      "outputs": [
        {
          "output_type": "execute_result",
          "data": {
            "text/plain": [
              "0.08674393303071422"
            ]
          },
          "metadata": {},
          "execution_count": 46
        }
      ]
    },
    {
      "cell_type": "code",
      "source": [
        "from scipy.stats import binom\n",
        "res1 = binom.pmf(n=80, k=3, p=0.015)\n",
        "res1\n",
        "\n"
      ],
      "metadata": {
        "colab": {
          "base_uri": "https://localhost:8080/"
        },
        "id": "Ae9RYZJtqu7w",
        "outputId": "6796f091-7e97-4039-a837-01783fb1ff22"
      },
      "execution_count": null,
      "outputs": [
        {
          "output_type": "execute_result",
          "data": {
            "text/plain": [
              "0.08660120920447566"
            ]
          },
          "metadata": {},
          "execution_count": 1
        }
      ]
    },
    {
      "cell_type": "code",
      "source": [
        "80/0.015"
      ],
      "metadata": {
        "colab": {
          "base_uri": "https://localhost:8080/"
        },
        "id": "J4U44d1Trv6w",
        "outputId": "aee57557-5a16-4b8b-86da-50e6eb285ca5"
      },
      "execution_count": null,
      "outputs": [
        {
          "output_type": "execute_result",
          "data": {
            "text/plain": [
              "5333.333333333334"
            ]
          },
          "metadata": {},
          "execution_count": 44
        }
      ]
    },
    {
      "cell_type": "code",
      "source": [
        "80*0.015"
      ],
      "metadata": {
        "colab": {
          "base_uri": "https://localhost:8080/"
        },
        "id": "0V_F5KhFryzU",
        "outputId": "6ee2d6a6-63b4-4962-a303-ccc1b561dd63"
      },
      "execution_count": null,
      "outputs": [
        {
          "output_type": "execute_result",
          "data": {
            "text/plain": [
              "1.2"
            ]
          },
          "metadata": {},
          "execution_count": 45
        }
      ]
    },
    {
      "cell_type": "code",
      "source": [
        "power_failure = poisson.cdf(k=1, mu=3/20)\n",
        "power_failure"
      ],
      "metadata": {
        "id": "UXr_PurXr8CJ",
        "colab": {
          "base_uri": "https://localhost:8080/"
        },
        "outputId": "5cbe8bc1-9ace-4321-c1e2-26fdc005e047"
      },
      "execution_count": null,
      "outputs": [
        {
          "output_type": "execute_result",
          "data": {
            "text/plain": [
              "0.9898141728888165"
            ]
          },
          "metadata": {},
          "execution_count": 22
        }
      ]
    },
    {
      "cell_type": "code",
      "source": [
        "birthday = poisson.pmf(k=1, mu=499/365)\n",
        "birthday"
      ],
      "metadata": {
        "colab": {
          "base_uri": "https://localhost:8080/"
        },
        "id": "ZKqd3GsDeFTL",
        "outputId": "2878345a-b31b-4272-d215-ecd6b65392f4"
      },
      "execution_count": null,
      "outputs": [
        {
          "output_type": "execute_result",
          "data": {
            "text/plain": [
              "0.34839633781319934"
            ]
          },
          "metadata": {},
          "execution_count": 23
        }
      ]
    },
    {
      "cell_type": "code",
      "source": [
        "coke1 = (binom.pmf(n=570, k=550, p=20))\n",
        "print(coke1)\n",
        "\n"
      ],
      "metadata": {
        "colab": {
          "base_uri": "https://localhost:8080/"
        },
        "id": "TZzUs35gefmp",
        "outputId": "453cff6b-5a56-468d-f19a-5e5d0343ade6"
      },
      "execution_count": null,
      "outputs": [
        {
          "output_type": "stream",
          "name": "stdout",
          "text": [
            "nan\n"
          ]
        }
      ]
    },
    {
      "cell_type": "code",
      "source": [
        "trees1 = poisson.cdf(k=15, mu=(0.25*74))\n",
        "trees2 = poisson.cdf(k=7, mu=0.25*74)\n",
        "print(round(trees1,3))\n",
        "round(1-trees2,3)"
      ],
      "metadata": {
        "colab": {
          "base_uri": "https://localhost:8080/"
        },
        "id": "t_7YVtfChMbT",
        "outputId": "cccb9244-529d-47b5-95b3-5a9331a55530"
      },
      "execution_count": null,
      "outputs": [
        {
          "output_type": "stream",
          "name": "stdout",
          "text": [
            "0.249\n"
          ]
        },
        {
          "output_type": "execute_result",
          "data": {
            "text/plain": [
              "0.998"
            ]
          },
          "metadata": {},
          "execution_count": 85
        }
      ]
    },
    {
      "cell_type": "code",
      "source": [
        "vehicle1 = norm.cdf(48,loc=46.8,scale=1.75)\n",
        "vehicle1"
      ],
      "metadata": {
        "colab": {
          "base_uri": "https://localhost:8080/"
        },
        "id": "OB39g2NBkNCC",
        "outputId": "e37436ed-c83b-48f1-f8ab-c2ca7e92a398"
      },
      "execution_count": null,
      "outputs": [
        {
          "output_type": "execute_result",
          "data": {
            "text/plain": [
              "0.7535533517801833"
            ]
          },
          "metadata": {},
          "execution_count": 20
        }
      ]
    },
    {
      "cell_type": "code",
      "source": [
        "vehicle2 = norm.cdf(44,loc=46.8,scale=1.75)\n",
        "1-vehicle2"
      ],
      "metadata": {
        "colab": {
          "base_uri": "https://localhost:8080/"
        },
        "id": "wU0B1x3FmWua",
        "outputId": "cad428d7-a7de-431b-b4e5-e68da80670ac"
      },
      "execution_count": null,
      "outputs": [
        {
          "output_type": "execute_result",
          "data": {
            "text/plain": [
              "0.9452007083004418"
            ]
          },
          "metadata": {},
          "execution_count": 22
        }
      ]
    },
    {
      "cell_type": "code",
      "source": [
        "arr = [7, 3, 5, 1, 9]\n",
        "arr"
      ],
      "metadata": {
        "id": "S2b6i4fHkWPE",
        "colab": {
          "base_uri": "https://localhost:8080/"
        },
        "outputId": "c8446ada-0625-46c7-9988-f1adeb2bb866"
      },
      "execution_count": null,
      "outputs": [
        {
          "output_type": "execute_result",
          "data": {
            "text/plain": [
              "[7, 3, 5, 1, 9]"
            ]
          },
          "metadata": {},
          "execution_count": 94
        }
      ]
    },
    {
      "cell_type": "code",
      "source": [
        "def miniMaxSum(arr):\n",
        "    # Write your code here\n",
        "    arr.sort()\n",
        "    total = 0\n",
        "    n = len(arr)\n",
        "    for i in arr:\n",
        "        total += i\n",
        "        \n",
        "    minSum = total - arr[n-1]\n",
        "    maxSum = total - arr[0]\n",
        "    \n",
        "    print(minSum)\n",
        "    print(maxSum)\n",
        "miniMaxSum(arr)"
      ],
      "metadata": {
        "colab": {
          "base_uri": "https://localhost:8080/"
        },
        "id": "zLnFmS__yPU-",
        "outputId": "35953428-a30d-4e81-8cef-afe75b77cf50"
      },
      "execution_count": null,
      "outputs": [
        {
          "output_type": "stream",
          "name": "stdout",
          "text": [
            "16\n",
            "24\n"
          ]
        }
      ]
    },
    {
      "cell_type": "code",
      "source": [
        "def solve(n):\n",
        "  for i in range(0, n):\n",
        "    print(i)\n",
        "\n",
        "solve(5)"
      ],
      "metadata": {
        "colab": {
          "base_uri": "https://localhost:8080/"
        },
        "id": "CGLWAU2bzELq",
        "outputId": "05509be0-3ee3-4322-d915-f27dca198398"
      },
      "execution_count": null,
      "outputs": [
        {
          "output_type": "stream",
          "name": "stdout",
          "text": [
            "0\n",
            "1\n",
            "2\n",
            "3\n",
            "4\n"
          ]
        }
      ]
    },
    {
      "cell_type": "code",
      "source": [
        "from scipy.stats import norm\n"
      ],
      "metadata": {
        "id": "Roo4y4GPZqr7"
      },
      "execution_count": null,
      "outputs": []
    },
    {
      "cell_type": "code",
      "source": [
        "coke1 = norm.cdf(520,loc=550,scale=20)\n",
        "print(round(coke1, 3))"
      ],
      "metadata": {
        "colab": {
          "base_uri": "https://localhost:8080/"
        },
        "id": "_EVQi5xLkyuT",
        "outputId": "3d0874aa-e683-4876-e23b-f2b64b90a949"
      },
      "execution_count": null,
      "outputs": [
        {
          "output_type": "stream",
          "name": "stdout",
          "text": [
            "0.067\n"
          ]
        }
      ]
    },
    {
      "cell_type": "code",
      "source": [
        "coke2 = norm.cdf(570,loc=550,scale=20)\n",
        "print(1-round(coke2, 3))"
      ],
      "metadata": {
        "colab": {
          "base_uri": "https://localhost:8080/"
        },
        "id": "Gl12Ztpyk7fO",
        "outputId": "2f92b4bb-f2dc-4930-9c54-7b3582d47819"
      },
      "execution_count": null,
      "outputs": [
        {
          "output_type": "stream",
          "name": "stdout",
          "text": [
            "0.15900000000000003\n"
          ]
        }
      ]
    },
    {
      "cell_type": "code",
      "source": [
        "cement = norm.cdf(40.012,loc=50,scale=2)\n",
        "x = 50\n",
        "print(round(1-cement,2))"
      ],
      "metadata": {
        "colab": {
          "base_uri": "https://localhost:8080/"
        },
        "id": "1YiUXl4gmCLp",
        "outputId": "03ed2775-fb9f-4a55-b2e1-fedb7d71e748"
      },
      "execution_count": null,
      "outputs": [
        {
          "output_type": "stream",
          "name": "stdout",
          "text": [
            "1.0\n"
          ]
        }
      ]
    },
    {
      "cell_type": "code",
      "source": [
        "days = binom.pmf(n=50, k=2, p=1)\n",
        "days"
      ],
      "metadata": {
        "colab": {
          "base_uri": "https://localhost:8080/"
        },
        "id": "X7D_aEBlnBgf",
        "outputId": "b5dd94da-d1d6-456e-dd13-a7d09af06e8c"
      },
      "execution_count": null,
      "outputs": [
        {
          "output_type": "execute_result",
          "data": {
            "text/plain": [
              "0.0"
            ]
          },
          "metadata": {},
          "execution_count": 47
        }
      ]
    },
    {
      "cell_type": "code",
      "source": [
        "from scipy.stats import geom\n",
        "covid = poisson.pmf(1, 100*0.3)\n",
        "covid"
      ],
      "metadata": {
        "colab": {
          "base_uri": "https://localhost:8080/"
        },
        "id": "Qgs6nPYFtQ6t",
        "outputId": "9b44f9c7-65ed-43aa-b26c-c1eb904080e6"
      },
      "execution_count": null,
      "outputs": [
        {
          "output_type": "execute_result",
          "data": {
            "text/plain": [
              "2.807286890652049e-12"
            ]
          },
          "metadata": {},
          "execution_count": 58
        }
      ]
    },
    {
      "cell_type": "code",
      "source": [
        "res = binom.pmf(n=60, k=1, p=8)\n",
        "res"
      ],
      "metadata": {
        "colab": {
          "base_uri": "https://localhost:8080/"
        },
        "id": "HG1riGfivsX3",
        "outputId": "bb4522c4-6f89-4e79-d425-d684b80c7b97"
      },
      "execution_count": null,
      "outputs": [
        {
          "output_type": "execute_result",
          "data": {
            "text/plain": [
              "nan"
            ]
          },
          "metadata": {},
          "execution_count": 16
        }
      ]
    },
    {
      "cell_type": "code",
      "source": [
        "2.5/5400"
      ],
      "metadata": {
        "colab": {
          "base_uri": "https://localhost:8080/"
        },
        "id": "nA4qv-cTz7Vo",
        "outputId": "d60fc3bb-aad8-4793-b54c-0fa73a72c11b"
      },
      "execution_count": null,
      "outputs": [
        {
          "output_type": "execute_result",
          "data": {
            "text/plain": [
              "0.000462962962962963"
            ]
          },
          "metadata": {},
          "execution_count": 10
        }
      ]
    },
    {
      "cell_type": "code",
      "source": [
        "outcome = poisson.pmf(k=1, mu=8/60)\n",
        "outcome"
      ],
      "metadata": {
        "colab": {
          "base_uri": "https://localhost:8080/"
        },
        "id": "LAQBDxlEz9Ec",
        "outputId": "bb7c7092-9d60-438b-e7fe-b55fab72cc59"
      },
      "execution_count": null,
      "outputs": [
        {
          "output_type": "execute_result",
          "data": {
            "text/plain": [
              "0.11668977587239301"
            ]
          },
          "metadata": {},
          "execution_count": 18
        }
      ]
    },
    {
      "cell_type": "code",
      "source": [
        "(2.5/90)*20"
      ],
      "metadata": {
        "colab": {
          "base_uri": "https://localhost:8080/"
        },
        "id": "zUsn2SO72Upl",
        "outputId": "485053a4-3e5f-43e0-aea7-74912df79373"
      },
      "execution_count": null,
      "outputs": [
        {
          "output_type": "execute_result",
          "data": {
            "text/plain": [
              "0.5555555555555556"
            ]
          },
          "metadata": {},
          "execution_count": 14
        }
      ]
    },
    {
      "cell_type": "code",
      "source": [
        "from scipy.stats import expon\n"
      ],
      "metadata": {
        "id": "P6heXh7M8vQE"
      },
      "execution_count": 4,
      "outputs": []
    },
    {
      "cell_type": "code",
      "source": [
        "out4 = expon.cdf(x=4, scale=5)\n",
        "out5 = expon.cdf(x=5, scale=5)\n",
        "out3 = expon.cdf(x=3, scale=5)\n",
        "print(out3)\n",
        "print(out4)\n",
        "print(out5)\n",
        "print(out4+out5)\n",
        "print((out5 - out4)*100)\n",
        "print(out5 - out3)\n",
        "print(out4+out5 - out3)"
      ],
      "metadata": {
        "colab": {
          "base_uri": "https://localhost:8080/"
        },
        "id": "kMNgCe3keJBQ",
        "outputId": "625f8bc7-09f0-46b8-de7b-029088dee0b3"
      },
      "execution_count": 5,
      "outputs": [
        {
          "output_type": "stream",
          "name": "stdout",
          "text": [
            "0.4511883639059736\n",
            "0.5506710358827784\n",
            "0.6321205588285577\n",
            "1.182791594711336\n",
            "8.144952294577923\n",
            "0.18093219492258406\n",
            "0.7316032308053625\n"
          ]
        }
      ]
    },
    {
      "cell_type": "code",
      "source": [
        "shopping = expon.cdf(x=600, scale=1000)\n",
        "round(1-shopping, 2)"
      ],
      "metadata": {
        "colab": {
          "base_uri": "https://localhost:8080/"
        },
        "id": "EKQ4gERdHSkF",
        "outputId": "4bcb09df-908b-4131-af46-54e5db64a5d4"
      },
      "execution_count": 10,
      "outputs": [
        {
          "output_type": "execute_result",
          "data": {
            "text/plain": [
              "0.55"
            ]
          },
          "metadata": {},
          "execution_count": 10
        }
      ]
    },
    {
      "cell_type": "code",
      "source": [
        "gadget_life = expon.cdf(x=6, scale=2)\n",
        "round(1-gadget_life, 2)"
      ],
      "metadata": {
        "colab": {
          "base_uri": "https://localhost:8080/"
        },
        "id": "M9iDDSKsKSQf",
        "outputId": "d189da54-5389-46e6-988a-01a62a80b2c4"
      },
      "execution_count": 10,
      "outputs": [
        {
          "output_type": "execute_result",
          "data": {
            "text/plain": [
              "0.05"
            ]
          },
          "metadata": {},
          "execution_count": 10
        }
      ]
    },
    {
      "cell_type": "code",
      "source": [
        "shoe_life1 = expon.cdf(x=9, scale=5)\n",
        "shoe_life2 = expon.cdf(x=5, scale=5)\n",
        "print(round(shoe_life1,2))\n",
        "print(round(1-shoe_life1,2))\n",
        "print(round(shoe_life2, 2))\n",
        "print(round(shoe_life1 - shoe_life2,2))\n",
        "print(round(1-shoe_life1-shoe_life2,2))"
      ],
      "metadata": {
        "colab": {
          "base_uri": "https://localhost:8080/"
        },
        "id": "t7mcR8x1d-Ol",
        "outputId": "0277c099-7008-4e15-d5d2-06502760e784"
      },
      "execution_count": 17,
      "outputs": [
        {
          "output_type": "stream",
          "name": "stdout",
          "text": [
            "0.83\n",
            "0.17\n",
            "0.63\n",
            "0.2\n",
            "-0.47\n"
          ]
        }
      ]
    },
    {
      "cell_type": "code",
      "source": [],
      "metadata": {
        "id": "Mert2yGDo1X6"
      },
      "execution_count": null,
      "outputs": []
    }
  ]
}