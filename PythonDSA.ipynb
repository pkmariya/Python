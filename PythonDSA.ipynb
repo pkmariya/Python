{
  "nbformat": 4,
  "nbformat_minor": 0,
  "metadata": {
    "colab": {
      "provenance": [],
      "collapsed_sections": [],
      "authorship_tag": "ABX9TyOarNo2GV4TCB2ScQGhIMmA",
      "include_colab_link": true
    },
    "kernelspec": {
      "name": "python3",
      "display_name": "Python 3"
    },
    "language_info": {
      "name": "python"
    }
  },
  "cells": [
    {
      "cell_type": "markdown",
      "metadata": {
        "id": "view-in-github",
        "colab_type": "text"
      },
      "source": [
        "<a href=\"https://colab.research.google.com/github/pkmariya/Python/blob/main/PythonDSA.ipynb\" target=\"_parent\"><img src=\"https://colab.research.google.com/assets/colab-badge.svg\" alt=\"Open In Colab\"/></a>"
      ]
    },
    {
      "cell_type": "markdown",
      "source": [
        "# Python DSA Programs"
      ],
      "metadata": {
        "id": "cWsceNLeOIiH"
      }
    },
    {
      "cell_type": "markdown",
      "source": [
        "### Python Pattern Programs\n"
      ],
      "metadata": {
        "id": "73m4AGZKPC_n"
      }
    },
    {
      "cell_type": "code",
      "execution_count": null,
      "metadata": {
        "colab": {
          "base_uri": "https://localhost:8080/"
        },
        "id": "-PQL79TAOFpG",
        "outputId": "0cb2b91c-e0cc-4a1c-a957-44f745387ef5"
      },
      "outputs": [
        {
          "output_type": "stream",
          "name": "stdout",
          "text": [
            "Please enter # of rows: 10\n",
            "* \n",
            "* * \n",
            "* * * \n",
            "* * * * \n",
            "* * * * * \n",
            "* * * * * * \n",
            "* * * * * * * \n",
            "* * * * * * * * \n",
            "* * * * * * * * * \n",
            "* * * * * * * * * * \n"
          ]
        }
      ],
      "source": [
        "# Print simple *s\n",
        "\n",
        "rows = int(input(\"Please enter # of rows: \"))\n",
        "\n",
        "for i in range(rows):\n",
        "  for j in range(i+1):\n",
        "    print(\"*\", end=\" \")\n",
        "  print()"
      ]
    },
    {
      "cell_type": "markdown",
      "source": [],
      "metadata": {
        "id": "KuDRtA1sO2WE"
      }
    },
    {
      "cell_type": "code",
      "source": [
        "# Print above *s in inverted form\n",
        "\n",
        "rows = int(input(\"Enter # of rows: \"))\n",
        "\n",
        "for i in range(rows, 0, -1):\n",
        "  for j in range(0,i):\n",
        "    print(\"*\", end=\" \")\n",
        "  print()"
      ],
      "metadata": {
        "colab": {
          "base_uri": "https://localhost:8080/"
        },
        "id": "8IWMPdagQ8Wv",
        "outputId": "4bbc4fdc-56e2-4ae7-fbd1-ba7671ee830b"
      },
      "execution_count": null,
      "outputs": [
        {
          "output_type": "stream",
          "name": "stdout",
          "text": [
            "Enter # of rows: 10\n",
            "* * * * * * * * * * \n",
            "* * * * * * * * * \n",
            "* * * * * * * * \n",
            "* * * * * * * \n",
            "* * * * * * \n",
            "* * * * * \n",
            "* * * * \n",
            "* * * \n",
            "* * \n",
            "* \n"
          ]
        }
      ]
    },
    {
      "cell_type": "code",
      "source": [
        "# Print *s in pyramid/triangle shape\n",
        "rows = int(input(\"Enter # of rows: \"))\n",
        "\n",
        "for i in range(rows):\n",
        "  for j in range(0, rows-i-1):\n",
        "    print(end=\" \")\n",
        "  for j in range(i+1):\n",
        "    print(\"*\", end=\" \")\n",
        "  print()"
      ],
      "metadata": {
        "colab": {
          "base_uri": "https://localhost:8080/"
        },
        "id": "GfnSwP4xO1Me",
        "outputId": "bd3b1718-b294-4864-ab58-e45b26b4e3f1"
      },
      "execution_count": null,
      "outputs": [
        {
          "output_type": "stream",
          "name": "stdout",
          "text": [
            "Enter # of rows: 5\n",
            "    * \n",
            "   * * \n",
            "  * * * \n",
            " * * * * \n",
            "* * * * * \n"
          ]
        }
      ]
    },
    {
      "cell_type": "code",
      "source": [
        "# The same above pyramid/triangle pattern with more *s in each row\n",
        "\n",
        "rows = int(input(\"Enter # of rows: \"))\n",
        "\n",
        "for i in range(rows):\n",
        "  for j in range(0, rows-i-1):\n",
        "    print(end=\" \")\n",
        "  for j in range(2*i+1):\n",
        "    print(\"*\", end=\"\")\n",
        "  print()"
      ],
      "metadata": {
        "colab": {
          "base_uri": "https://localhost:8080/"
        },
        "id": "iM6ANwIyQftC",
        "outputId": "db19b06e-86eb-4fff-8bb8-fba86745cd5d"
      },
      "execution_count": null,
      "outputs": [
        {
          "output_type": "stream",
          "name": "stdout",
          "text": [
            "Enter # of rows: 5\n",
            "    *\n",
            "   ***\n",
            "  *****\n",
            " *******\n",
            "*********\n"
          ]
        }
      ]
    },
    {
      "cell_type": "code",
      "source": [
        "# Print inverted Pyramid\n",
        "\n",
        "# rows = int(input(\"Enter # of rows: \"))\n",
        "rows = 5\n",
        "\n",
        "for i in range(rows, 0, -1):\n",
        "  for j in range(0, rows-i):\n",
        "    print(end=\" \")\n",
        "  for j in range(0, i):\n",
        "    print(\"*\", end=\" \")\n",
        "  print()\n"
      ],
      "metadata": {
        "colab": {
          "base_uri": "https://localhost:8080/"
        },
        "id": "Sdg8P4zYTCTy",
        "outputId": "8c6979b3-2b90-4d39-c55a-2f660bb36085"
      },
      "execution_count": null,
      "outputs": [
        {
          "output_type": "stream",
          "name": "stdout",
          "text": [
            "* * * * * \n",
            " * * * * \n",
            "  * * * \n",
            "   * * \n",
            "    * \n"
          ]
        }
      ]
    },
    {
      "cell_type": "code",
      "source": [
        "# Pyramid Prodgram\n",
        "\n",
        "rows = 5\n",
        "\n",
        "for i in range(rows):\n",
        "  print(' '*(rows-i-1)+'* '*(i+1))\n",
        "for j in range(rows-1, 0, -1):\n",
        "  print(' '*(rows-j)+'* '*(j))\n",
        "\n"
      ],
      "metadata": {
        "colab": {
          "base_uri": "https://localhost:8080/"
        },
        "id": "__M9oedj10h4",
        "outputId": "2f0f7181-d1be-469d-bbbf-635137c6dcef"
      },
      "execution_count": null,
      "outputs": [
        {
          "output_type": "stream",
          "name": "stdout",
          "text": [
            "    * \n",
            "   * * \n",
            "  * * * \n",
            " * * * * \n",
            "* * * * * \n",
            " * * * * \n",
            "  * * * \n",
            "   * * \n",
            "    * \n"
          ]
        }
      ]
    },
    {
      "cell_type": "code",
      "source": [
        "word = \"Python\"\n",
        "\n",
        "for i in range(len(word)):\n",
        "  for j in range(0, i+1):\n",
        "    print(word[j], end=\" \")\n",
        "  print()"
      ],
      "metadata": {
        "colab": {
          "base_uri": "https://localhost:8080/"
        },
        "id": "uqR4iiqvyl0a",
        "outputId": "103cbf79-2b62-4c3d-deb0-d8309d861f72"
      },
      "execution_count": null,
      "outputs": [
        {
          "output_type": "stream",
          "name": "stdout",
          "text": [
            "P \n",
            "P y \n",
            "P y t \n",
            "P y t h \n",
            "P y t h o \n",
            "P y t h o n \n"
          ]
        }
      ]
    },
    {
      "cell_type": "code",
      "source": [
        "num = 10\n",
        "\n",
        "for i in range(num+1):\n",
        "  for j in range(1, i+1):\n",
        "    print (j, end=\" \")\n",
        "  print()"
      ],
      "metadata": {
        "colab": {
          "base_uri": "https://localhost:8080/"
        },
        "id": "eUDfyQGtWgNZ",
        "outputId": "56465567-4d30-487e-fb2b-55cbb4881ad2"
      },
      "execution_count": null,
      "outputs": [
        {
          "output_type": "stream",
          "name": "stdout",
          "text": [
            "\n",
            "1 \n",
            "1 2 \n",
            "1 2 3 \n",
            "1 2 3 4 \n",
            "1 2 3 4 5 \n",
            "1 2 3 4 5 6 \n",
            "1 2 3 4 5 6 7 \n",
            "1 2 3 4 5 6 7 8 \n",
            "1 2 3 4 5 6 7 8 9 \n",
            "1 2 3 4 5 6 7 8 9 10 \n"
          ]
        }
      ]
    },
    {
      "cell_type": "code",
      "source": [
        "rows = 5\n",
        "\n",
        "for i in range(rows):\n",
        "  for j in range(i+1):\n",
        "    print(f\"{j} \", end=\"\")\n",
        "  print()"
      ],
      "metadata": {
        "id": "X_oKxqUzWpV6",
        "colab": {
          "base_uri": "https://localhost:8080/"
        },
        "outputId": "5a964ddb-8068-467e-bcef-2fcb53b14fea"
      },
      "execution_count": null,
      "outputs": [
        {
          "output_type": "stream",
          "name": "stdout",
          "text": [
            "0 \n",
            "0 1 \n",
            "0 1 2 \n",
            "0 1 2 3 \n",
            "0 1 2 3 4 \n"
          ]
        }
      ]
    },
    {
      "cell_type": "code",
      "source": [
        "n = 5\n",
        "\n",
        "k=0\n",
        "for i in range(n):\n",
        "  k = k+i\n",
        "\n",
        "m = n + k\n",
        "\n",
        "for i in range(n):\n",
        "  for j in range(i+1):\n",
        "    print(format(m, \"<3\"), end=\"\")\n",
        "    m -= 1\n",
        "  print()"
      ],
      "metadata": {
        "colab": {
          "base_uri": "https://localhost:8080/"
        },
        "id": "NN1TuaL25nsL",
        "outputId": "f279df5e-6eab-4218-ec92-763f0b84834c"
      },
      "execution_count": null,
      "outputs": [
        {
          "output_type": "stream",
          "name": "stdout",
          "text": [
            "15 \n",
            "14 13 \n",
            "12 11 10 \n",
            "9  8  7  6  \n",
            "5  4  3  2  1  \n"
          ]
        }
      ]
    },
    {
      "cell_type": "code",
      "source": [
        "myTuple = (10, 5, 7, 3, 7, 3, 7, 15)\n",
        "myTuple.count(7)"
      ],
      "metadata": {
        "colab": {
          "base_uri": "https://localhost:8080/"
        },
        "id": "OHy6iBm97o5y",
        "outputId": "64a4ba26-0b40-4485-c264-02678d13dba5"
      },
      "execution_count": null,
      "outputs": [
        {
          "output_type": "execute_result",
          "data": {
            "text/plain": [
              "3"
            ]
          },
          "metadata": {},
          "execution_count": 10
        }
      ]
    },
    {
      "cell_type": "code",
      "source": [
        "tuple_len = len(myTuple)\n",
        "tuple_len"
      ],
      "metadata": {
        "colab": {
          "base_uri": "https://localhost:8080/"
        },
        "id": "AsfTgkYGgRBF",
        "outputId": "d196f601-7f87-4ec0-f642-e2ab2c50bc81"
      },
      "execution_count": null,
      "outputs": [
        {
          "output_type": "execute_result",
          "data": {
            "text/plain": [
              "8"
            ]
          },
          "metadata": {},
          "execution_count": 11
        }
      ]
    },
    {
      "cell_type": "code",
      "source": [
        "mixed_list = [\"Hello\", 34, \"Java\", True]\n",
        "print(\"1.\", mixed_list[-1])\n",
        "\n",
        "mixed_list[1] = \"Hi\"\n",
        "print(\"2.\", mixed_list)"
      ],
      "metadata": {
        "colab": {
          "base_uri": "https://localhost:8080/"
        },
        "id": "V8uBI-tztnJw",
        "outputId": "984482f1-b639-44e3-c06a-98088ccdfb94"
      },
      "execution_count": null,
      "outputs": [
        {
          "output_type": "stream",
          "name": "stdout",
          "text": [
            "1. True\n",
            "2. ['Hello', 'Hi', 'Java', True]\n"
          ]
        }
      ]
    },
    {
      "cell_type": "code",
      "source": [
        "mixed_tuple = (1, 3, 4, 5)\n",
        "print(mixed_tuple)\n",
        "\n"
      ],
      "metadata": {
        "colab": {
          "base_uri": "https://localhost:8080/"
        },
        "id": "SE3FYReMybVp",
        "outputId": "71413117-6883-4fec-f75d-c8ca3df61dfd"
      },
      "execution_count": null,
      "outputs": [
        {
          "output_type": "stream",
          "name": "stdout",
          "text": [
            "(1, 3, 4, 5)\n"
          ]
        }
      ]
    },
    {
      "cell_type": "code",
      "source": [
        "mixed_list"
      ],
      "metadata": {
        "colab": {
          "base_uri": "https://localhost:8080/"
        },
        "id": "1Xd7AYXeyist",
        "outputId": "b1beb8a8-646d-4701-92b7-82b170c2bf27"
      },
      "execution_count": null,
      "outputs": [
        {
          "output_type": "execute_result",
          "data": {
            "text/plain": [
              "['Hello', 'Hi', 'Java', True]"
            ]
          },
          "metadata": {},
          "execution_count": 4
        }
      ]
    },
    {
      "cell_type": "code",
      "source": [
        "mixed_list.append(10)"
      ],
      "metadata": {
        "id": "PxUr26xSEWNU"
      },
      "execution_count": null,
      "outputs": []
    },
    {
      "cell_type": "code",
      "source": [
        "mixed_list.insert(2, 2)"
      ],
      "metadata": {
        "id": "JOB5NyjcEmon"
      },
      "execution_count": null,
      "outputs": []
    },
    {
      "cell_type": "code",
      "source": [
        "mixed_list"
      ],
      "metadata": {
        "colab": {
          "base_uri": "https://localhost:8080/"
        },
        "id": "F9LY4jemEpgt",
        "outputId": "4780a7f3-836d-4225-dbc2-d889c0497c4b"
      },
      "execution_count": null,
      "outputs": [
        {
          "output_type": "execute_result",
          "data": {
            "text/plain": [
              "['Hello', 'Hi', 2, 'Java', True, 10]"
            ]
          },
          "metadata": {},
          "execution_count": 7
        }
      ]
    },
    {
      "cell_type": "code",
      "source": [
        "mixed_list.extend([2, 10])"
      ],
      "metadata": {
        "id": "wfiWzbGdEqbM"
      },
      "execution_count": null,
      "outputs": []
    },
    {
      "cell_type": "code",
      "source": [
        "mixed_list"
      ],
      "metadata": {
        "colab": {
          "base_uri": "https://localhost:8080/"
        },
        "id": "nMFx8IhKEu0K",
        "outputId": "042df299-6fe2-43d3-8bb1-e978b693d6a9"
      },
      "execution_count": null,
      "outputs": [
        {
          "output_type": "execute_result",
          "data": {
            "text/plain": [
              "['Hello', 'Hi', 2, 'Java', True, 10, 2, 10]"
            ]
          },
          "metadata": {},
          "execution_count": 10
        }
      ]
    },
    {
      "cell_type": "code",
      "source": [
        "mixed_list.pop()"
      ],
      "metadata": {
        "colab": {
          "base_uri": "https://localhost:8080/"
        },
        "id": "lQDb-1w7EyKe",
        "outputId": "712af6ef-3718-4151-ad3e-e02cdd6c4e22"
      },
      "execution_count": null,
      "outputs": [
        {
          "output_type": "execute_result",
          "data": {
            "text/plain": [
              "10"
            ]
          },
          "metadata": {},
          "execution_count": 11
        }
      ]
    },
    {
      "cell_type": "code",
      "source": [
        "mixed_list"
      ],
      "metadata": {
        "colab": {
          "base_uri": "https://localhost:8080/"
        },
        "id": "DliFcjkbE1p3",
        "outputId": "aeaa3290-a508-4283-ab6d-21ebbbf8c8ed"
      },
      "execution_count": null,
      "outputs": [
        {
          "output_type": "execute_result",
          "data": {
            "text/plain": [
              "['Hello', 'Hi', 2, 'Java', True, 10, 2]"
            ]
          },
          "metadata": {},
          "execution_count": 12
        }
      ]
    },
    {
      "cell_type": "code",
      "source": [
        "mixed_list.append(10)"
      ],
      "metadata": {
        "id": "XsT9ILy7E3kY"
      },
      "execution_count": null,
      "outputs": []
    },
    {
      "cell_type": "code",
      "source": [
        "mixed_list.pop(1)"
      ],
      "metadata": {
        "colab": {
          "base_uri": "https://localhost:8080/",
          "height": 35
        },
        "id": "jakY7xfdE5zx",
        "outputId": "579758c1-081c-40fc-c3ce-ef0c9c5ec7c9"
      },
      "execution_count": null,
      "outputs": [
        {
          "output_type": "execute_result",
          "data": {
            "text/plain": [
              "'Hi'"
            ],
            "application/vnd.google.colaboratory.intrinsic+json": {
              "type": "string"
            }
          },
          "metadata": {},
          "execution_count": 15
        }
      ]
    },
    {
      "cell_type": "code",
      "source": [
        "mixed_list"
      ],
      "metadata": {
        "colab": {
          "base_uri": "https://localhost:8080/"
        },
        "id": "p27r6dIpE9Qo",
        "outputId": "75ab080c-0d79-4b5f-d4b5-61cd6b96429a"
      },
      "execution_count": null,
      "outputs": [
        {
          "output_type": "execute_result",
          "data": {
            "text/plain": [
              "['Hello', 2, 'Java', True, 10, 2, 10]"
            ]
          },
          "metadata": {},
          "execution_count": 16
        }
      ]
    },
    {
      "cell_type": "code",
      "source": [
        "mixed_list.insert(1, 'Hi')\n",
        "mixed_list"
      ],
      "metadata": {
        "colab": {
          "base_uri": "https://localhost:8080/"
        },
        "id": "kQPTvXeJFNHJ",
        "outputId": "3d9d5147-ca5c-4de1-e05c-b367fd49de05"
      },
      "execution_count": null,
      "outputs": [
        {
          "output_type": "execute_result",
          "data": {
            "text/plain": [
              "['Hello', 'Hi', 2, 'Java', True, 10, 2, 10]"
            ]
          },
          "metadata": {},
          "execution_count": 17
        }
      ]
    },
    {
      "cell_type": "code",
      "source": [
        "mixed_list.pop(2)"
      ],
      "metadata": {
        "colab": {
          "base_uri": "https://localhost:8080/"
        },
        "id": "tHHPnLlIFSx1",
        "outputId": "1d439188-fd4d-4c30-c191-d4b3997e1cde"
      },
      "execution_count": null,
      "outputs": [
        {
          "output_type": "execute_result",
          "data": {
            "text/plain": [
              "2"
            ]
          },
          "metadata": {},
          "execution_count": 18
        }
      ]
    },
    {
      "cell_type": "code",
      "source": [
        "mixed_list"
      ],
      "metadata": {
        "colab": {
          "base_uri": "https://localhost:8080/"
        },
        "id": "dXxJ2OXNFabZ",
        "outputId": "a1017c64-5e1d-476b-c53b-18e853273f0e"
      },
      "execution_count": null,
      "outputs": [
        {
          "output_type": "execute_result",
          "data": {
            "text/plain": [
              "['Hello', 'Hi', 'Java', True, 10, 2, 10]"
            ]
          },
          "metadata": {},
          "execution_count": 19
        }
      ]
    },
    {
      "cell_type": "code",
      "source": [
        "mixed_list.remove(2)"
      ],
      "metadata": {
        "id": "a7uyMcVDFeDH"
      },
      "execution_count": null,
      "outputs": []
    },
    {
      "cell_type": "code",
      "source": [
        "mixed_list"
      ],
      "metadata": {
        "colab": {
          "base_uri": "https://localhost:8080/"
        },
        "id": "v1OQm62DFhEW",
        "outputId": "a129ab5f-e227-4f22-a06b-4afab6714c67"
      },
      "execution_count": null,
      "outputs": [
        {
          "output_type": "execute_result",
          "data": {
            "text/plain": [
              "['Hello', 'Hi', 'Java', True, 10, 10]"
            ]
          },
          "metadata": {},
          "execution_count": 22
        }
      ]
    },
    {
      "cell_type": "code",
      "source": [
        "mixed_list.remove(10)"
      ],
      "metadata": {
        "id": "CopQCs_uFl-_"
      },
      "execution_count": null,
      "outputs": []
    },
    {
      "cell_type": "code",
      "source": [
        "mixed_list"
      ],
      "metadata": {
        "colab": {
          "base_uri": "https://localhost:8080/"
        },
        "id": "YXo5Ho9NFotU",
        "outputId": "3c8f27da-15be-41ea-d2f2-d9ad61c03ddd"
      },
      "execution_count": null,
      "outputs": [
        {
          "output_type": "execute_result",
          "data": {
            "text/plain": [
              "['Hello', 'Hi', 'Java', True, 10]"
            ]
          },
          "metadata": {},
          "execution_count": 25
        }
      ]
    },
    {
      "cell_type": "code",
      "source": [
        "quote = \"Talk is cheap, show me the Code.\"\n",
        "print(\"1.\", quote[3])\n",
        "print(\"2.\", quote[-3])\n",
        "print(\"3.\", quote.replace(\"Code\", \"Program\"))"
      ],
      "metadata": {
        "colab": {
          "base_uri": "https://localhost:8080/"
        },
        "id": "fk_adt2JFtcH",
        "outputId": "1da80c81-91b0-4b4f-c72f-219e71c41878"
      },
      "execution_count": null,
      "outputs": [
        {
          "output_type": "stream",
          "name": "stdout",
          "text": [
            "1. k\n",
            "2. d\n",
            "3. Talk is cheap, show me the Program.\n"
          ]
        }
      ]
    },
    {
      "cell_type": "code",
      "source": [
        "s = quote.split(\" \")\n",
        "for word in s:\n",
        "  print(word)"
      ],
      "metadata": {
        "colab": {
          "base_uri": "https://localhost:8080/"
        },
        "id": "eZ-FDe4MOFih",
        "outputId": "4f9b03f0-0219-4860-cc89-bd787c5ec672"
      },
      "execution_count": null,
      "outputs": [
        {
          "output_type": "stream",
          "name": "stdout",
          "text": [
            "Talk\n",
            "is\n",
            "cheap,\n",
            "show\n",
            "me\n",
            "the\n",
            "Code.\n"
          ]
        }
      ]
    },
    {
      "cell_type": "code",
      "source": [
        "animals_set = {\"dog\", \"cat\", \"lion\", \"tiger\"}\n",
        "animals_set"
      ],
      "metadata": {
        "colab": {
          "base_uri": "https://localhost:8080/"
        },
        "id": "32ke8iGbOWJ0",
        "outputId": "4c336058-035a-4431-c5b9-265a894db8d8"
      },
      "execution_count": null,
      "outputs": [
        {
          "output_type": "execute_result",
          "data": {
            "text/plain": [
              "{'cat', 'dog', 'lion', 'tiger'}"
            ]
          },
          "metadata": {},
          "execution_count": 1
        }
      ]
    },
    {
      "cell_type": "code",
      "source": [
        "animals_set.add(\"elephant\")\n",
        "animals_set"
      ],
      "metadata": {
        "colab": {
          "base_uri": "https://localhost:8080/"
        },
        "id": "h6lOastL6O2Q",
        "outputId": "f44bc24e-903e-4fee-ad88-9a45b55dab10"
      },
      "execution_count": null,
      "outputs": [
        {
          "output_type": "execute_result",
          "data": {
            "text/plain": [
              "{'cat', 'dog', 'elephant', 'lion', 'tiger'}"
            ]
          },
          "metadata": {},
          "execution_count": 2
        }
      ]
    },
    {
      "cell_type": "code",
      "source": [
        "fast_runners = [\"leopard\", \"cheetah\"]\n",
        "animals_set.update(fast_runners)\n",
        "animals_set"
      ],
      "metadata": {
        "colab": {
          "base_uri": "https://localhost:8080/"
        },
        "id": "zb0xGOYE6Uwo",
        "outputId": "3279be8a-1ca2-47b5-8a8b-538f240443e0"
      },
      "execution_count": null,
      "outputs": [
        {
          "output_type": "execute_result",
          "data": {
            "text/plain": [
              "{'cat', 'cheetah', 'dog', 'elephant', 'leopard', 'lion', 'tiger'}"
            ]
          },
          "metadata": {},
          "execution_count": 7
        }
      ]
    },
    {
      "cell_type": "code",
      "source": [
        "animals_set.add(\"elephant\")\n",
        "animals_set\n"
      ],
      "metadata": {
        "colab": {
          "base_uri": "https://localhost:8080/"
        },
        "id": "xnDbPeOr6kUP",
        "outputId": "d47559df-f691-4656-f8d7-e2ab9317b61f"
      },
      "execution_count": null,
      "outputs": [
        {
          "output_type": "execute_result",
          "data": {
            "text/plain": [
              "{'cat', 'cheetah', 'dog', 'elephant', 'leopard', 'lion', 'tiger'}"
            ]
          },
          "metadata": {},
          "execution_count": 8
        }
      ]
    },
    {
      "cell_type": "code",
      "source": [
        "animals_set"
      ],
      "metadata": {
        "colab": {
          "base_uri": "https://localhost:8080/"
        },
        "id": "qLH3tRGB6-O9",
        "outputId": "86f0b112-884d-4f7c-85d5-dd9a362b820d"
      },
      "execution_count": null,
      "outputs": [
        {
          "output_type": "execute_result",
          "data": {
            "text/plain": [
              "{'cat', 'cheetah', 'dog', 'elephant', 'leopard', 'lion', 'tiger'}"
            ]
          },
          "metadata": {},
          "execution_count": 9
        }
      ]
    },
    {
      "cell_type": "code",
      "source": [
        "animals = {\"dog\", \"cat\", \"tiger\", \"elephant\", \"dog\"}\n",
        "animals"
      ],
      "metadata": {
        "colab": {
          "base_uri": "https://localhost:8080/"
        },
        "id": "ETNNSazA_u9a",
        "outputId": "92f7da85-7356-4632-81e9-b11e5f3726e7"
      },
      "execution_count": null,
      "outputs": [
        {
          "output_type": "execute_result",
          "data": {
            "text/plain": [
              "{'cat', 'dog', 'elephant', 'tiger'}"
            ]
          },
          "metadata": {},
          "execution_count": 13
        }
      ]
    },
    {
      "cell_type": "code",
      "source": [
        "animals.remove(\"cat\")"
      ],
      "metadata": {
        "id": "cL1so_tj_7bR"
      },
      "execution_count": null,
      "outputs": []
    },
    {
      "cell_type": "code",
      "source": [
        "animals.remove(\"dog\")"
      ],
      "metadata": {
        "id": "qE8gapSFAM6T"
      },
      "execution_count": null,
      "outputs": []
    },
    {
      "cell_type": "code",
      "source": [
        "animals"
      ],
      "metadata": {
        "colab": {
          "base_uri": "https://localhost:8080/"
        },
        "id": "znPR9OtLAOWd",
        "outputId": "8f8efa36-b1cb-4bcd-ae26-594636ee2031"
      },
      "execution_count": null,
      "outputs": [
        {
          "output_type": "execute_result",
          "data": {
            "text/plain": [
              "{'elephant', 'tiger'}"
            ]
          },
          "metadata": {},
          "execution_count": 16
        }
      ]
    },
    {
      "cell_type": "code",
      "source": [
        "animals.add(\"snake\")\n",
        "animals"
      ],
      "metadata": {
        "colab": {
          "base_uri": "https://localhost:8080/"
        },
        "id": "QijKe1P8AO2V",
        "outputId": "4530b800-7e80-47b4-bb9c-49ec04e0b6d9"
      },
      "execution_count": null,
      "outputs": [
        {
          "output_type": "execute_result",
          "data": {
            "text/plain": [
              "{'elephant', 'snake', 'tiger'}"
            ]
          },
          "metadata": {},
          "execution_count": 17
        }
      ]
    },
    {
      "cell_type": "code",
      "source": [
        "result = {1, 5, 10} & {100, 5, 10}\n",
        "result"
      ],
      "metadata": {
        "colab": {
          "base_uri": "https://localhost:8080/"
        },
        "id": "n3DVoO3hARNy",
        "outputId": "3702b373-95c5-4e2c-a231-155bf8ece015"
      },
      "execution_count": null,
      "outputs": [
        {
          "output_type": "execute_result",
          "data": {
            "text/plain": [
              "{5, 10}"
            ]
          },
          "metadata": {},
          "execution_count": 18
        }
      ]
    },
    {
      "cell_type": "code",
      "source": [
        "range_list = range(3, 31, 3)\n",
        "print(list(range_list))"
      ],
      "metadata": {
        "colab": {
          "base_uri": "https://localhost:8080/"
        },
        "id": "qIck52zoAYvx",
        "outputId": "41193e48-42d7-42ab-cf90-a4a3edf5b814"
      },
      "execution_count": null,
      "outputs": [
        {
          "output_type": "stream",
          "name": "stdout",
          "text": [
            "[3, 6, 9, 12, 15, 18, 21, 24, 27, 30]\n"
          ]
        }
      ]
    },
    {
      "cell_type": "code",
      "source": [
        "class Student:\n",
        "  def __init__(self, name, mark):\n",
        "    self.name = name\n",
        "    self.mark = mark\n",
        "\n",
        "  def check_pass_fail(self):\n",
        "    if self.mark > 40:\n",
        "      return 'Pass'\n",
        "    else:\n",
        "      return 'fail'\n",
        "\n",
        "  def display(self):\n",
        "    print(self.name, self.mark)\n",
        "\n",
        "\n",
        "S1 = Student(\"Mariya\", 98)\n",
        "S1.display()\n",
        "print(S1.check_pass_fail())\n",
        "print()\n",
        "\n",
        "S2 = Student(\"Preeths\", 95)\n",
        "S2.display()\n",
        "print(S2.check_pass_fail())"
      ],
      "metadata": {
        "colab": {
          "base_uri": "https://localhost:8080/"
        },
        "id": "CjM8fgpwCWjA",
        "outputId": "0b454f2f-bfab-4ef3-c998-e787cfc1c9f4"
      },
      "execution_count": null,
      "outputs": [
        {
          "output_type": "stream",
          "name": "stdout",
          "text": [
            "Mariya 98\n",
            "Pass\n",
            "\n",
            "Preeths 95\n",
            "Pass\n"
          ]
        }
      ]
    },
    {
      "cell_type": "code",
      "source": [
        "class addClass:\n",
        "  def __init__(self, num1, num2):\n",
        "    self.num1 = num1\n",
        "    self.num2 = num2\n",
        "    \n",
        "  def add_nums(self):\n",
        "    return self.num1 + self.num2\n",
        "\n",
        "add1 = addClass(20, 30)\n",
        "print(add1.add_nums())"
      ],
      "metadata": {
        "colab": {
          "base_uri": "https://localhost:8080/"
        },
        "id": "gESz6uu7D7cX",
        "outputId": "92318aa8-1cb1-4c85-8903-26162b22ac33"
      },
      "execution_count": null,
      "outputs": [
        {
          "output_type": "stream",
          "name": "stdout",
          "text": [
            "50\n"
          ]
        }
      ]
    },
    {
      "cell_type": "code",
      "source": [
        "class trianglePeri:\n",
        "  def __init__(self, a, b, c):\n",
        "    self.a = a\n",
        "    self.b = b\n",
        "    self.c = c\n",
        "\n",
        "  def calculate_perimeter(self):\n",
        "    return self.a * self.b * self.c\n",
        "\n",
        "T1 = trianglePeri(10, 2, 3)\n",
        "print(T1.calculate_perimeter())"
      ],
      "metadata": {
        "colab": {
          "base_uri": "https://localhost:8080/"
        },
        "id": "BUOwB2E2JQ1Y",
        "outputId": "68fe8949-9610-4f6c-c49a-5747b7487a9c"
      },
      "execution_count": null,
      "outputs": [
        {
          "output_type": "stream",
          "name": "stdout",
          "text": [
            "60\n"
          ]
        }
      ]
    },
    {
      "cell_type": "code",
      "source": [
        "# everything is an Object\n",
        "int1 = 10\n",
        "float1 = 10.5\n",
        "str1 = \"Mariya\"\n",
        "bool1 = True\n",
        "list1 = [10, 20, 30]\n",
        "set1 = {10, 20, 30}\n",
        "tuple1 = (10, 20, 30)\n",
        "dict1 = {\"name\": \"Mariya\", \"age\": 49}\n",
        "def func1():\n",
        "  pass\n",
        "\n",
        "print(\"In Python, everything is an Object\")\n",
        "print(type(int1))\n",
        "print(type(float1))\n",
        "print(type(str1))\n",
        "print(type(bool1))\n",
        "print(type(list1))\n",
        "print(type(list1))\n",
        "print(type(set1))\n",
        "print(type(dict1))\n",
        "print(type(func1))\n"
      ],
      "metadata": {
        "colab": {
          "base_uri": "https://localhost:8080/"
        },
        "id": "FSRqxi8MO_Xw",
        "outputId": "b0bd914b-f5fc-4285-b402-08d6d215fbb6"
      },
      "execution_count": null,
      "outputs": [
        {
          "output_type": "stream",
          "name": "stdout",
          "text": [
            "In Python, everything is an Object\n",
            "<class 'int'>\n",
            "<class 'float'>\n",
            "<class 'str'>\n",
            "<class 'bool'>\n",
            "<class 'list'>\n",
            "<class 'list'>\n",
            "<class 'set'>\n",
            "<class 'dict'>\n",
            "<class 'function'>\n"
          ]
        }
      ]
    },
    {
      "cell_type": "code",
      "source": [
        "# dir() gives the attributes of the parameter. If a List is passed as parameter then it gives all the attributes of a List. \n",
        "for attr in dir(list1):\n",
        "  print(attr)"
      ],
      "metadata": {
        "colab": {
          "base_uri": "https://localhost:8080/"
        },
        "id": "Z42atBupLxzy",
        "outputId": "fb445e00-3c46-4e17-e5c3-0398ae336713"
      },
      "execution_count": null,
      "outputs": [
        {
          "output_type": "stream",
          "name": "stdout",
          "text": [
            "__add__\n",
            "__class__\n",
            "__contains__\n",
            "__delattr__\n",
            "__delitem__\n",
            "__dir__\n",
            "__doc__\n",
            "__eq__\n",
            "__format__\n",
            "__ge__\n",
            "__getattribute__\n",
            "__getitem__\n",
            "__gt__\n",
            "__hash__\n",
            "__iadd__\n",
            "__imul__\n",
            "__init__\n",
            "__init_subclass__\n",
            "__iter__\n",
            "__le__\n",
            "__len__\n",
            "__lt__\n",
            "__mul__\n",
            "__ne__\n",
            "__new__\n",
            "__reduce__\n",
            "__reduce_ex__\n",
            "__repr__\n",
            "__reversed__\n",
            "__rmul__\n",
            "__setattr__\n",
            "__setitem__\n",
            "__sizeof__\n",
            "__str__\n",
            "__subclasshook__\n",
            "append\n",
            "clear\n",
            "copy\n",
            "count\n",
            "extend\n",
            "index\n",
            "insert\n",
            "pop\n",
            "remove\n",
            "reverse\n",
            "sort\n"
          ]
        }
      ]
    },
    {
      "cell_type": "code",
      "source": [
        "# Python Inheritance\n",
        "\n",
        "class Animal:\n",
        "  def eat(self):\n",
        "    print(\"I can eat\")\n",
        "\n",
        "\n",
        "class Puppy(Animal):\n",
        "  def bark(self):\n",
        "    # super().eat()\n",
        "    print(\"I can bark\")\n",
        "\n",
        "\n",
        "A1 = Animal()\n",
        "P1 = Puppy()\n",
        "\n",
        "# A1.eat()\n",
        "P1.eat()\n",
        "P1.bark()"
      ],
      "metadata": {
        "colab": {
          "base_uri": "https://localhost:8080/"
        },
        "id": "WYLPH5NYMjQ1",
        "outputId": "6062bf89-40be-419b-bd45-da88eb58363d"
      },
      "execution_count": null,
      "outputs": [
        {
          "output_type": "stream",
          "name": "stdout",
          "text": [
            "I can eat\n",
            "I can bark\n"
          ]
        }
      ]
    },
    {
      "cell_type": "code",
      "source": [
        "# Exception Handling\n",
        "\n",
        "try:\n",
        "  numerator = int(input(\"Enter a numerator \"))\n",
        "  denominator = int(input(\"Enter a denominator \"))\n",
        "\n",
        "  result = numerator/denominator\n",
        "  print(result)\n",
        "except:\n",
        "  print(\"Please try again with a non-zero value for denominator\")"
      ],
      "metadata": {
        "colab": {
          "base_uri": "https://localhost:8080/"
        },
        "id": "SP0FIeMKsozw",
        "outputId": "5ed86e01-e603-438e-c076-cee7a99cac2b"
      },
      "execution_count": null,
      "outputs": [
        {
          "output_type": "stream",
          "name": "stdout",
          "text": [
            "Enter a numerator 10\n",
            "Enter a denominator 0\n",
            "Please try again with a non-zero value for denominator\n"
          ]
        }
      ]
    },
    {
      "cell_type": "code",
      "source": [
        "# Iterables\n",
        "\n",
        "sample_list = [13, 5, 2, 10, 67, 81]\n",
        "value = sample_list.__iter__()\n",
        "\n",
        "for i in range(len(sample_list)):\n",
        "  print(value.__next__())\n",
        "\n"
      ],
      "metadata": {
        "colab": {
          "base_uri": "https://localhost:8080/"
        },
        "id": "F8MmqV0cG6ja",
        "outputId": "1504b476-64fc-4797-d8a5-cc29ca68f8ac"
      },
      "execution_count": null,
      "outputs": [
        {
          "output_type": "stream",
          "name": "stdout",
          "text": [
            "13\n",
            "5\n",
            "2\n",
            "10\n",
            "67\n",
            "81\n"
          ]
        }
      ]
    },
    {
      "cell_type": "code",
      "source": [
        "# Iterables in a simple way\n",
        "\n",
        "sample_list = [13, 5, 2, 10, 67, 81]\n",
        "value = iter(sample_list)\n",
        "\n",
        "for i in range(len(sample_list)):\n",
        "  print(next(value))"
      ],
      "metadata": {
        "id": "xKdcIQ9I6DZw",
        "colab": {
          "base_uri": "https://localhost:8080/"
        },
        "outputId": "4c145e2a-8763-4caa-9813-d1d41ec62c0d"
      },
      "execution_count": null,
      "outputs": [
        {
          "output_type": "stream",
          "name": "stdout",
          "text": [
            "13\n",
            "5\n",
            "2\n",
            "10\n",
            "67\n",
            "81\n"
          ]
        }
      ]
    },
    {
      "cell_type": "code",
      "source": [
        "# elegant way of looping thru an Iterable; this is same as how 'for' loop works internally\n",
        "\n",
        "iter_obj = iter(sample_list)\n",
        "\n",
        "while(True):\n",
        "  try:\n",
        "    element = next(iter_obj)\n",
        "    print(element)\n",
        "  except StopIteration:\n",
        "    print(\"end of list\")\n",
        "    break\n",
        "\n"
      ],
      "metadata": {
        "id": "p2orsfh2DyDO",
        "colab": {
          "base_uri": "https://localhost:8080/"
        },
        "outputId": "f909aff7-3f60-440d-d439-282d603ddebc"
      },
      "execution_count": null,
      "outputs": [
        {
          "output_type": "stream",
          "name": "stdout",
          "text": [
            "13\n",
            "5\n",
            "2\n",
            "10\n",
            "67\n",
            "81\n",
            "end of list\n"
          ]
        }
      ]
    },
    {
      "cell_type": "code",
      "source": [
        "n = 10\n",
        "\n",
        "for i in range(1, n, 2):\n",
        "  print(i)"
      ],
      "metadata": {
        "colab": {
          "base_uri": "https://localhost:8080/"
        },
        "id": "uvj9UVWkWTDd",
        "outputId": "2c77628a-2c2d-4264-f55e-3e1f0fe46376"
      },
      "execution_count": null,
      "outputs": [
        {
          "output_type": "stream",
          "name": "stdout",
          "text": [
            "1\n",
            "3\n",
            "5\n",
            "7\n",
            "9\n"
          ]
        }
      ]
    },
    {
      "cell_type": "code",
      "source": [
        "# Fibonacci series using Recursion\n",
        "\n",
        "def fibonacci(n):\n",
        "  if n<=1:\n",
        "    return n\n",
        "  else:\n",
        "    return (fibonacci(n-1) + fibonacci(n-2))\n",
        "\n",
        "n = 7\n",
        "for i in range(n+1):\n",
        "  print(fibonacci(i))"
      ],
      "metadata": {
        "colab": {
          "base_uri": "https://localhost:8080/"
        },
        "id": "Dp0FTPqvYand",
        "outputId": "a22ec538-a6c1-433e-ad28-faa9963843ed"
      },
      "execution_count": null,
      "outputs": [
        {
          "output_type": "stream",
          "name": "stdout",
          "text": [
            "0\n",
            "1\n",
            "1\n",
            "2\n",
            "3\n",
            "5\n",
            "8\n",
            "13\n"
          ]
        }
      ]
    },
    {
      "cell_type": "code",
      "source": [
        "# Fibonacci series using Dynamic Programming\n",
        "\n",
        "fibArray = [0, 1]\n",
        "\n",
        "def testFibonacci(n):\n",
        "  if n<0:\n",
        "    print(\"Please enter a valid Integer\")\n",
        "  elif n < len(fibArray):\n",
        "    return fibArray[n]\n",
        "  else:\n",
        "    fibArray.append(testFibonacci(n-1) + testFibonacci(n-2))\n",
        "    return fibArray[n]\n",
        "\n",
        "n = 7\n",
        "for i in range(n+1):\n",
        "  print(testFibonacci(i))\n"
      ],
      "metadata": {
        "colab": {
          "base_uri": "https://localhost:8080/"
        },
        "id": "e8m5_5graE1k",
        "outputId": "96feb98e-45c7-4dea-b689-11448d26608d"
      },
      "execution_count": null,
      "outputs": [
        {
          "output_type": "stream",
          "name": "stdout",
          "text": [
            "0\n",
            "1\n",
            "1\n",
            "2\n",
            "3\n",
            "5\n",
            "8\n",
            "13\n"
          ]
        }
      ]
    },
    {
      "cell_type": "code",
      "source": [
        "from prompt_toolkit.application import current\n",
        "# date time functions\n",
        "\n",
        "import datetime as dt\n",
        "\n",
        "current_date = dt.date.today()\n",
        "print(\"Today's date is: \", current_date)"
      ],
      "metadata": {
        "colab": {
          "base_uri": "https://localhost:8080/"
        },
        "id": "PTx_va2RrvrN",
        "outputId": "4fb73752-50a7-4d70-9b2c-81587bece57b"
      },
      "execution_count": null,
      "outputs": [
        {
          "output_type": "stream",
          "name": "stdout",
          "text": [
            "Today's date is:  2022-10-08\n"
          ]
        }
      ]
    },
    {
      "cell_type": "code",
      "source": [
        "import datetime as dt\n",
        "\n",
        "today = dt.datetime.today()\n",
        "\n",
        "today = today.strftime(\"%a, %b, %Y, %I %p\")\n",
        "\n",
        "print(\"Today's date is:\", today)"
      ],
      "metadata": {
        "colab": {
          "base_uri": "https://localhost:8080/"
        },
        "id": "_BPvx6D_xDeL",
        "outputId": "4a36dd20-0271-42ce-8fb4-9c99ecef646e"
      },
      "execution_count": null,
      "outputs": [
        {
          "output_type": "stream",
          "name": "stdout",
          "text": [
            "Today's date is: Sat, Oct, 2022, 01 PM\n"
          ]
        }
      ]
    },
    {
      "cell_type": "code",
      "source": [
        "import numpy as np"
      ],
      "metadata": {
        "id": "CwskUfOG194O"
      },
      "execution_count": null,
      "outputs": []
    },
    {
      "cell_type": "code",
      "source": [
        "x = np.arange(16).reshape(4, 4)\n",
        "x"
      ],
      "metadata": {
        "colab": {
          "base_uri": "https://localhost:8080/"
        },
        "id": "weoQQdoVPnXC",
        "outputId": "5e943e55-295d-45d7-9daf-bd3d54893369"
      },
      "execution_count": null,
      "outputs": [
        {
          "output_type": "execute_result",
          "data": {
            "text/plain": [
              "array([[ 0,  1,  2,  3],\n",
              "       [ 4,  5,  6,  7],\n",
              "       [ 8,  9, 10, 11],\n",
              "       [12, 13, 14, 15]])"
            ]
          },
          "metadata": {},
          "execution_count": 15
        }
      ]
    },
    {
      "cell_type": "code",
      "source": [
        "y = np.hsplit(x, 2)\n",
        "y"
      ],
      "metadata": {
        "colab": {
          "base_uri": "https://localhost:8080/"
        },
        "id": "Pt9-AdjWS8iJ",
        "outputId": "71a35ded-a41e-42db-9444-cec2935fe543"
      },
      "execution_count": null,
      "outputs": [
        {
          "output_type": "execute_result",
          "data": {
            "text/plain": [
              "[array([[ 0,  1],\n",
              "        [ 4,  5],\n",
              "        [ 8,  9],\n",
              "        [12, 13]]), array([[ 2,  3],\n",
              "        [ 6,  7],\n",
              "        [10, 11],\n",
              "        [14, 15]])]"
            ]
          },
          "metadata": {},
          "execution_count": 19
        }
      ]
    },
    {
      "cell_type": "code",
      "source": [
        "x = np.arange(16).reshape(4, 4) \n",
        "np.vsplit(np.hsplit(x, 2)[0], 2)[0] \n",
        "#np.vsplit(np.hsplit(x, 2)[j], 2)[i]"
      ],
      "metadata": {
        "colab": {
          "base_uri": "https://localhost:8080/"
        },
        "id": "h9_KPlBNTGuW",
        "outputId": "e52ec364-7442-4a6c-c347-cf5a757764df"
      },
      "execution_count": null,
      "outputs": [
        {
          "output_type": "execute_result",
          "data": {
            "text/plain": [
              "array([[0, 1],\n",
              "       [4, 5]])"
            ]
          },
          "metadata": {},
          "execution_count": 41
        }
      ]
    },
    {
      "cell_type": "code",
      "source": [
        "result = np.zeros((2,2))\n",
        "x = np.arange(16).reshape(4, 4) \n",
        "for i in range(2):\n",
        "  for j in range(2):\n",
        "    result[i, j] = np.vsplit(np.hsplit(x, 2)[j], 2)[i].mean()\n",
        "#np.vsplit(np.hsplit(x, 2)[j], 2)[i]\n",
        "result"
      ],
      "metadata": {
        "colab": {
          "base_uri": "https://localhost:8080/"
        },
        "id": "hnT8Y0lcTN0-",
        "outputId": "db088116-54f6-4368-85ff-4832ce5c8904"
      },
      "execution_count": null,
      "outputs": [
        {
          "output_type": "execute_result",
          "data": {
            "text/plain": [
              "array([[ 2.5,  4.5],\n",
              "       [10.5, 12.5]])"
            ]
          },
          "metadata": {},
          "execution_count": 44
        }
      ]
    },
    {
      "cell_type": "code",
      "source": [
        "def inc(x):\n",
        "  return x+1\n",
        "\n",
        "def operate(func, x):\n",
        "  result = func(x) \n",
        "  return result\n",
        "\n",
        "print(operate(inc, 3))"
      ],
      "metadata": {
        "colab": {
          "base_uri": "https://localhost:8080/"
        },
        "id": "8SyDhmvUUd36",
        "outputId": "a61872e5-a194-4536-ab72-4cad530399dc"
      },
      "execution_count": null,
      "outputs": [
        {
          "output_type": "stream",
          "name": "stdout",
          "text": [
            "4\n"
          ]
        }
      ]
    },
    {
      "cell_type": "code",
      "source": [
        "def print_msg(message):\n",
        "  greeting = \"Hello\"\n",
        "\n",
        "  def printer():\n",
        "    print(greeting, message)\n",
        "\n",
        "  printer()\n",
        "\n",
        "print_msg(\"Python is awesome!\")"
      ],
      "metadata": {
        "colab": {
          "base_uri": "https://localhost:8080/"
        },
        "id": "_hrQQXkeDNlU",
        "outputId": "68006230-83dc-459f-f8c1-f13f20f28b0f"
      },
      "execution_count": null,
      "outputs": [
        {
          "output_type": "stream",
          "name": "stdout",
          "text": [
            "Hello Python is awesome!\n"
          ]
        }
      ]
    },
    {
      "cell_type": "code",
      "source": [
        "# Stack using simple List\n",
        "\n",
        "stack = []\n",
        "\n",
        "def push():\n",
        "  element = int(input(\"Enter an element to add\\n\"))\n",
        "  stack.append(element)\n",
        "  print(\"Stack after adding the element: \", stack)\n",
        "\n",
        "def pop():\n",
        "  if not stack:\n",
        "    print(\"Stack is empty\")\n",
        "  else:\n",
        "    stack.pop()\n",
        "    print(\"\\nStack after removing the element from Stack: \", stack)\n",
        "\n",
        "while(True):\n",
        "  print(\"\\nSelect a choice: 1. Push, 2. Pop, 3. Break\")\n",
        "  choice = int(input())\n",
        "\n",
        "  if choice==1:\n",
        "    push()\n",
        "  elif choice==2:\n",
        "    pop()\n",
        "  elif choice==3:\n",
        "    print('\\n Exiting out of operations')\n",
        "    break\n",
        "  else:\n",
        "    print(\"\\nEnter a valid choice\")\n",
        "\n",
        "  "
      ],
      "metadata": {
        "id": "mFxfXp30EJSS",
        "colab": {
          "base_uri": "https://localhost:8080/"
        },
        "outputId": "76411275-5b0f-4ded-d30c-357f7bf0d4ef"
      },
      "execution_count": null,
      "outputs": [
        {
          "output_type": "stream",
          "name": "stdout",
          "text": [
            "\n",
            "Select a choice: 1. Push, 2. Pop, 3. Break\n",
            "2\n",
            "Stack is empty\n",
            "\n",
            "Select a choice: 1. Push, 2. Pop, 3. Break\n",
            "1\n",
            "Enter an element to add\n",
            "100\n",
            "Stack after adding the element:  [100]\n",
            "\n",
            "Select a choice: 1. Push, 2. Pop, 3. Break\n",
            "1\n",
            "Enter an element to add\n",
            "200\n",
            "Stack after adding the element:  [100, 200]\n",
            "\n",
            "Select a choice: 1. Push, 2. Pop, 3. Break\n",
            "1\n",
            "Enter an element to add\n",
            "300\n",
            "Stack after adding the element:  [100, 200, 300]\n",
            "\n",
            "Select a choice: 1. Push, 2. Pop, 3. Break\n",
            "2\n",
            "\n",
            "Stack after removing the element from Stack:  [100, 200]\n",
            "\n",
            "Select a choice: 1. Push, 2. Pop, 3. Break\n",
            "2\n",
            "\n",
            "Stack after removing the element from Stack:  [100]\n",
            "\n",
            "Select a choice: 1. Push, 2. Pop, 3. Break\n",
            "2\n",
            "\n",
            "Stack after removing the element from Stack:  []\n",
            "\n",
            "Select a choice: 1. Push, 2. Pop, 3. Break\n",
            "2\n",
            "Stack is empty\n",
            "\n",
            "Select a choice: 1. Push, 2. Pop, 3. Break\n",
            "2\n",
            "Stack is empty\n",
            "\n",
            "Select a choice: 1. Push, 2. Pop, 3. Break\n",
            "3\n",
            "\n",
            " Exiting out of operations\n"
          ]
        }
      ]
    },
    {
      "cell_type": "code",
      "source": [
        "# Stack using Collections - deque\n",
        "\n",
        "import collections\n",
        "\n",
        "stack = collections.deque()\n",
        "\n",
        "def add_element():\n",
        "  element = int(input(\"\\n Please enter an element to add\"))\n",
        "  stack.append(element)\n",
        "  print(\"\\n Stack after adding an element is: \", stack)\n",
        "\n",
        "def remove_element():\n",
        "  stack.pop()\n",
        "  print(\"\\n Stack after removing an element is: \", stack)\n",
        "\n",
        "while(True):\n",
        "  choice = int(input(\"Please enter your choice: 1. Add Element, 2. Remove element, 3. Exit\"))\n",
        "\n",
        "  if(choice == 1):\n",
        "    add_element()\n",
        "  elif choice == 2:\n",
        "    remove_element()\n",
        "  elif choice == 3:\n",
        "    print(\"\\n Exiting from the program\")\n",
        "    break\n",
        "  else:\n",
        "    print(\"Enter a valid choice\")"
      ],
      "metadata": {
        "colab": {
          "base_uri": "https://localhost:8080/"
        },
        "id": "Ga0K82rhYMLW",
        "outputId": "54c8af30-09e5-41f3-dd06-aef65e481986"
      },
      "execution_count": null,
      "outputs": [
        {
          "output_type": "stream",
          "name": "stdout",
          "text": [
            "Please enter your choice: 1. Add Element, 2. Remove element, 3. Exit3\n",
            "\n",
            " Exiting from the program\n"
          ]
        }
      ]
    },
    {
      "cell_type": "code",
      "source": [
        "# Stack using - queue\n",
        "\n",
        "import queue\n",
        "\n",
        "my_stack = queue.LifoQueue()\n",
        "\n",
        "def add_element():\n",
        "  element = int(input(\"Please enter an element to add\"))\n",
        "  my_stack.put(element, timeout=1)\n",
        "  print(\"Stack after adding the element, \", my_stack.queue)\n",
        "\n",
        "def remove_element():\n",
        "  if my_stack.empty:\n",
        "    print(\"Stack is full\")\n",
        "  else:\n",
        "    my_stack.get(timeout=1)\n",
        "    print(\"Stack after removing an element, \", my_stack.queue)\n",
        "\n",
        "while(True):\n",
        "  choice = int(input(\"Please enter your choice: 1. Add Element, 2. Remove Element, 3. Exit\"))\n",
        "\n",
        "  if choice == 1: \n",
        "    add_element()\n",
        "  elif choice == 2:\n",
        "    remove_element()\n",
        "  elif choice == 3:\n",
        "    print(\"Ending the program\")\n",
        "    break\n",
        "  else:\n",
        "    print(\"Enter a valid choice\")\n",
        "\n"
      ],
      "metadata": {
        "colab": {
          "base_uri": "https://localhost:8080/"
        },
        "id": "Rschg1-ibrXd",
        "outputId": "7cafd495-9473-4a54-9287-bb241b7bbde4"
      },
      "execution_count": null,
      "outputs": [
        {
          "output_type": "stream",
          "name": "stdout",
          "text": [
            "Please enter your choice: 1. Add Element, 2. Remove Element, 3. Exit2\n",
            "Stack is full\n",
            "Please enter your choice: 1. Add Element, 2. Remove Element, 3. Exit1\n",
            "Please enter an element to add10\n",
            "Stack after adding the element,  [10]\n",
            "Please enter your choice: 1. Add Element, 2. Remove Element, 3. Exit2\n",
            "Stack is full\n",
            "Please enter your choice: 1. Add Element, 2. Remove Element, 3. Exit3\n",
            "Ending the program\n"
          ]
        }
      ]
    },
    {
      "cell_type": "code",
      "source": [
        "# find the second largest number in an array\n",
        "n = int(input(\"\"))\n",
        "A = list(map(int, input().split()))\n",
        "A.sort()   #sorts the given array in ascending order\n",
        "if n ==1 : #print NA if array is having a single element thus not having second largest element \n",
        "  print(\"NA\")\n",
        "elif A[-2] < max(A): #the element present at the -2 position in array is required to be printed\n",
        "  print(A[-2])\n",
        "else:\n",
        "  print(\"NA\")"
      ],
      "metadata": {
        "id": "PovFRbrDiqgW",
        "colab": {
          "base_uri": "https://localhost:8080/"
        },
        "outputId": "485cbbd9-c93d-426a-96e4-4eece35789a9"
      },
      "execution_count": 10,
      "outputs": [
        {
          "output_type": "stream",
          "name": "stdout",
          "text": [
            "3\n",
            "10 5 8\n",
            "8\n"
          ]
        }
      ]
    },
    {
      "cell_type": "code",
      "source": [
        "# find the second largest number in an array\n",
        "A = list(map(int, input().split()))\n",
        "largest = None\n",
        "second = 0\n",
        "for i in A:\n",
        "  if largest == None:\n",
        "    largest = i\n",
        "  elif i > largest:\n",
        "    second = largest\n",
        "    largest = i\n",
        "  elif i > second and i != largest:\n",
        "    second = i\n",
        "print(second)"
      ],
      "metadata": {
        "colab": {
          "base_uri": "https://localhost:8080/"
        },
        "id": "6w_89hOiMyjG",
        "outputId": "f345df34-449f-4bd5-a0b8-ce242bc3cea5"
      },
      "execution_count": 1,
      "outputs": [
        {
          "output_type": "stream",
          "name": "stdout",
          "text": [
            "3\n",
            "0\n"
          ]
        }
      ]
    },
    {
      "cell_type": "code",
      "source": [
        "def fibArray(num):\n",
        "  if num <= 1:\n",
        "    return num\n",
        "  else:\n",
        "    return (fibArray(num-1) + fibArray(num-2))\n",
        "\n",
        "n = 10\n",
        "for i in range(n+1):\n",
        "  print(fibArray(i))"
      ],
      "metadata": {
        "colab": {
          "base_uri": "https://localhost:8080/"
        },
        "id": "1nzBLs8KaPwJ",
        "outputId": "b9460b66-5a8f-43ea-c4c4-74bccf81dd40"
      },
      "execution_count": 8,
      "outputs": [
        {
          "output_type": "stream",
          "name": "stdout",
          "text": [
            "0\n",
            "1\n",
            "1\n",
            "2\n",
            "3\n",
            "5\n",
            "8\n",
            "13\n",
            "21\n",
            "34\n",
            "55\n"
          ]
        }
      ]
    },
    {
      "cell_type": "code",
      "source": [
        "List = [\"cba\", \"abc\", \"xyz\", \"zyx\", \"lmno\",\"abc\"]\n",
        "\n",
        "wordDict = {}\n",
        "count = 0\n",
        "\n",
        "for i in List:\n",
        "  temp = sorted(i)\n",
        "  out = ''.join(temp)\n",
        "  # print(out)\n",
        "  if out not in wordDict:\n",
        "    wordDict[out] = 1\n",
        "  else:\n",
        "    wordDict[out] += 1\n",
        "\n",
        "print(wordDict)\n",
        "\n"
      ],
      "metadata": {
        "colab": {
          "base_uri": "https://localhost:8080/"
        },
        "id": "c_yW7u-ranS5",
        "outputId": "703cd76c-389c-4640-aa68-857e6cb04874"
      },
      "execution_count": 16,
      "outputs": [
        {
          "output_type": "stream",
          "name": "stdout",
          "text": [
            "abc\n",
            "abc\n",
            "xyz\n",
            "xyz\n",
            "lmno\n",
            "abc\n",
            "{'abc': 3, 'xyz': 2, 'lmno': 1}\n"
          ]
        }
      ]
    },
    {
      "cell_type": "code",
      "source": [
        "List1 = ['a','b','c','d','a']\n",
        "\n",
        "key = 'c'\n",
        "count = 0\n",
        "\n",
        "for i in List1:\n",
        "  if key == i:\n",
        "    count += 1\n",
        "\n",
        "if count>1:\n",
        "  print(f'{key} is duplicate in the given list')\n",
        "else:\n",
        "  print(f'{key} is not duplicate in the given list')"
      ],
      "metadata": {
        "colab": {
          "base_uri": "https://localhost:8080/"
        },
        "id": "q3a88dVzhw9X",
        "outputId": "a8805ec0-6887-44d6-ea4f-60bcb0a5f481"
      },
      "execution_count": 31,
      "outputs": [
        {
          "output_type": "stream",
          "name": "stdout",
          "text": [
            "c is not duplicate in the given list\n"
          ]
        }
      ]
    },
    {
      "cell_type": "code",
      "source": [
        "List2 = ['a','b','c','d','a']\n",
        "\n",
        "key = ['a', 'c']\n",
        "newDict = {}\n",
        "\n",
        "for i in List2:\n",
        "  if i not in newDict:\n",
        "    newDict[i] = 1\n",
        "  else:\n",
        "    newDict[i] += 1\n",
        "\n",
        "for i in key:\n",
        "  if i in newDict:\n",
        "    if newDict[i] > 1:\n",
        "      print(f'{i} is duplicated')\n",
        "    else:\n",
        "      print(f'{i} is not duplicate')"
      ],
      "metadata": {
        "colab": {
          "base_uri": "https://localhost:8080/"
        },
        "id": "ZhFqvWGLkV-_",
        "outputId": "494f5ecf-eee7-474f-9d30-565e1696e8d6"
      },
      "execution_count": 36,
      "outputs": [
        {
          "output_type": "stream",
          "name": "stdout",
          "text": [
            "a is duplicated\n",
            "c is not duplicate\n"
          ]
        }
      ]
    },
    {
      "cell_type": "code",
      "source": [
        "A = 'abedceba'\n",
        "\n",
        "# count = 0\n",
        "def checkPalin(S):\n",
        "  count = 0\n",
        "  for i in S:\n",
        "    if S == S[::-1]:\n",
        "      print(\"Palindrome\")\n",
        "      return \n",
        "    else:\n",
        "      count -= 1\n",
        "      B = S[count:]\n",
        "      print(f\"{count}, \", B)\n",
        "      checkPalin(B)\n",
        "      # count += 1\n",
        "\n",
        "checkPalin(A)"
      ],
      "metadata": {
        "colab": {
          "base_uri": "https://localhost:8080/",
          "height": 1000
        },
        "id": "L1naXuFUvQte",
        "outputId": "07cc8d08-62c9-425e-d8be-d6833d16cc68"
      },
      "execution_count": 32,
      "outputs": [
        {
          "output_type": "stream",
          "name": "stdout",
          "text": [
            "-1,  a\n",
            "Palindrome\n",
            "-2,  ba\n",
            "-1,  a\n",
            "Palindrome\n",
            "-2,  ba\n",
            "-1,  a\n",
            "Palindrome\n",
            "-2,  ba\n",
            "-1,  a\n",
            "Palindrome\n",
            "-2,  ba\n",
            "-1,  a\n",
            "Palindrome\n",
            "-2,  ba\n",
            "-1,  a\n",
            "Palindrome\n",
            "-2,  ba\n",
            "-1,  a\n",
            "Palindrome\n",
            "-2,  ba\n",
            "-1,  a\n",
            "Palindrome\n",
            "-2,  ba\n",
            "-1,  a\n",
            "Palindrome\n",
            "-2,  ba\n",
            "-1,  a\n",
            "Palindrome\n",
            "-2,  ba\n",
            "-1,  a\n",
            "Palindrome\n",
            "-2,  ba\n",
            "-1,  a\n",
            "Palindrome\n",
            "-2,  ba\n",
            "-1,  a\n",
            "Palindrome\n",
            "-2,  ba\n",
            "-1,  a\n",
            "Palindrome\n",
            "-2,  ba\n",
            "-1,  a\n",
            "Palindrome\n",
            "-2,  ba\n",
            "-1,  a\n",
            "Palindrome\n",
            "-2,  ba\n",
            "-1,  a\n",
            "Palindrome\n",
            "-2,  ba\n",
            "-1,  a\n",
            "Palindrome\n",
            "-2,  ba\n",
            "-1,  a\n",
            "Palindrome\n",
            "-2,  ba\n",
            "-1,  a\n",
            "Palindrome\n",
            "-2,  ba\n",
            "-1,  a\n",
            "Palindrome\n",
            "-2,  ba\n",
            "-1,  a\n",
            "Palindrome\n",
            "-2,  ba\n",
            "-1,  a\n",
            "Palindrome\n",
            "-2,  ba\n",
            "-1,  a\n",
            "Palindrome\n",
            "-2,  ba\n",
            "-1,  a\n",
            "Palindrome\n",
            "-2,  ba\n",
            "-1,  a\n",
            "Palindrome\n",
            "-2,  ba\n",
            "-1,  a\n",
            "Palindrome\n",
            "-2,  ba\n",
            "-1,  a\n",
            "Palindrome\n",
            "-2,  ba\n",
            "-1,  a\n",
            "Palindrome\n",
            "-2,  ba\n",
            "-1,  a\n",
            "Palindrome\n",
            "-2,  ba\n",
            "-1,  a\n",
            "Palindrome\n",
            "-2,  ba\n",
            "-1,  a\n",
            "Palindrome\n",
            "-2,  ba\n",
            "-1,  a\n",
            "Palindrome\n",
            "-2,  ba\n",
            "-1,  a\n",
            "Palindrome\n",
            "-2,  ba\n",
            "-1,  a\n",
            "Palindrome\n",
            "-2,  ba\n",
            "-1,  a\n",
            "Palindrome\n",
            "-2,  ba\n",
            "-1,  a\n",
            "Palindrome\n",
            "-2,  ba\n",
            "-1,  a\n",
            "Palindrome\n",
            "-2,  ba\n",
            "-1,  a\n",
            "Palindrome\n",
            "-2,  ba\n",
            "-1,  a\n",
            "Palindrome\n",
            "-2,  ba\n",
            "-1,  a\n",
            "Palindrome\n",
            "-2,  ba\n",
            "-1,  a\n",
            "Palindrome\n",
            "-2,  ba\n",
            "-1,  a\n",
            "Palindrome\n",
            "-2,  ba\n",
            "-1,  a\n",
            "Palindrome\n",
            "-2,  ba\n",
            "-1,  a\n",
            "Palindrome\n",
            "-2,  ba\n",
            "-1,  a\n",
            "Palindrome\n",
            "-2,  ba\n",
            "-1,  a\n",
            "Palindrome\n",
            "-2,  ba\n",
            "-1,  a\n",
            "Palindrome\n",
            "-2,  ba\n",
            "-1,  a\n",
            "Palindrome\n",
            "-2,  ba\n",
            "-1,  a\n",
            "Palindrome\n",
            "-2,  ba\n",
            "-1,  a\n",
            "Palindrome\n",
            "-2,  ba\n",
            "-1,  a\n",
            "Palindrome\n",
            "-2,  ba\n",
            "-1,  a\n",
            "Palindrome\n",
            "-2,  ba\n",
            "-1,  a\n",
            "Palindrome\n",
            "-2,  ba\n",
            "-1,  a\n",
            "Palindrome\n",
            "-2,  ba\n",
            "-1,  a\n",
            "Palindrome\n",
            "-2,  ba\n",
            "-1,  a\n",
            "Palindrome\n",
            "-2,  ba\n",
            "-1,  a\n",
            "Palindrome\n",
            "-2,  ba\n",
            "-1,  a\n",
            "Palindrome\n",
            "-2,  ba\n",
            "-1,  a\n",
            "Palindrome\n",
            "-2,  ba\n",
            "-1,  a\n",
            "Palindrome\n",
            "-2,  ba\n",
            "-1,  a\n",
            "Palindrome\n",
            "-2,  ba\n",
            "-1,  a\n",
            "Palindrome\n",
            "-2,  ba\n",
            "-1,  a\n",
            "Palindrome\n",
            "-2,  ba\n",
            "-1,  a\n",
            "Palindrome\n",
            "-2,  ba\n",
            "-1,  a\n",
            "Palindrome\n",
            "-2,  ba\n",
            "-1,  a\n",
            "Palindrome\n",
            "-2,  ba\n",
            "-1,  a\n",
            "Palindrome\n",
            "-2,  ba\n",
            "-1,  a\n",
            "Palindrome\n",
            "-2,  ba\n",
            "-1,  a\n",
            "Palindrome\n",
            "-2,  ba\n",
            "-1,  a\n",
            "Palindrome\n",
            "-2,  ba\n",
            "-1,  a\n",
            "Palindrome\n",
            "-2,  ba\n",
            "-1,  a\n",
            "Palindrome\n",
            "-2,  ba\n",
            "-1,  a\n",
            "Palindrome\n",
            "-2,  ba\n",
            "-1,  a\n",
            "Palindrome\n",
            "-2,  ba\n",
            "-1,  a\n",
            "Palindrome\n",
            "-2,  ba\n",
            "-1,  a\n",
            "Palindrome\n",
            "-2,  ba\n",
            "-1,  a\n",
            "Palindrome\n",
            "-2,  ba\n",
            "-1,  a\n",
            "Palindrome\n",
            "-2,  ba\n",
            "-1,  a\n",
            "Palindrome\n",
            "-2,  ba\n",
            "-1,  a\n",
            "Palindrome\n",
            "-2,  ba\n",
            "-1,  a\n",
            "Palindrome\n",
            "-2,  ba\n",
            "-1,  a\n",
            "Palindrome\n",
            "-2,  ba\n",
            "-1,  a\n",
            "Palindrome\n",
            "-2,  ba\n",
            "-1,  a\n",
            "Palindrome\n",
            "-2,  ba\n",
            "-1,  a\n",
            "Palindrome\n",
            "-2,  ba\n",
            "-1,  a\n",
            "Palindrome\n",
            "-2,  ba\n",
            "-1,  a\n",
            "Palindrome\n",
            "-2,  ba\n",
            "-1,  a\n",
            "Palindrome\n",
            "-2,  ba\n",
            "-1,  a\n",
            "Palindrome\n",
            "-2,  ba\n",
            "-1,  a\n",
            "Palindrome\n",
            "-2,  ba\n",
            "-1,  a\n",
            "Palindrome\n",
            "-2,  ba\n",
            "-1,  a\n",
            "Palindrome\n",
            "-2,  ba\n",
            "-1,  a\n",
            "Palindrome\n",
            "-2,  ba\n",
            "-1,  a\n",
            "Palindrome\n",
            "-2,  ba\n",
            "-1,  a\n",
            "Palindrome\n",
            "-2,  ba\n",
            "-1,  a\n",
            "Palindrome\n",
            "-2,  ba\n",
            "-1,  a\n",
            "Palindrome\n",
            "-2,  ba\n",
            "-1,  a\n",
            "Palindrome\n",
            "-2,  ba\n",
            "-1,  a\n",
            "Palindrome\n",
            "-2,  ba\n",
            "-1,  a\n",
            "Palindrome\n",
            "-2,  ba\n",
            "-1,  a\n",
            "Palindrome\n",
            "-2,  ba\n",
            "-1,  a\n",
            "Palindrome\n",
            "-2,  ba\n",
            "-1,  a\n",
            "Palindrome\n",
            "-2,  ba\n",
            "-1,  a\n",
            "Palindrome\n",
            "-2,  ba\n",
            "-1,  a\n",
            "Palindrome\n",
            "-2,  ba\n",
            "-1,  a\n",
            "Palindrome\n",
            "-2,  ba\n",
            "-1,  a\n",
            "Palindrome\n",
            "-2,  ba\n",
            "-1,  a\n",
            "Palindrome\n",
            "-2,  ba\n",
            "-1,  a\n",
            "Palindrome\n",
            "-2,  ba\n",
            "-1,  a\n",
            "Palindrome\n",
            "-2,  ba\n",
            "-1,  a\n",
            "Palindrome\n",
            "-2,  ba\n",
            "-1,  a\n",
            "Palindrome\n",
            "-2,  ba\n",
            "-1,  a\n",
            "Palindrome\n",
            "-2,  ba\n",
            "-1,  a\n",
            "Palindrome\n",
            "-2,  ba\n",
            "-1,  a\n",
            "Palindrome\n",
            "-2,  ba\n",
            "-1,  a\n",
            "Palindrome\n",
            "-2,  ba\n",
            "-1,  a\n",
            "Palindrome\n",
            "-2,  ba\n",
            "-1,  a\n",
            "Palindrome\n",
            "-2,  ba\n",
            "-1,  a\n",
            "Palindrome\n",
            "-2,  ba\n",
            "-1,  a\n",
            "Palindrome\n",
            "-2,  ba\n",
            "-1,  a\n",
            "Palindrome\n",
            "-2,  ba\n",
            "-1,  a\n",
            "Palindrome\n",
            "-2,  ba\n",
            "-1,  a\n",
            "Palindrome\n",
            "-2,  ba\n",
            "-1,  a\n",
            "Palindrome\n",
            "-2,  ba\n",
            "-1,  a\n",
            "Palindrome\n",
            "-2,  ba\n",
            "-1,  a\n",
            "Palindrome\n",
            "-2,  ba\n",
            "-1,  a\n",
            "Palindrome\n",
            "-2,  ba\n",
            "-1,  a\n",
            "Palindrome\n",
            "-2,  ba\n",
            "-1,  a\n",
            "Palindrome\n",
            "-2,  ba\n",
            "-1,  a\n",
            "Palindrome\n",
            "-2,  ba\n",
            "-1,  a\n",
            "Palindrome\n",
            "-2,  ba\n",
            "-1,  a\n",
            "Palindrome\n",
            "-2,  ba\n",
            "-1,  a\n",
            "Palindrome\n",
            "-2,  ba\n",
            "-1,  a\n",
            "Palindrome\n",
            "-2,  ba\n",
            "-1,  a\n",
            "Palindrome\n",
            "-2,  ba\n",
            "-1,  a\n",
            "Palindrome\n",
            "-2,  ba\n",
            "-1,  a\n",
            "Palindrome\n",
            "-2,  ba\n",
            "-1,  a\n",
            "Palindrome\n",
            "-2,  ba\n",
            "-1,  a\n",
            "Palindrome\n",
            "-2,  ba\n",
            "-1,  a\n",
            "Palindrome\n",
            "-2,  ba\n",
            "-1,  a\n",
            "Palindrome\n",
            "-2,  ba\n",
            "-1,  a\n",
            "Palindrome\n",
            "-2,  ba\n",
            "-1,  a\n",
            "Palindrome\n",
            "-2,  ba\n",
            "-1,  a\n",
            "Palindrome\n",
            "-2,  ba\n",
            "-1,  a\n",
            "Palindrome\n",
            "-2,  ba\n",
            "-1,  a\n",
            "Palindrome\n",
            "-2,  ba\n",
            "-1,  a\n",
            "Palindrome\n",
            "-2,  ba\n",
            "-1,  a\n",
            "Palindrome\n",
            "-2,  ba\n",
            "-1,  a\n",
            "Palindrome\n",
            "-2,  ba\n",
            "-1,  a\n",
            "Palindrome\n",
            "-2,  ba\n",
            "-1,  a\n",
            "Palindrome\n",
            "-2,  ba\n",
            "-1,  a\n",
            "Palindrome\n",
            "-2,  ba\n",
            "-1,  a\n",
            "Palindrome\n",
            "-2,  ba\n",
            "-1,  a\n",
            "Palindrome\n",
            "-2,  ba\n",
            "-1,  a\n",
            "Palindrome\n",
            "-2,  ba\n",
            "-1,  a\n",
            "Palindrome\n",
            "-2,  ba\n",
            "-1,  a\n",
            "Palindrome\n",
            "-2,  ba\n",
            "-1,  a\n",
            "Palindrome\n",
            "-2,  ba\n",
            "-1,  a\n",
            "Palindrome\n",
            "-2,  ba\n",
            "-1,  a\n",
            "Palindrome\n",
            "-2,  ba\n",
            "-1,  a\n",
            "Palindrome\n",
            "-2,  ba\n",
            "-1,  a\n",
            "Palindrome\n",
            "-2,  ba\n",
            "-1,  a\n",
            "Palindrome\n",
            "-2,  ba\n",
            "-1,  a\n",
            "Palindrome\n",
            "-2,  ba\n",
            "-1,  a\n",
            "Palindrome\n",
            "-2,  ba\n",
            "-1,  a\n",
            "Palindrome\n",
            "-2,  ba\n",
            "-1,  a\n",
            "Palindrome\n",
            "-2,  ba\n",
            "-1,  a\n",
            "Palindrome\n",
            "-2,  ba\n",
            "-1,  a\n",
            "Palindrome\n",
            "-2,  ba\n",
            "-1,  a\n",
            "Palindrome\n",
            "-2,  ba\n",
            "-1,  a\n",
            "Palindrome\n",
            "-2,  ba\n",
            "-1,  a\n",
            "Palindrome\n",
            "-2,  ba\n",
            "-1,  a\n",
            "Palindrome\n",
            "-2,  ba\n",
            "-1,  a\n",
            "Palindrome\n",
            "-2,  ba\n",
            "-1,  a\n",
            "Palindrome\n",
            "-2,  ba\n",
            "-1,  a\n",
            "Palindrome\n",
            "-2,  ba\n",
            "-1,  a\n",
            "Palindrome\n",
            "-2,  ba\n",
            "-1,  a\n",
            "Palindrome\n",
            "-2,  ba\n",
            "-1,  a\n",
            "Palindrome\n",
            "-2,  ba\n",
            "-1,  a\n",
            "Palindrome\n",
            "-2,  ba\n",
            "-1,  a\n",
            "Palindrome\n",
            "-2,  ba\n",
            "-1,  a\n",
            "Palindrome\n",
            "-2,  ba\n",
            "-1,  a\n",
            "Palindrome\n",
            "-2,  ba\n",
            "-1,  a\n",
            "Palindrome\n",
            "-2,  ba\n",
            "-1,  a\n",
            "Palindrome\n",
            "-2,  ba\n",
            "-1,  a\n",
            "Palindrome\n",
            "-2,  ba\n",
            "-1,  a\n",
            "Palindrome\n",
            "-2,  ba\n",
            "-1,  a\n",
            "Palindrome\n",
            "-2,  ba\n",
            "-1,  a\n",
            "Palindrome\n",
            "-2,  ba\n",
            "-1,  a\n",
            "Palindrome\n",
            "-2,  ba\n",
            "-1,  a\n",
            "Palindrome\n",
            "-2,  ba\n",
            "-1,  a\n",
            "Palindrome\n",
            "-2,  ba\n",
            "-1,  a\n",
            "Palindrome\n",
            "-2,  ba\n",
            "-1,  a\n",
            "Palindrome\n",
            "-2,  ba\n",
            "-1,  a\n",
            "Palindrome\n",
            "-2,  ba\n",
            "-1,  a\n",
            "Palindrome\n",
            "-2,  ba\n",
            "-1,  a\n",
            "Palindrome\n",
            "-2,  ba\n",
            "-1,  a\n",
            "Palindrome\n",
            "-2,  ba\n",
            "-1,  a\n",
            "Palindrome\n",
            "-2,  ba\n",
            "-1,  a\n",
            "Palindrome\n",
            "-2,  ba\n",
            "-1,  a\n",
            "Palindrome\n",
            "-2,  ba\n",
            "-1,  a\n",
            "Palindrome\n",
            "-2,  ba\n",
            "-1,  a\n",
            "Palindrome\n",
            "-2,  ba\n",
            "-1,  a\n",
            "Palindrome\n",
            "-2,  ba\n",
            "-1,  a\n",
            "Palindrome\n",
            "-2,  ba\n",
            "-1,  a\n",
            "Palindrome\n",
            "-2,  ba\n",
            "-1,  a\n",
            "Palindrome\n",
            "-2,  ba\n",
            "-1,  a\n",
            "Palindrome\n",
            "-2,  ba\n",
            "-1,  a\n",
            "Palindrome\n",
            "-2,  ba\n",
            "-1,  a\n",
            "Palindrome\n",
            "-2,  ba\n",
            "-1,  a\n",
            "Palindrome\n",
            "-2,  ba\n",
            "-1,  a\n",
            "Palindrome\n",
            "-2,  ba\n",
            "-1,  a\n",
            "Palindrome\n",
            "-2,  ba\n",
            "-1,  a\n",
            "Palindrome\n",
            "-2,  ba\n",
            "-1,  a\n",
            "Palindrome\n",
            "-2,  ba\n",
            "-1,  a\n",
            "Palindrome\n",
            "-2,  ba\n",
            "-1,  a\n",
            "Palindrome\n",
            "-2,  ba\n",
            "-1,  a\n",
            "Palindrome\n",
            "-2,  ba\n",
            "-1,  a\n",
            "Palindrome\n",
            "-2,  ba\n",
            "-1,  a\n",
            "Palindrome\n",
            "-2,  ba\n",
            "-1,  a\n",
            "Palindrome\n",
            "-2,  ba\n",
            "-1,  a\n",
            "Palindrome\n",
            "-2,  ba\n",
            "-1,  a\n",
            "Palindrome\n",
            "-2,  ba\n",
            "-1,  a\n",
            "Palindrome\n",
            "-2,  ba\n",
            "-1,  a\n",
            "Palindrome\n",
            "-2,  ba\n",
            "-1,  a\n",
            "Palindrome\n",
            "-2,  ba\n",
            "-1,  a\n",
            "Palindrome\n",
            "-2,  ba\n",
            "-1,  a\n",
            "Palindrome\n",
            "-2,  ba\n",
            "-1,  a\n",
            "Palindrome\n",
            "-2,  ba\n",
            "-1,  a\n",
            "Palindrome\n",
            "-2,  ba\n",
            "-1,  a\n",
            "Palindrome\n",
            "-2,  ba\n",
            "-1,  a\n",
            "Palindrome\n",
            "-2,  ba\n",
            "-1,  a\n",
            "Palindrome\n",
            "-2,  ba\n",
            "-1,  a\n",
            "Palindrome\n",
            "-2,  ba\n",
            "-1,  a\n",
            "Palindrome\n",
            "-2,  ba\n",
            "-1,  a\n",
            "Palindrome\n",
            "-2,  ba\n",
            "-1,  a\n",
            "Palindrome\n",
            "-2,  ba\n",
            "-1,  a\n",
            "Palindrome\n",
            "-2,  ba\n",
            "-1,  a\n",
            "Palindrome\n",
            "-2,  ba\n",
            "-1,  a\n",
            "Palindrome\n",
            "-2,  ba\n",
            "-1,  a\n",
            "Palindrome\n",
            "-2,  ba\n",
            "-1,  a\n",
            "Palindrome\n",
            "-2,  ba\n",
            "-1,  a\n",
            "Palindrome\n",
            "-2,  ba\n",
            "-1,  a\n",
            "Palindrome\n",
            "-2,  ba\n",
            "-1,  a\n",
            "Palindrome\n",
            "-2,  ba\n",
            "-1,  a\n",
            "Palindrome\n",
            "-2,  ba\n",
            "-1,  a\n",
            "Palindrome\n",
            "-2,  ba\n",
            "-1,  a\n",
            "Palindrome\n",
            "-2,  ba\n",
            "-1,  a\n",
            "Palindrome\n",
            "-2,  ba\n",
            "-1,  a\n",
            "Palindrome\n",
            "-2,  ba\n",
            "-1,  a\n",
            "Palindrome\n",
            "-2,  ba\n",
            "-1,  a\n",
            "Palindrome\n",
            "-2,  ba\n",
            "-1,  a\n",
            "Palindrome\n",
            "-2,  ba\n",
            "-1,  a\n",
            "Palindrome\n",
            "-2,  ba\n",
            "-1,  a\n",
            "Palindrome\n",
            "-2,  ba\n",
            "-1,  a\n",
            "Palindrome\n",
            "-2,  ba\n",
            "-1,  a\n",
            "Palindrome\n",
            "-2,  ba\n",
            "-1,  a\n",
            "Palindrome\n",
            "-2,  ba\n",
            "-1,  a\n",
            "Palindrome\n",
            "-2,  ba\n",
            "-1,  a\n",
            "Palindrome\n",
            "-2,  ba\n",
            "-1,  a\n",
            "Palindrome\n",
            "-2,  ba\n",
            "-1,  a\n",
            "Palindrome\n",
            "-2,  ba\n",
            "-1,  a\n",
            "Palindrome\n",
            "-2,  ba\n",
            "-1,  a\n",
            "Palindrome\n",
            "-2,  ba\n",
            "-1,  a\n",
            "Palindrome\n",
            "-2,  ba\n",
            "-1,  a\n",
            "Palindrome\n",
            "-2,  ba\n",
            "-1,  a\n",
            "Palindrome\n",
            "-2,  ba\n",
            "-1,  a\n",
            "Palindrome\n",
            "-2,  ba\n",
            "-1,  a\n",
            "Palindrome\n",
            "-2,  ba\n",
            "-1,  a\n",
            "Palindrome\n",
            "-2,  ba\n",
            "-1,  a\n",
            "Palindrome\n",
            "-2,  ba\n",
            "-1,  a\n",
            "Palindrome\n",
            "-2,  ba\n",
            "-1,  a\n",
            "Palindrome\n",
            "-2,  ba\n",
            "-1,  a\n",
            "Palindrome\n",
            "-2,  ba\n",
            "-1,  a\n",
            "Palindrome\n",
            "-2,  ba\n",
            "-1,  a\n",
            "Palindrome\n",
            "-2,  ba\n",
            "-1,  a\n",
            "Palindrome\n",
            "-2,  ba\n",
            "-1,  a\n",
            "Palindrome\n",
            "-2,  ba\n",
            "-1,  a\n",
            "Palindrome\n",
            "-2,  ba\n",
            "-1,  a\n",
            "Palindrome\n",
            "-2,  ba\n",
            "-1,  a\n",
            "Palindrome\n",
            "-2,  ba\n",
            "-1,  a\n",
            "Palindrome\n",
            "-2,  ba\n",
            "-1,  a\n",
            "Palindrome\n",
            "-2,  ba\n",
            "-1,  a\n",
            "Palindrome\n",
            "-2,  ba\n",
            "-1,  a\n",
            "Palindrome\n",
            "-2,  ba\n",
            "-1,  a\n",
            "Palindrome\n",
            "-2,  ba\n",
            "-1,  a\n",
            "Palindrome\n",
            "-2,  ba\n",
            "-1,  a\n",
            "Palindrome\n",
            "-2,  ba\n",
            "-1,  a\n",
            "Palindrome\n",
            "-2,  ba\n",
            "-1,  a\n",
            "Palindrome\n",
            "-2,  ba\n",
            "-1,  a\n",
            "Palindrome\n",
            "-2,  ba\n",
            "-1,  a\n",
            "Palindrome\n",
            "-2,  ba\n",
            "-1,  a\n",
            "Palindrome\n",
            "-2,  ba\n",
            "-1,  a\n",
            "Palindrome\n",
            "-2,  ba\n",
            "-1,  a\n",
            "Palindrome\n",
            "-2,  ba\n",
            "-1,  a\n",
            "Palindrome\n",
            "-2,  ba\n",
            "-1,  a\n",
            "Palindrome\n",
            "-2,  ba\n",
            "-1,  a\n",
            "Palindrome\n",
            "-2,  ba\n",
            "-1,  a\n",
            "Palindrome\n",
            "-2,  ba\n",
            "-1,  a\n",
            "Palindrome\n",
            "-2,  ba\n",
            "-1,  a\n",
            "Palindrome\n",
            "-2,  ba\n",
            "-1,  a\n",
            "Palindrome\n",
            "-2,  ba\n",
            "-1,  a\n",
            "Palindrome\n",
            "-2,  ba\n",
            "-1,  a\n",
            "Palindrome\n",
            "-2,  ba\n",
            "-1,  a\n",
            "Palindrome\n",
            "-2,  ba\n",
            "-1,  a\n",
            "Palindrome\n",
            "-2,  ba\n",
            "-1,  a\n",
            "Palindrome\n",
            "-2,  ba\n",
            "-1,  a\n",
            "Palindrome\n",
            "-2,  ba\n",
            "-1,  a\n",
            "Palindrome\n",
            "-2,  ba\n",
            "-1,  a\n",
            "Palindrome\n",
            "-2,  ba\n",
            "-1,  a\n",
            "Palindrome\n",
            "-2,  ba\n",
            "-1,  a\n",
            "Palindrome\n",
            "-2,  ba\n",
            "-1,  a\n",
            "Palindrome\n",
            "-2,  ba\n",
            "-1,  a\n",
            "Palindrome\n",
            "-2,  ba\n",
            "-1,  a\n",
            "Palindrome\n",
            "-2,  ba\n",
            "-1,  a\n",
            "Palindrome\n",
            "-2,  ba\n",
            "-1,  a\n",
            "Palindrome\n",
            "-2,  ba\n",
            "-1,  a\n",
            "Palindrome\n",
            "-2,  ba\n",
            "-1,  a\n",
            "Palindrome\n",
            "-2,  ba\n",
            "-1,  a\n",
            "Palindrome\n",
            "-2,  ba\n",
            "-1,  a\n",
            "Palindrome\n",
            "-2,  ba\n",
            "-1,  a\n",
            "Palindrome\n",
            "-2,  ba\n",
            "-1,  a\n",
            "Palindrome\n",
            "-2,  ba\n",
            "-1,  a\n",
            "Palindrome\n",
            "-2,  ba\n",
            "-1,  a\n",
            "Palindrome\n",
            "-2,  ba\n",
            "-1,  a\n",
            "Palindrome\n",
            "-2,  ba\n",
            "-1,  a\n",
            "Palindrome\n",
            "-2,  ba\n",
            "-1,  a\n",
            "Palindrome\n",
            "-2,  ba\n",
            "-1,  a\n",
            "Palindrome\n",
            "-2,  ba\n",
            "-1,  a\n",
            "Palindrome\n",
            "-2,  ba\n",
            "-1,  a\n",
            "Palindrome\n",
            "-2,  ba\n",
            "-1,  a\n",
            "Palindrome\n",
            "-2,  ba\n",
            "-1,  a\n",
            "Palindrome\n",
            "-2,  ba\n",
            "-1,  a\n",
            "Palindrome\n",
            "-2,  ba\n",
            "-1,  a\n",
            "Palindrome\n",
            "-2,  ba\n",
            "-1,  a\n",
            "Palindrome\n",
            "-2,  ba\n",
            "-1,  a\n",
            "Palindrome\n",
            "-2,  ba\n",
            "-1,  a\n",
            "Palindrome\n",
            "-2,  ba\n",
            "-1,  a\n",
            "Palindrome\n",
            "-2,  ba\n",
            "-1,  a\n",
            "Palindrome\n",
            "-2,  ba\n",
            "-1,  a\n",
            "Palindrome\n",
            "-2,  ba\n",
            "-1,  a\n",
            "Palindrome\n",
            "-2,  ba\n",
            "-1,  a\n",
            "Palindrome\n",
            "-2,  ba\n",
            "-1,  a\n",
            "Palindrome\n",
            "-2,  ba\n",
            "-1,  a\n",
            "Palindrome\n",
            "-2,  ba\n",
            "-1,  a\n",
            "Palindrome\n",
            "-2,  ba\n",
            "-1,  a\n",
            "Palindrome\n",
            "-2,  ba\n",
            "-1,  a\n",
            "Palindrome\n",
            "-2,  ba\n",
            "-1,  a\n",
            "Palindrome\n",
            "-2,  ba\n",
            "-1,  a\n",
            "Palindrome\n",
            "-2,  ba\n",
            "-1,  a\n",
            "Palindrome\n",
            "-2,  ba\n",
            "-1,  a\n",
            "Palindrome\n",
            "-2,  ba\n",
            "-1,  a\n",
            "Palindrome\n",
            "-2,  ba\n",
            "-1,  a\n",
            "Palindrome\n",
            "-2,  ba\n",
            "-1,  a\n",
            "Palindrome\n",
            "-2,  ba\n",
            "-1,  a\n",
            "Palindrome\n",
            "-2,  ba\n",
            "-1,  a\n",
            "Palindrome\n",
            "-2,  ba\n",
            "-1,  a\n",
            "Palindrome\n",
            "-2,  ba\n",
            "-1,  a\n",
            "Palindrome\n",
            "-2,  ba\n",
            "-1,  a\n",
            "Palindrome\n",
            "-2,  ba\n",
            "-1,  a\n",
            "Palindrome\n",
            "-2,  ba\n",
            "-1,  a\n",
            "Palindrome\n",
            "-2,  ba\n",
            "-1,  a\n",
            "Palindrome\n",
            "-2,  ba\n",
            "-1,  a\n",
            "Palindrome\n",
            "-2,  ba\n",
            "-1,  a\n",
            "Palindrome\n",
            "-2,  ba\n",
            "-1,  a\n",
            "Palindrome\n",
            "-2,  ba\n",
            "-1,  a\n",
            "Palindrome\n",
            "-2,  ba\n",
            "-1,  a\n",
            "Palindrome\n",
            "-2,  ba\n",
            "-1,  a\n",
            "Palindrome\n",
            "-2,  ba\n",
            "-1,  a\n",
            "Palindrome\n",
            "-2,  ba\n",
            "-1,  a\n",
            "Palindrome\n",
            "-2,  ba\n",
            "-1,  a\n",
            "Palindrome\n",
            "-2,  ba\n",
            "-1,  a\n",
            "Palindrome\n",
            "-2,  ba\n",
            "-1,  a\n",
            "Palindrome\n",
            "-2,  ba\n",
            "-1,  a\n",
            "Palindrome\n",
            "-2,  ba\n",
            "-1,  a\n",
            "Palindrome\n",
            "-2,  ba\n",
            "-1,  a\n",
            "Palindrome\n",
            "-2,  ba\n",
            "-1,  a\n",
            "Palindrome\n",
            "-2,  ba\n",
            "-1,  a\n",
            "Palindrome\n",
            "-2,  ba\n",
            "-1,  a\n",
            "Palindrome\n",
            "-2,  ba\n",
            "-1,  a\n",
            "Palindrome\n",
            "-2,  ba\n",
            "-1,  a\n",
            "Palindrome\n",
            "-2,  ba\n",
            "-1,  a\n",
            "Palindrome\n",
            "-2,  ba\n",
            "-1,  a\n",
            "Palindrome\n",
            "-2,  ba\n",
            "-1,  a\n",
            "Palindrome\n",
            "-2,  ba\n",
            "-1,  a\n",
            "Palindrome\n",
            "-2,  ba\n",
            "-1,  a\n",
            "Palindrome\n",
            "-2,  ba\n",
            "-1,  a\n",
            "Palindrome\n",
            "-2,  ba\n",
            "-1,  a\n",
            "Palindrome\n",
            "-2,  ba\n",
            "-1,  a\n",
            "Palindrome\n",
            "-2,  ba\n",
            "-1,  a\n",
            "Palindrome\n",
            "-2,  ba\n",
            "-1,  a\n",
            "Palindrome\n",
            "-2,  ba\n",
            "-1,  a\n",
            "Palindrome\n",
            "-2,  ba\n",
            "-1,  a\n",
            "Palindrome\n",
            "-2,  ba\n",
            "-1,  a\n",
            "Palindrome\n",
            "-2,  ba\n",
            "-1,  a\n",
            "Palindrome\n",
            "-2,  ba\n",
            "-1,  a\n",
            "Palindrome\n",
            "-2,  ba\n",
            "-1,  a\n",
            "Palindrome\n",
            "-2,  ba\n",
            "-1,  a\n",
            "Palindrome\n",
            "-2,  ba\n",
            "-1,  a\n",
            "Palindrome\n",
            "-2,  ba\n",
            "-1,  a\n",
            "Palindrome\n",
            "-2,  ba\n",
            "-1,  a\n",
            "Palindrome\n",
            "-2,  ba\n",
            "-1,  a\n",
            "Palindrome\n",
            "-2,  ba\n",
            "-1,  a\n",
            "Palindrome\n",
            "-2,  ba\n",
            "-1,  a\n",
            "Palindrome\n",
            "-2,  ba\n",
            "-1,  a\n",
            "Palindrome\n",
            "-2,  ba\n",
            "-1,  a\n",
            "Palindrome\n",
            "-2,  ba\n",
            "-1,  a\n",
            "Palindrome\n",
            "-2,  ba\n",
            "-1,  a\n",
            "Palindrome\n",
            "-2,  ba\n",
            "-1,  a\n",
            "Palindrome\n",
            "-2,  ba\n",
            "-1,  a\n",
            "Palindrome\n",
            "-2,  ba\n",
            "-1,  a\n",
            "Palindrome\n",
            "-2,  ba\n",
            "-1,  a\n",
            "Palindrome\n",
            "-2,  ba\n",
            "-1,  a\n",
            "Palindrome\n",
            "-2,  ba\n",
            "-1,  a\n",
            "Palindrome\n",
            "-2,  ba\n",
            "-1,  a\n",
            "Palindrome\n",
            "-2,  ba\n",
            "-1,  a\n",
            "Palindrome\n",
            "-2,  ba\n",
            "-1,  a\n",
            "Palindrome\n",
            "-2,  ba\n",
            "-1,  a\n",
            "Palindrome\n",
            "-2,  ba\n",
            "-1,  a\n",
            "Palindrome\n",
            "-2,  ba\n",
            "-1,  a\n",
            "Palindrome\n",
            "-2,  ba\n",
            "-1,  a\n",
            "Palindrome\n",
            "-2,  ba\n",
            "-1,  a\n",
            "Palindrome\n",
            "-2,  ba\n",
            "-1,  a\n",
            "Palindrome\n",
            "-2,  ba\n",
            "-1,  a\n",
            "Palindrome\n",
            "-2,  ba\n",
            "-1,  a\n",
            "Palindrome\n",
            "-2,  ba\n",
            "-1,  a\n",
            "Palindrome\n",
            "-2,  ba\n",
            "-1,  a\n",
            "Palindrome\n",
            "-2,  ba\n",
            "-1,  a\n",
            "Palindrome\n",
            "-2,  ba\n",
            "-1,  a\n",
            "Palindrome\n",
            "-2,  ba\n",
            "-1,  a\n",
            "Palindrome\n",
            "-2,  ba\n",
            "-1,  a\n",
            "Palindrome\n",
            "-2,  ba\n",
            "-1,  a\n",
            "Palindrome\n",
            "-2,  ba\n",
            "-1,  a\n",
            "Palindrome\n",
            "-2,  ba\n",
            "-1,  a\n",
            "Palindrome\n",
            "-2,  ba\n",
            "-1,  a\n",
            "Palindrome\n",
            "-2,  ba\n",
            "-1,  a\n",
            "Palindrome\n",
            "-2,  ba\n",
            "-1,  a\n",
            "Palindrome\n",
            "-2,  ba\n",
            "-1,  a\n",
            "Palindrome\n",
            "-2,  ba\n",
            "-1,  a\n",
            "Palindrome\n",
            "-2,  ba\n",
            "-1,  a\n",
            "Palindrome\n",
            "-2,  ba\n",
            "-1,  a\n",
            "Palindrome\n",
            "-2,  ba\n",
            "-1,  a\n",
            "Palindrome\n",
            "-2,  ba\n",
            "-1,  a\n",
            "Palindrome\n",
            "-2,  ba\n",
            "-1,  a\n",
            "Palindrome\n",
            "-2,  ba\n",
            "-1,  a\n",
            "Palindrome\n",
            "-2,  ba\n",
            "-1,  a\n",
            "Palindrome\n",
            "-2,  ba\n",
            "-1,  a\n",
            "Palindrome\n",
            "-2,  ba\n",
            "-1,  a\n",
            "Palindrome\n",
            "-2,  ba\n",
            "-1,  a\n",
            "Palindrome\n",
            "-2,  ba\n",
            "-1,  a\n",
            "Palindrome\n",
            "-2,  ba\n",
            "-1,  a\n",
            "Palindrome\n",
            "-2,  ba\n",
            "-1,  a\n",
            "Palindrome\n",
            "-2,  ba\n",
            "-1,  a\n",
            "Palindrome\n",
            "-2,  ba\n",
            "-1,  a\n",
            "Palindrome\n",
            "-2,  ba\n",
            "-1,  a\n",
            "Palindrome\n",
            "-2,  ba\n",
            "-1,  a\n",
            "Palindrome\n",
            "-2,  ba\n",
            "-1,  a\n",
            "Palindrome\n",
            "-2,  ba\n",
            "-1,  a\n",
            "Palindrome\n",
            "-2,  ba\n",
            "-1,  a\n",
            "Palindrome\n",
            "-2,  ba\n",
            "-1,  a\n",
            "Palindrome\n",
            "-2,  ba\n",
            "-1,  a\n",
            "Palindrome\n",
            "-2,  ba\n",
            "-1,  a\n",
            "Palindrome\n",
            "-2,  ba\n",
            "-1,  a\n",
            "Palindrome\n",
            "-2,  ba\n",
            "-1,  a\n",
            "Palindrome\n",
            "-2,  ba\n",
            "-1,  a\n",
            "Palindrome\n",
            "-2,  ba\n",
            "-1,  a\n",
            "Palindrome\n",
            "-2,  ba\n",
            "-1,  a\n",
            "Palindrome\n",
            "-2,  ba\n",
            "-1,  a\n",
            "Palindrome\n",
            "-2,  ba\n",
            "-1,  a\n",
            "Palindrome\n",
            "-2,  ba\n",
            "-1,  a\n",
            "Palindrome\n",
            "-2,  ba\n",
            "-1,  a\n",
            "Palindrome\n",
            "-2,  ba\n",
            "-1,  a\n",
            "Palindrome\n",
            "-2,  ba\n",
            "-1,  a\n",
            "Palindrome\n",
            "-2,  ba\n",
            "-1,  a\n",
            "Palindrome\n",
            "-2,  ba\n",
            "-1,  a\n",
            "Palindrome\n",
            "-2,  ba\n",
            "-1,  a\n",
            "Palindrome\n",
            "-2,  ba\n",
            "-1,  a\n",
            "Palindrome\n",
            "-2,  ba\n",
            "-1,  a\n",
            "Palindrome\n",
            "-2,  ba\n",
            "-1,  a\n",
            "Palindrome\n",
            "-2,  ba\n",
            "-1,  a\n",
            "Palindrome\n",
            "-2,  ba\n",
            "-1,  a\n",
            "Palindrome\n",
            "-2,  ba\n",
            "-1,  a\n",
            "Palindrome\n",
            "-2,  ba\n",
            "-1,  a\n",
            "Palindrome\n",
            "-2,  ba\n",
            "-1,  a\n",
            "Palindrome\n",
            "-2,  ba\n",
            "-1,  a\n",
            "Palindrome\n",
            "-2,  ba\n",
            "-1,  a\n",
            "Palindrome\n",
            "-2,  ba\n",
            "-1,  a\n",
            "Palindrome\n",
            "-2,  ba\n",
            "-1,  a\n",
            "Palindrome\n",
            "-2,  ba\n",
            "-1,  a\n",
            "Palindrome\n",
            "-2,  ba\n",
            "-1,  a\n",
            "Palindrome\n",
            "-2,  ba\n",
            "-1,  a\n",
            "Palindrome\n",
            "-2,  ba\n",
            "-1,  a\n",
            "Palindrome\n",
            "-2,  ba\n",
            "-1,  a\n",
            "Palindrome\n",
            "-2,  ba\n",
            "-1,  a\n",
            "Palindrome\n",
            "-2,  ba\n",
            "-1,  a\n",
            "Palindrome\n",
            "-2,  ba\n",
            "-1,  a\n",
            "Palindrome\n",
            "-2,  ba\n",
            "-1,  a\n",
            "Palindrome\n",
            "-2,  ba\n",
            "-1,  a\n",
            "Palindrome\n",
            "-2,  ba\n",
            "-1,  a\n",
            "Palindrome\n",
            "-2,  ba\n",
            "-1,  a\n",
            "Palindrome\n",
            "-2,  ba\n",
            "-1,  a\n",
            "Palindrome\n",
            "-2,  ba\n",
            "-1,  a\n",
            "Palindrome\n",
            "-2,  ba\n",
            "-1,  a\n",
            "Palindrome\n",
            "-2,  ba\n",
            "-1,  a\n",
            "Palindrome\n",
            "-2,  ba\n",
            "-1,  a\n",
            "Palindrome\n",
            "-2,  ba\n",
            "-1,  a\n",
            "Palindrome\n",
            "-2,  ba\n",
            "-1,  a\n",
            "Palindrome\n",
            "-2,  ba\n",
            "-1,  a\n",
            "Palindrome\n",
            "-2,  ba\n",
            "-1,  a\n",
            "Palindrome\n",
            "-2,  ba\n",
            "-1,  a\n",
            "Palindrome\n",
            "-2,  ba\n",
            "-1,  a\n",
            "Palindrome\n",
            "-2,  ba\n",
            "-1,  a\n",
            "Palindrome\n",
            "-2,  ba\n",
            "-1,  a\n",
            "Palindrome\n",
            "-2,  ba\n",
            "-1,  a\n",
            "Palindrome\n",
            "-2,  ba\n",
            "-1,  a\n",
            "Palindrome\n",
            "-2,  ba\n",
            "-1,  a\n",
            "Palindrome\n",
            "-2,  ba\n",
            "-1,  a\n",
            "Palindrome\n",
            "-2,  ba\n",
            "-1,  a\n",
            "Palindrome\n",
            "-2,  ba\n",
            "-1,  a\n",
            "Palindrome\n",
            "-2,  ba\n",
            "-1,  a\n",
            "Palindrome\n",
            "-2,  ba\n",
            "-1,  a\n",
            "Palindrome\n",
            "-2,  ba\n",
            "-1,  a\n",
            "Palindrome\n",
            "-2,  ba\n",
            "-1,  a\n",
            "Palindrome\n",
            "-2,  ba\n",
            "-1,  a\n",
            "Palindrome\n",
            "-2,  ba\n",
            "-1,  a\n",
            "Palindrome\n",
            "-2,  ba\n",
            "-1,  a\n",
            "Palindrome\n",
            "-2,  ba\n",
            "-1,  a\n",
            "Palindrome\n",
            "-2,  ba\n",
            "-1,  a\n",
            "Palindrome\n",
            "-2,  ba\n",
            "-1,  a\n",
            "Palindrome\n",
            "-2,  ba\n",
            "-1,  a\n",
            "Palindrome\n",
            "-2,  ba\n",
            "-1,  a\n",
            "Palindrome\n",
            "-2,  ba\n",
            "-1,  a\n",
            "Palindrome\n",
            "-2,  ba\n",
            "-1,  a\n",
            "Palindrome\n",
            "-2,  ba\n",
            "-1,  a\n",
            "Palindrome\n",
            "-2,  ba\n",
            "-1,  a\n",
            "Palindrome\n",
            "-2,  ba\n",
            "-1,  a\n",
            "Palindrome\n",
            "-2,  ba\n",
            "-1,  a\n",
            "Palindrome\n",
            "-2,  ba\n",
            "-1,  a\n",
            "Palindrome\n",
            "-2,  ba\n",
            "-1,  a\n",
            "Palindrome\n",
            "-2,  ba\n",
            "-1,  a\n",
            "Palindrome\n",
            "-2,  ba\n",
            "-1,  a\n",
            "Palindrome\n",
            "-2,  ba\n",
            "-1,  a\n",
            "Palindrome\n",
            "-2,  ba\n",
            "-1,  a\n",
            "Palindrome\n",
            "-2,  ba\n",
            "-1,  a\n",
            "Palindrome\n",
            "-2,  ba\n",
            "-1,  a\n",
            "Palindrome\n",
            "-2,  ba\n",
            "-1,  a\n",
            "Palindrome\n",
            "-2,  ba\n",
            "-1,  a\n",
            "Palindrome\n",
            "-2,  ba\n",
            "-1,  a\n",
            "Palindrome\n",
            "-2,  ba\n",
            "-1,  a\n",
            "Palindrome\n",
            "-2,  ba\n",
            "-1,  a\n",
            "Palindrome\n",
            "-2,  ba\n",
            "-1,  a\n",
            "Palindrome\n",
            "-2,  ba\n",
            "-1,  a\n",
            "Palindrome\n",
            "-2,  ba\n",
            "-1,  a\n",
            "Palindrome\n",
            "-2,  ba\n",
            "-1,  a\n",
            "Palindrome\n",
            "-2,  ba\n",
            "-1,  a\n",
            "Palindrome\n",
            "-2,  ba\n",
            "-1,  a\n",
            "Palindrome\n",
            "-2,  ba\n",
            "-1,  a\n",
            "Palindrome\n",
            "-2,  ba\n",
            "-1,  a\n",
            "Palindrome\n",
            "-2,  ba\n",
            "-1,  a\n",
            "Palindrome\n",
            "-2,  ba\n",
            "-1,  a\n",
            "Palindrome\n",
            "-2,  ba\n",
            "-1,  a\n",
            "Palindrome\n",
            "-2,  ba\n",
            "-1,  a\n",
            "Palindrome\n",
            "-2,  ba\n",
            "-1,  a\n",
            "Palindrome\n",
            "-2,  ba\n",
            "-1,  a\n",
            "Palindrome\n",
            "-2,  ba\n",
            "-1,  a\n",
            "Palindrome\n",
            "-2,  ba\n",
            "-1,  a\n",
            "Palindrome\n",
            "-2,  ba\n",
            "-1,  a\n",
            "Palindrome\n",
            "-2,  ba\n",
            "-1,  a\n",
            "Palindrome\n",
            "-2,  ba\n",
            "-1,  a\n",
            "Palindrome\n",
            "-2,  ba\n",
            "-1,  a\n",
            "Palindrome\n",
            "-2,  ba\n",
            "-1,  a\n",
            "Palindrome\n",
            "-2,  ba\n",
            "-1,  a\n",
            "Palindrome\n",
            "-2,  ba\n",
            "-1,  a\n",
            "Palindrome\n",
            "-2,  ba\n",
            "-1,  a\n",
            "Palindrome\n",
            "-2,  ba\n",
            "-1,  a\n",
            "Palindrome\n",
            "-2,  ba\n",
            "-1,  a\n",
            "Palindrome\n",
            "-2,  ba\n",
            "-1,  a\n",
            "Palindrome\n",
            "-2,  ba\n",
            "-1,  a\n",
            "Palindrome\n",
            "-2,  ba\n",
            "-1,  a\n",
            "Palindrome\n",
            "-2,  ba\n",
            "-1,  a\n",
            "Palindrome\n",
            "-2,  ba\n",
            "-1,  a\n",
            "Palindrome\n",
            "-2,  ba\n",
            "-1,  a\n",
            "Palindrome\n",
            "-2,  ba\n",
            "-1,  a\n",
            "Palindrome\n",
            "-2,  ba\n",
            "-1,  a\n",
            "Palindrome\n",
            "-2,  ba\n",
            "-1,  a\n",
            "Palindrome\n",
            "-2,  ba\n",
            "-1,  a\n",
            "Palindrome\n",
            "-2,  ba\n",
            "-1,  a\n",
            "Palindrome\n",
            "-2,  ba\n",
            "-1,  a\n",
            "Palindrome\n",
            "-2,  ba\n",
            "-1,  a\n",
            "Palindrome\n",
            "-2,  ba\n",
            "-1,  a\n",
            "Palindrome\n",
            "-2,  ba\n",
            "-1,  a\n",
            "Palindrome\n",
            "-2,  ba\n",
            "-1,  a\n",
            "Palindrome\n",
            "-2,  ba\n",
            "-1,  a\n",
            "Palindrome\n",
            "-2,  ba\n",
            "-1,  a\n",
            "Palindrome\n",
            "-2,  ba\n",
            "-1,  a\n",
            "Palindrome\n",
            "-2,  ba\n",
            "-1,  a\n",
            "Palindrome\n",
            "-2,  ba\n",
            "-1,  a\n",
            "Palindrome\n",
            "-2,  ba\n",
            "-1,  a\n",
            "Palindrome\n",
            "-2,  ba\n",
            "-1,  a\n",
            "Palindrome\n",
            "-2,  ba\n",
            "-1,  a\n",
            "Palindrome\n",
            "-2,  ba\n",
            "-1,  a\n",
            "Palindrome\n",
            "-2,  ba\n",
            "-1,  a\n",
            "Palindrome\n",
            "-2,  ba\n",
            "-1,  a\n",
            "Palindrome\n",
            "-2,  ba\n",
            "-1,  a\n",
            "Palindrome\n",
            "-2,  ba\n",
            "-1,  a\n",
            "Palindrome\n",
            "-2,  ba\n",
            "-1,  a\n",
            "Palindrome\n",
            "-2,  ba\n",
            "-1,  a\n",
            "Palindrome\n",
            "-2,  ba\n",
            "-1,  a\n",
            "Palindrome\n",
            "-2,  ba\n",
            "-1,  a\n",
            "Palindrome\n",
            "-2,  ba\n",
            "-1,  a\n",
            "Palindrome\n",
            "-2,  ba\n",
            "-1,  a\n",
            "Palindrome\n",
            "-2,  ba\n",
            "-1,  a\n",
            "Palindrome\n",
            "-2,  ba\n",
            "-1,  a\n",
            "Palindrome\n",
            "-2,  ba\n",
            "-1,  a\n",
            "Palindrome\n",
            "-2,  ba\n",
            "-1,  a\n",
            "Palindrome\n",
            "-2,  ba\n",
            "-1,  a\n",
            "Palindrome\n",
            "-2,  ba\n",
            "-1,  a\n",
            "Palindrome\n",
            "-2,  ba\n",
            "-1,  a\n",
            "Palindrome\n",
            "-2,  ba\n",
            "-1,  a\n",
            "Palindrome\n",
            "-2,  ba\n",
            "-1,  a\n",
            "Palindrome\n",
            "-2,  ba\n",
            "-1,  a\n",
            "Palindrome\n",
            "-2,  ba\n",
            "-1,  a\n",
            "Palindrome\n",
            "-2,  ba\n",
            "-1,  a\n",
            "Palindrome\n",
            "-2,  ba\n",
            "-1,  a\n",
            "Palindrome\n",
            "-2,  ba\n",
            "-1,  a\n",
            "Palindrome\n",
            "-2,  ba\n",
            "-1,  a\n",
            "Palindrome\n",
            "-2,  ba\n",
            "-1,  a\n",
            "Palindrome\n",
            "-2,  ba\n",
            "-1,  a\n",
            "Palindrome\n",
            "-2,  ba\n",
            "-1,  a\n",
            "Palindrome\n",
            "-2,  ba\n",
            "-1,  a\n",
            "Palindrome\n",
            "-2,  ba\n",
            "-1,  a\n",
            "Palindrome\n",
            "-2,  ba\n",
            "-1,  a\n",
            "Palindrome\n",
            "-2,  ba\n",
            "-1,  a\n",
            "Palindrome\n",
            "-2,  ba\n",
            "-1,  a\n",
            "Palindrome\n",
            "-2,  ba\n",
            "-1,  a\n",
            "Palindrome\n",
            "-2,  ba\n",
            "-1,  a\n",
            "Palindrome\n",
            "-2,  ba\n",
            "-1,  a\n",
            "Palindrome\n",
            "-2,  ba\n",
            "-1,  a\n",
            "Palindrome\n",
            "-2,  ba\n",
            "-1,  a\n",
            "Palindrome\n",
            "-2,  ba\n",
            "-1,  a\n",
            "Palindrome\n",
            "-2,  ba\n",
            "-1,  a\n",
            "Palindrome\n",
            "-2,  ba\n",
            "-1,  a\n",
            "Palindrome\n",
            "-2,  ba\n",
            "-1,  a\n",
            "Palindrome\n",
            "-2,  ba\n",
            "-1,  a\n",
            "Palindrome\n",
            "-2,  ba\n",
            "-1,  a\n",
            "Palindrome\n",
            "-2,  ba\n",
            "-1,  a\n",
            "Palindrome\n",
            "-2,  ba\n",
            "-1,  a\n",
            "Palindrome\n",
            "-2,  ba\n",
            "-1,  a\n",
            "Palindrome\n",
            "-2,  ba\n",
            "-1,  a\n",
            "Palindrome\n",
            "-2,  ba\n",
            "-1,  a\n",
            "Palindrome\n",
            "-2,  ba\n",
            "-1,  a\n",
            "Palindrome\n",
            "-2,  ba\n",
            "-1,  a\n",
            "Palindrome\n",
            "-2,  ba\n",
            "-1,  a\n",
            "Palindrome\n",
            "-2,  ba\n",
            "-1,  a\n",
            "Palindrome\n",
            "-2,  ba\n",
            "-1,  a\n",
            "Palindrome\n",
            "-2,  ba\n",
            "-1,  a\n",
            "Palindrome\n",
            "-2,  ba\n",
            "-1,  a\n",
            "Palindrome\n",
            "-2,  ba\n",
            "-1,  a\n",
            "Palindrome\n",
            "-2,  ba\n",
            "-1,  a\n",
            "Palindrome\n",
            "-2,  ba\n",
            "-1,  a\n",
            "Palindrome\n",
            "-2,  ba\n",
            "-1,  a\n",
            "Palindrome\n",
            "-2,  ba\n",
            "-1,  a\n",
            "Palindrome\n",
            "-2,  ba\n",
            "-1,  a\n",
            "Palindrome\n",
            "-2,  ba\n",
            "-1,  a\n",
            "Palindrome\n",
            "-2,  ba\n",
            "-1,  a\n",
            "Palindrome\n",
            "-2,  ba\n",
            "-1,  a\n",
            "Palindrome\n",
            "-2,  ba\n",
            "-1,  a\n",
            "Palindrome\n",
            "-2,  ba\n",
            "-1,  a\n",
            "Palindrome\n",
            "-2,  ba\n",
            "-1,  a\n",
            "Palindrome\n",
            "-2,  ba\n",
            "-1,  a\n",
            "Palindrome\n",
            "-2,  ba\n",
            "-1,  a\n",
            "Palindrome\n",
            "-2,  ba\n",
            "-1,  a\n",
            "Palindrome\n",
            "-2,  ba\n",
            "-1,  a\n",
            "Palindrome\n",
            "-2,  ba\n",
            "-1,  a\n",
            "Palindrome\n",
            "-2,  ba\n",
            "-1,  a\n",
            "Palindrome\n",
            "-2,  ba\n",
            "-1,  a\n",
            "Palindrome\n",
            "-2,  ba\n",
            "-1,  a\n",
            "Palindrome\n",
            "-2,  ba\n",
            "-1,  a\n",
            "Palindrome\n",
            "-2,  ba\n",
            "-1,  a\n",
            "Palindrome\n",
            "-2,  ba\n",
            "-1,  a\n",
            "Palindrome\n",
            "-2,  ba\n",
            "-1,  a\n",
            "Palindrome\n",
            "-2,  ba\n",
            "-1,  a\n",
            "Palindrome\n",
            "-2,  ba\n",
            "-1,  a\n",
            "Palindrome\n",
            "-2,  ba\n",
            "-1,  a\n",
            "Palindrome\n",
            "-2,  ba\n",
            "-1,  a\n",
            "Palindrome\n",
            "-2,  ba\n",
            "-1,  a\n",
            "Palindrome\n",
            "-2,  ba\n",
            "-1,  a\n",
            "Palindrome\n",
            "-2,  ba\n",
            "-1,  a\n",
            "Palindrome\n",
            "-2,  ba\n",
            "-1,  a\n",
            "Palindrome\n",
            "-2,  ba\n",
            "-1,  a\n",
            "Palindrome\n",
            "-2,  ba\n",
            "-1,  a\n",
            "Palindrome\n",
            "-2,  ba\n",
            "-1,  a\n",
            "Palindrome\n",
            "-2,  ba\n",
            "-1,  a\n",
            "Palindrome\n",
            "-2,  ba\n",
            "-1,  a\n",
            "Palindrome\n",
            "-2,  ba\n",
            "-1,  a\n",
            "Palindrome\n",
            "-2,  ba\n",
            "-1,  a\n",
            "Palindrome\n",
            "-2,  ba\n",
            "-1,  a\n",
            "Palindrome\n",
            "-2,  ba\n",
            "-1,  a\n",
            "Palindrome\n",
            "-2,  ba\n",
            "-1,  a\n",
            "Palindrome\n",
            "-2,  ba\n",
            "-1,  a\n",
            "Palindrome\n",
            "-2,  ba\n",
            "-1,  a\n",
            "Palindrome\n",
            "-2,  ba\n",
            "-1,  a\n",
            "Palindrome\n",
            "-2,  ba\n",
            "-1,  a\n",
            "Palindrome\n",
            "-2,  ba\n",
            "-1,  a\n",
            "Palindrome\n",
            "-2,  ba\n",
            "-1,  a\n",
            "Palindrome\n",
            "-2,  ba\n",
            "-1,  a\n",
            "Palindrome\n",
            "-2,  ba\n",
            "-1,  a\n",
            "Palindrome\n",
            "-2,  ba\n",
            "-1,  a\n",
            "Palindrome\n",
            "-2,  ba\n",
            "-1,  a\n",
            "Palindrome\n",
            "-2,  ba\n",
            "-1,  a\n",
            "Palindrome\n",
            "-2,  ba\n",
            "-1,  a\n",
            "Palindrome\n",
            "-2,  ba\n",
            "-1,  a\n",
            "Palindrome\n",
            "-2,  ba\n",
            "-1,  a\n",
            "Palindrome\n",
            "-2,  ba\n",
            "-1,  a\n",
            "Palindrome\n",
            "-2,  ba\n",
            "-1,  a\n",
            "Palindrome\n",
            "-2,  ba\n",
            "-1,  a\n",
            "Palindrome\n",
            "-2,  ba\n",
            "-1,  a\n",
            "Palindrome\n",
            "-2,  ba\n",
            "-1,  a\n",
            "Palindrome\n",
            "-2,  ba\n",
            "-1,  a\n",
            "Palindrome\n",
            "-2,  ba\n",
            "-1,  a\n",
            "Palindrome\n",
            "-2,  ba\n",
            "-1,  a\n",
            "Palindrome\n",
            "-2,  ba\n",
            "-1,  a\n",
            "Palindrome\n",
            "-2,  ba\n",
            "-1,  a\n",
            "Palindrome\n",
            "-2,  ba\n",
            "-1,  a\n",
            "Palindrome\n",
            "-2,  ba\n",
            "-1,  a\n",
            "Palindrome\n",
            "-2,  ba\n",
            "-1,  a\n",
            "Palindrome\n",
            "-2,  ba\n",
            "-1,  a\n",
            "Palindrome\n",
            "-2,  ba\n",
            "-1,  a\n",
            "Palindrome\n",
            "-2,  ba\n",
            "-1,  a\n",
            "Palindrome\n",
            "-2,  ba\n",
            "-1,  a\n",
            "Palindrome\n",
            "-2,  ba\n",
            "-1,  a\n",
            "Palindrome\n",
            "-2,  ba\n",
            "-1,  a\n",
            "Palindrome\n",
            "-2,  ba\n",
            "-1,  a\n",
            "Palindrome\n",
            "-2,  ba\n",
            "-1,  a\n",
            "Palindrome\n",
            "-2,  ba\n",
            "-1,  a\n",
            "Palindrome\n",
            "-2,  ba\n",
            "-1,  a\n",
            "Palindrome\n",
            "-2,  ba\n",
            "-1,  a\n",
            "Palindrome\n",
            "-2,  ba\n",
            "-1,  a\n",
            "Palindrome\n",
            "-2,  ba\n",
            "-1,  a\n",
            "Palindrome\n",
            "-2,  ba\n",
            "-1,  a\n",
            "Palindrome\n",
            "-2,  ba\n",
            "-1,  a\n",
            "Palindrome\n",
            "-2,  ba\n",
            "-1,  a\n",
            "Palindrome\n",
            "-2,  ba\n",
            "-1,  a\n",
            "Palindrome\n",
            "-2,  ba\n",
            "-1,  a\n",
            "Palindrome\n",
            "-2,  ba\n",
            "-1,  a\n",
            "Palindrome\n",
            "-2,  ba\n",
            "-1,  a\n",
            "Palindrome\n",
            "-2,  ba\n",
            "-1,  a\n",
            "Palindrome\n",
            "-2,  ba\n",
            "-1,  a\n",
            "Palindrome\n",
            "-2,  ba\n",
            "-1,  a\n",
            "Palindrome\n",
            "-2,  ba\n",
            "-1,  a\n",
            "Palindrome\n",
            "-2,  ba\n",
            "-1,  a\n",
            "Palindrome\n",
            "-2,  ba\n",
            "-1,  a\n",
            "Palindrome\n",
            "-2,  ba\n",
            "-1,  a\n",
            "Palindrome\n",
            "-2,  ba\n",
            "-1,  a\n",
            "Palindrome\n",
            "-2,  ba\n",
            "-1,  a\n",
            "Palindrome\n",
            "-2,  ba\n",
            "-1,  a\n",
            "Palindrome\n",
            "-2,  ba\n",
            "-1,  a\n",
            "Palindrome\n",
            "-2,  ba\n",
            "-1,  a\n",
            "Palindrome\n",
            "-2,  ba\n",
            "-1,  a\n",
            "Palindrome\n",
            "-2,  ba\n",
            "-1,  a\n",
            "Palindrome\n",
            "-2,  ba\n",
            "-1,  a\n",
            "Palindrome\n",
            "-2,  ba\n",
            "-1,  a\n",
            "Palindrome\n",
            "-2,  ba\n",
            "-1,  a\n",
            "Palindrome\n",
            "-2,  ba\n",
            "-1,  a\n",
            "Palindrome\n",
            "-2,  ba\n",
            "-1,  a\n",
            "Palindrome\n",
            "-2,  ba\n",
            "-1,  a\n",
            "Palindrome\n",
            "-2,  ba\n",
            "-1,  a\n",
            "Palindrome\n",
            "-2,  ba\n",
            "-1,  a\n",
            "Palindrome\n",
            "-2,  ba\n",
            "-1,  a\n",
            "Palindrome\n",
            "-2,  ba\n",
            "-1,  a\n",
            "Palindrome\n",
            "-2,  ba\n",
            "-1,  a\n",
            "Palindrome\n",
            "-2,  ba\n",
            "-1,  a\n",
            "Palindrome\n",
            "-2,  ba\n",
            "-1,  a\n",
            "Palindrome\n",
            "-2,  ba\n",
            "-1,  a\n",
            "Palindrome\n",
            "-2,  ba\n",
            "-1,  a\n",
            "Palindrome\n",
            "-2,  ba\n",
            "-1,  a\n",
            "Palindrome\n",
            "-2,  ba\n",
            "-1,  a\n",
            "Palindrome\n",
            "-2,  ba\n",
            "-1,  a\n",
            "Palindrome\n",
            "-2,  ba\n",
            "-1,  a\n",
            "Palindrome\n",
            "-2,  ba\n",
            "-1,  a\n",
            "Palindrome\n",
            "-2,  ba\n",
            "-1,  a\n",
            "Palindrome\n",
            "-2,  ba\n",
            "-1,  a\n",
            "Palindrome\n",
            "-2,  ba\n",
            "-1,  a\n",
            "Palindrome\n",
            "-2,  ba\n",
            "-1,  a\n",
            "Palindrome\n",
            "-2,  ba\n",
            "-1,  a\n",
            "Palindrome\n",
            "-2,  ba\n",
            "-1,  a\n",
            "Palindrome\n",
            "-2,  ba\n",
            "-1,  a\n",
            "Palindrome\n",
            "-2,  ba\n",
            "-1,  a\n",
            "Palindrome\n",
            "-2,  ba\n",
            "-1,  a\n",
            "Palindrome\n",
            "-2,  ba\n",
            "-1,  a\n",
            "Palindrome\n",
            "-2,  ba\n",
            "-1,  a\n",
            "Palindrome\n",
            "-2,  ba\n",
            "-1,  a\n",
            "Palindrome\n",
            "-2,  ba\n",
            "-1,  a\n",
            "Palindrome\n",
            "-2,  ba\n",
            "-1,  a\n",
            "Palindrome\n",
            "-2,  ba\n",
            "-1,  a\n",
            "Palindrome\n",
            "-2,  ba\n",
            "-1,  a\n",
            "Palindrome\n",
            "-2,  ba\n",
            "-1,  a\n",
            "Palindrome\n",
            "-2,  ba\n",
            "-1,  a\n",
            "Palindrome\n",
            "-2,  ba\n",
            "-1,  a\n",
            "Palindrome\n",
            "-2,  ba\n",
            "-1,  a\n",
            "Palindrome\n",
            "-2,  ba\n",
            "-1,  a\n",
            "Palindrome\n",
            "-2,  ba\n",
            "-1,  a\n",
            "Palindrome\n",
            "-2,  ba\n",
            "-1,  a\n",
            "Palindrome\n",
            "-2,  ba\n",
            "-1,  a\n",
            "Palindrome\n",
            "-2,  ba\n",
            "-1,  a\n",
            "Palindrome\n",
            "-2,  ba\n",
            "-1,  a\n",
            "Palindrome\n",
            "-2,  ba\n",
            "-1,  a\n",
            "Palindrome\n",
            "-2,  ba\n",
            "-1,  a\n",
            "Palindrome\n",
            "-2,  ba\n",
            "-1,  a\n",
            "Palindrome\n",
            "-2,  ba\n",
            "-1,  a\n",
            "Palindrome\n",
            "-2,  ba\n",
            "-1,  a\n",
            "Palindrome\n",
            "-2,  ba\n",
            "-1,  a\n",
            "Palindrome\n",
            "-2,  ba\n",
            "-1,  a\n",
            "Palindrome\n",
            "-2,  ba\n",
            "-1,  a\n",
            "Palindrome\n",
            "-2,  ba\n",
            "-1,  a\n",
            "Palindrome\n",
            "-2,  ba\n",
            "-1,  a\n",
            "Palindrome\n",
            "-2,  ba\n",
            "-1,  a\n",
            "Palindrome\n",
            "-2,  ba\n",
            "-1,  a\n",
            "Palindrome\n",
            "-2,  ba\n",
            "-1,  a\n",
            "Palindrome\n",
            "-2,  ba\n",
            "-1,  a\n",
            "Palindrome\n",
            "-2,  ba\n",
            "-1,  a\n",
            "Palindrome\n",
            "-2,  ba\n",
            "-1,  a\n",
            "Palindrome\n",
            "-2,  ba\n",
            "-1,  a\n",
            "Palindrome\n",
            "-2,  ba\n",
            "-1,  a\n",
            "Palindrome\n",
            "-2,  ba\n",
            "-1,  a\n",
            "Palindrome\n",
            "-2,  ba\n",
            "-1,  a\n",
            "Palindrome\n",
            "-2,  ba\n",
            "-1,  a\n",
            "Palindrome\n",
            "-2,  ba\n",
            "-1,  a\n",
            "Palindrome\n",
            "-2,  ba\n",
            "-1,  a\n",
            "Palindrome\n",
            "-2,  ba\n",
            "-1,  a\n",
            "Palindrome\n",
            "-2,  ba\n",
            "-1,  a\n",
            "Palindrome\n",
            "-2,  ba\n",
            "-1,  a\n",
            "Palindrome\n",
            "-2,  ba\n",
            "-1,  a\n",
            "Palindrome\n",
            "-2,  ba\n",
            "-1,  a\n",
            "Palindrome\n",
            "-2,  ba\n",
            "-1,  a\n",
            "Palindrome\n",
            "-2,  ba\n",
            "-1,  a\n",
            "Palindrome\n",
            "-2,  ba\n",
            "-1,  a\n",
            "Palindrome\n",
            "-2,  ba\n",
            "-1,  a\n",
            "Palindrome\n",
            "-2,  ba\n",
            "-1,  a\n",
            "Palindrome\n",
            "-2,  ba\n",
            "-1,  a\n",
            "Palindrome\n",
            "-2,  ba\n",
            "-1,  a\n",
            "Palindrome\n",
            "-2,  ba\n",
            "-1,  a\n",
            "Palindrome\n",
            "-2,  ba\n",
            "-1,  a\n",
            "Palindrome\n",
            "-2,  ba\n",
            "-1,  a\n",
            "Palindrome\n",
            "-2,  ba\n",
            "-1,  a\n",
            "Palindrome\n",
            "-2,  ba\n",
            "-1,  a\n",
            "Palindrome\n",
            "-2,  ba\n",
            "-1,  a\n",
            "Palindrome\n",
            "-2,  ba\n",
            "-1,  a\n",
            "Palindrome\n",
            "-2,  ba\n",
            "-1,  a\n",
            "Palindrome\n",
            "-2,  ba\n",
            "-1,  a\n",
            "Palindrome\n",
            "-2,  ba\n",
            "-1,  a\n",
            "Palindrome\n",
            "-2,  ba\n",
            "-1,  a\n",
            "Palindrome\n",
            "-2,  ba\n",
            "-1,  a\n",
            "Palindrome\n",
            "-2,  ba\n",
            "-1,  a\n",
            "Palindrome\n",
            "-2,  ba\n",
            "-1,  a\n",
            "Palindrome\n",
            "-2,  ba\n",
            "-1,  a\n",
            "Palindrome\n",
            "-2,  ba\n",
            "-1,  a\n",
            "Palindrome\n",
            "-2,  ba\n",
            "-1,  a\n",
            "Palindrome\n",
            "-2,  ba\n",
            "-1,  a\n",
            "Palindrome\n",
            "-2,  ba\n",
            "-1,  a\n",
            "Palindrome\n",
            "-2,  ba\n",
            "-1,  a\n",
            "Palindrome\n",
            "-2,  ba\n",
            "-1,  a\n",
            "Palindrome\n",
            "-2,  ba\n",
            "-1,  a\n",
            "Palindrome\n",
            "-2,  ba\n",
            "-1,  a\n",
            "Palindrome\n",
            "-2,  ba\n",
            "-1,  a\n",
            "Palindrome\n",
            "-2,  ba\n",
            "-1,  a\n",
            "Palindrome\n",
            "-2,  ba\n",
            "-1,  a\n",
            "Palindrome\n",
            "-2,  ba\n",
            "-1,  a\n",
            "Palindrome\n",
            "-2,  ba\n",
            "-1,  a\n",
            "Palindrome\n",
            "-2,  ba\n",
            "-1,  a\n",
            "Palindrome\n",
            "-2,  ba\n",
            "-1,  a\n",
            "Palindrome\n",
            "-2,  ba\n",
            "-1,  a\n",
            "Palindrome\n",
            "-2,  ba\n",
            "-1,  a\n",
            "Palindrome\n",
            "-2,  ba\n",
            "-1,  a\n",
            "Palindrome\n",
            "-2,  ba\n",
            "-1,  a\n",
            "Palindrome\n",
            "-2,  ba\n",
            "-1,  a\n",
            "Palindrome\n",
            "-2,  ba\n",
            "-1,  a\n",
            "Palindrome\n",
            "-2,  ba\n",
            "-1,  a\n",
            "Palindrome\n",
            "-2,  ba\n",
            "-1,  a\n",
            "Palindrome\n",
            "-2,  ba\n",
            "-1,  a\n",
            "Palindrome\n",
            "-2,  ba\n",
            "-1,  a\n",
            "Palindrome\n",
            "-2,  ba\n",
            "-1,  a\n",
            "Palindrome\n",
            "-2,  ba\n",
            "-1,  a\n",
            "Palindrome\n",
            "-2,  ba\n",
            "-1,  a\n",
            "Palindrome\n",
            "-2,  ba\n",
            "-1,  a\n",
            "Palindrome\n",
            "-2,  ba\n",
            "-1,  a\n",
            "Palindrome\n",
            "-2,  ba\n",
            "-1,  a\n",
            "Palindrome\n",
            "-2,  ba\n",
            "-1,  a\n",
            "Palindrome\n",
            "-2,  ba\n",
            "-1,  a\n",
            "Palindrome\n",
            "-2,  ba\n",
            "-1,  a\n",
            "Palindrome\n",
            "-2,  ba\n",
            "-1,  a\n",
            "Palindrome\n",
            "-2,  ba\n",
            "-1,  a\n",
            "Palindrome\n",
            "-2,  ba\n",
            "-1,  a\n",
            "Palindrome\n",
            "-2,  ba\n",
            "-1,  a\n",
            "Palindrome\n",
            "-2,  ba\n",
            "-1,  a\n",
            "Palindrome\n",
            "-2,  ba\n",
            "-1,  a\n",
            "Palindrome\n",
            "-2,  ba\n",
            "-1,  a\n",
            "Palindrome\n",
            "-2,  ba\n",
            "-1,  a\n",
            "Palindrome\n",
            "-2,  ba\n",
            "-1,  a\n",
            "Palindrome\n",
            "-2,  ba\n",
            "-1,  a\n",
            "Palindrome\n",
            "-2,  ba\n",
            "-1,  a\n",
            "Palindrome\n",
            "-2,  ba\n",
            "-1,  a\n",
            "Palindrome\n",
            "-2,  ba\n",
            "-1,  a\n",
            "Palindrome\n",
            "-2,  ba\n",
            "-1,  a\n",
            "Palindrome\n",
            "-2,  ba\n",
            "-1,  a\n",
            "Palindrome\n",
            "-2,  ba\n",
            "-1,  a\n",
            "Palindrome\n",
            "-2,  ba\n",
            "-1,  a\n",
            "Palindrome\n",
            "-2,  ba\n",
            "-1,  a\n",
            "Palindrome\n",
            "-2,  ba\n",
            "-1,  a\n",
            "Palindrome\n",
            "-2,  ba\n",
            "-1,  a\n",
            "Palindrome\n",
            "-2,  ba\n",
            "-1,  a\n",
            "Palindrome\n",
            "-2,  ba\n",
            "-1,  a\n",
            "Palindrome\n",
            "-2,  ba\n",
            "-1,  a\n",
            "Palindrome\n",
            "-2,  ba\n",
            "-1,  a\n",
            "Palindrome\n",
            "-2,  ba\n",
            "-1,  a\n",
            "Palindrome\n",
            "-2,  ba\n",
            "-1,  a\n",
            "Palindrome\n",
            "-2,  ba\n",
            "-1,  a\n",
            "Palindrome\n",
            "-2,  ba\n",
            "-1,  a\n",
            "Palindrome\n",
            "-2,  ba\n",
            "-1,  a\n",
            "Palindrome\n",
            "-2,  ba\n",
            "-1,  a\n",
            "Palindrome\n",
            "-2,  ba\n",
            "-1,  a\n",
            "Palindrome\n",
            "-2,  ba\n",
            "-1,  a\n",
            "Palindrome\n",
            "-2,  ba\n",
            "-1,  a\n",
            "Palindrome\n",
            "-2,  ba\n",
            "-1,  a\n",
            "Palindrome\n",
            "-2,  ba\n",
            "-1,  a\n",
            "Palindrome\n",
            "-2,  ba\n",
            "-1,  a\n",
            "Palindrome\n",
            "-2,  ba\n",
            "-1,  a\n",
            "Palindrome\n",
            "-2,  ba\n",
            "-1,  a\n",
            "Palindrome\n",
            "-2,  ba\n",
            "-1,  a\n",
            "Palindrome\n",
            "-2,  ba\n",
            "-1,  a\n",
            "Palindrome\n",
            "-2,  ba\n",
            "-1,  a\n",
            "Palindrome\n",
            "-2,  ba\n",
            "-1,  a\n",
            "Palindrome\n",
            "-2,  ba\n",
            "-1,  a\n",
            "Palindrome\n",
            "-2,  ba\n",
            "-1,  a\n",
            "Palindrome\n",
            "-2,  ba\n",
            "-1,  a\n",
            "Palindrome\n",
            "-2,  ba\n",
            "-1,  a\n",
            "Palindrome\n",
            "-2,  ba\n",
            "-1,  a\n",
            "Palindrome\n",
            "-2,  ba\n",
            "-1,  a\n",
            "Palindrome\n",
            "-2,  ba\n",
            "-1,  a\n",
            "Palindrome\n",
            "-2,  ba\n",
            "-1,  a\n",
            "Palindrome\n",
            "-2,  ba\n",
            "-1,  a\n",
            "Palindrome\n",
            "-2,  ba\n",
            "-1,  a\n",
            "Palindrome\n",
            "-2,  ba\n",
            "-1,  a\n",
            "Palindrome\n",
            "-2,  ba\n",
            "-1,  a\n",
            "Palindrome\n",
            "-2,  ba\n",
            "-1,  a\n",
            "Palindrome\n",
            "-2,  ba\n",
            "-1,  a\n",
            "Palindrome\n",
            "-2,  ba\n",
            "-1,  a\n",
            "Palindrome\n",
            "-2,  ba\n",
            "-1,  a\n",
            "Palindrome\n",
            "-2,  ba\n",
            "-1,  a\n",
            "Palindrome\n",
            "-2,  ba\n",
            "-1,  a\n",
            "Palindrome\n",
            "-2,  ba\n",
            "-1,  a\n"
          ]
        },
        {
          "output_type": "error",
          "ename": "RecursionError",
          "evalue": "ignored",
          "traceback": [
            "\u001b[0;31m---------------------------------------------------------------------------\u001b[0m",
            "\u001b[0;31mRecursionError\u001b[0m                            Traceback (most recent call last)",
            "\u001b[0;32m<ipython-input-32-02cb55781900>\u001b[0m in \u001b[0;36m<module>\u001b[0;34m\u001b[0m\n\u001b[1;32m     15\u001b[0m       \u001b[0;31m# count += 1\u001b[0m\u001b[0;34m\u001b[0m\u001b[0;34m\u001b[0m\u001b[0;34m\u001b[0m\u001b[0m\n\u001b[1;32m     16\u001b[0m \u001b[0;34m\u001b[0m\u001b[0m\n\u001b[0;32m---> 17\u001b[0;31m \u001b[0mcheckPalin\u001b[0m\u001b[0;34m(\u001b[0m\u001b[0mA\u001b[0m\u001b[0;34m)\u001b[0m\u001b[0;34m\u001b[0m\u001b[0;34m\u001b[0m\u001b[0m\n\u001b[0m",
            "\u001b[0;32m<ipython-input-32-02cb55781900>\u001b[0m in \u001b[0;36mcheckPalin\u001b[0;34m(S)\u001b[0m\n\u001b[1;32m     12\u001b[0m       \u001b[0mB\u001b[0m \u001b[0;34m=\u001b[0m \u001b[0mS\u001b[0m\u001b[0;34m[\u001b[0m\u001b[0mcount\u001b[0m\u001b[0;34m:\u001b[0m\u001b[0;34m]\u001b[0m\u001b[0;34m\u001b[0m\u001b[0;34m\u001b[0m\u001b[0m\n\u001b[1;32m     13\u001b[0m       \u001b[0mprint\u001b[0m\u001b[0;34m(\u001b[0m\u001b[0;34mf\"{count}, \"\u001b[0m\u001b[0;34m,\u001b[0m \u001b[0mB\u001b[0m\u001b[0;34m)\u001b[0m\u001b[0;34m\u001b[0m\u001b[0;34m\u001b[0m\u001b[0m\n\u001b[0;32m---> 14\u001b[0;31m       \u001b[0mcheckPalin\u001b[0m\u001b[0;34m(\u001b[0m\u001b[0mB\u001b[0m\u001b[0;34m)\u001b[0m\u001b[0;34m\u001b[0m\u001b[0;34m\u001b[0m\u001b[0m\n\u001b[0m\u001b[1;32m     15\u001b[0m       \u001b[0;31m# count += 1\u001b[0m\u001b[0;34m\u001b[0m\u001b[0;34m\u001b[0m\u001b[0;34m\u001b[0m\u001b[0m\n\u001b[1;32m     16\u001b[0m \u001b[0;34m\u001b[0m\u001b[0m\n",
            "... last 1 frames repeated, from the frame below ...\n",
            "\u001b[0;32m<ipython-input-32-02cb55781900>\u001b[0m in \u001b[0;36mcheckPalin\u001b[0;34m(S)\u001b[0m\n\u001b[1;32m     12\u001b[0m       \u001b[0mB\u001b[0m \u001b[0;34m=\u001b[0m \u001b[0mS\u001b[0m\u001b[0;34m[\u001b[0m\u001b[0mcount\u001b[0m\u001b[0;34m:\u001b[0m\u001b[0;34m]\u001b[0m\u001b[0;34m\u001b[0m\u001b[0;34m\u001b[0m\u001b[0m\n\u001b[1;32m     13\u001b[0m       \u001b[0mprint\u001b[0m\u001b[0;34m(\u001b[0m\u001b[0;34mf\"{count}, \"\u001b[0m\u001b[0;34m,\u001b[0m \u001b[0mB\u001b[0m\u001b[0;34m)\u001b[0m\u001b[0;34m\u001b[0m\u001b[0;34m\u001b[0m\u001b[0m\n\u001b[0;32m---> 14\u001b[0;31m       \u001b[0mcheckPalin\u001b[0m\u001b[0;34m(\u001b[0m\u001b[0mB\u001b[0m\u001b[0;34m)\u001b[0m\u001b[0;34m\u001b[0m\u001b[0;34m\u001b[0m\u001b[0m\n\u001b[0m\u001b[1;32m     15\u001b[0m       \u001b[0;31m# count += 1\u001b[0m\u001b[0;34m\u001b[0m\u001b[0;34m\u001b[0m\u001b[0;34m\u001b[0m\u001b[0m\n\u001b[1;32m     16\u001b[0m \u001b[0;34m\u001b[0m\u001b[0m\n",
            "\u001b[0;31mRecursionError\u001b[0m: maximum recursion depth exceeded while calling a Python object"
          ]
        }
      ]
    },
    {
      "cell_type": "code",
      "source": [
        "from ast import Index\n",
        "A = [ 101, 103, 106, 109, 158, 164, 182, 187, 202, 205, 2, 3, 32, 57, 69, 74, 81, 99, 100 ]\n",
        "B = 202\n",
        "\n",
        "print(A.index(B) if B in A else -1)\n",
        "\n",
        "# for i in range(len(A)):\n",
        "#   if A[i] == B:\n",
        "#     print(i)"
      ],
      "metadata": {
        "colab": {
          "base_uri": "https://localhost:8080/"
        },
        "id": "QTYMMt4lpCuq",
        "outputId": "e73d74f9-2917-4b94-f79b-9314f9d2d795"
      },
      "execution_count": 43,
      "outputs": [
        {
          "output_type": "stream",
          "name": "stdout",
          "text": [
            "8\n"
          ]
        }
      ]
    },
    {
      "cell_type": "code",
      "source": [],
      "metadata": {
        "id": "WaUP4RZvujmm"
      },
      "execution_count": null,
      "outputs": []
    }
  ]
}