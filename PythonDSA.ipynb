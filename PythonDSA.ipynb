{
  "nbformat": 4,
  "nbformat_minor": 0,
  "metadata": {
    "colab": {
      "provenance": [],
      "authorship_tag": "ABX9TyPT6Pz6TC5+y1fWm7QhCZA3",
      "include_colab_link": true
    },
    "kernelspec": {
      "name": "python3",
      "display_name": "Python 3"
    },
    "language_info": {
      "name": "python"
    }
  },
  "cells": [
    {
      "cell_type": "markdown",
      "metadata": {
        "id": "view-in-github",
        "colab_type": "text"
      },
      "source": [
        "<a href=\"https://colab.research.google.com/github/pkmariya/Python/blob/main/PythonDSA.ipynb\" target=\"_parent\"><img src=\"https://colab.research.google.com/assets/colab-badge.svg\" alt=\"Open In Colab\"/></a>"
      ]
    },
    {
      "cell_type": "markdown",
      "source": [
        "# Python DSA Programs"
      ],
      "metadata": {
        "id": "cWsceNLeOIiH"
      }
    },
    {
      "cell_type": "markdown",
      "source": [
        "### Python Pattern Programs\n"
      ],
      "metadata": {
        "id": "73m4AGZKPC_n"
      }
    },
    {
      "cell_type": "code",
      "execution_count": null,
      "metadata": {
        "colab": {
          "base_uri": "https://localhost:8080/"
        },
        "id": "-PQL79TAOFpG",
        "outputId": "0cb2b91c-e0cc-4a1c-a957-44f745387ef5"
      },
      "outputs": [
        {
          "output_type": "stream",
          "name": "stdout",
          "text": [
            "Please enter # of rows: 10\n",
            "* \n",
            "* * \n",
            "* * * \n",
            "* * * * \n",
            "* * * * * \n",
            "* * * * * * \n",
            "* * * * * * * \n",
            "* * * * * * * * \n",
            "* * * * * * * * * \n",
            "* * * * * * * * * * \n"
          ]
        }
      ],
      "source": [
        "# Print simple *s\n",
        "\n",
        "rows = int(input(\"Please enter # of rows: \"))\n",
        "\n",
        "for i in range(rows):\n",
        "  for j in range(i+1):\n",
        "    print(\"*\", end=\" \")\n",
        "  print()"
      ]
    },
    {
      "cell_type": "markdown",
      "source": [],
      "metadata": {
        "id": "KuDRtA1sO2WE"
      }
    },
    {
      "cell_type": "code",
      "source": [
        "# Print above *s in inverted form\n",
        "\n",
        "rows = int(input(\"Enter # of rows: \"))\n",
        "\n",
        "for i in range(rows, 0, -1):\n",
        "  for j in range(0,i):\n",
        "    print(\"*\", end=\" \")\n",
        "  print()"
      ],
      "metadata": {
        "colab": {
          "base_uri": "https://localhost:8080/"
        },
        "id": "8IWMPdagQ8Wv",
        "outputId": "4bbc4fdc-56e2-4ae7-fbd1-ba7671ee830b"
      },
      "execution_count": null,
      "outputs": [
        {
          "output_type": "stream",
          "name": "stdout",
          "text": [
            "Enter # of rows: 10\n",
            "* * * * * * * * * * \n",
            "* * * * * * * * * \n",
            "* * * * * * * * \n",
            "* * * * * * * \n",
            "* * * * * * \n",
            "* * * * * \n",
            "* * * * \n",
            "* * * \n",
            "* * \n",
            "* \n"
          ]
        }
      ]
    },
    {
      "cell_type": "code",
      "source": [
        "# Print *s in pyramid/triangle shape\n",
        "rows = int(input(\"Enter # of rows: \"))\n",
        "\n",
        "for i in range(rows):\n",
        "  for j in range(0, rows-i-1):\n",
        "    print(end=\" \")\n",
        "  for j in range(i+1):\n",
        "    print(\"*\", end=\" \")\n",
        "  print()"
      ],
      "metadata": {
        "colab": {
          "base_uri": "https://localhost:8080/"
        },
        "id": "GfnSwP4xO1Me",
        "outputId": "bd3b1718-b294-4864-ab58-e45b26b4e3f1"
      },
      "execution_count": null,
      "outputs": [
        {
          "output_type": "stream",
          "name": "stdout",
          "text": [
            "Enter # of rows: 5\n",
            "    * \n",
            "   * * \n",
            "  * * * \n",
            " * * * * \n",
            "* * * * * \n"
          ]
        }
      ]
    },
    {
      "cell_type": "code",
      "source": [
        "# The same above pyramid/triangle pattern with more *s in each row\n",
        "\n",
        "rows = int(input(\"Enter # of rows: \"))\n",
        "\n",
        "for i in range(rows):\n",
        "  for j in range(0, rows-i-1):\n",
        "    print(end=\" \")\n",
        "  for j in range(2*i+1):\n",
        "    print(\"*\", end=\"\")\n",
        "  print()"
      ],
      "metadata": {
        "colab": {
          "base_uri": "https://localhost:8080/"
        },
        "id": "iM6ANwIyQftC",
        "outputId": "db19b06e-86eb-4fff-8bb8-fba86745cd5d"
      },
      "execution_count": null,
      "outputs": [
        {
          "output_type": "stream",
          "name": "stdout",
          "text": [
            "Enter # of rows: 5\n",
            "    *\n",
            "   ***\n",
            "  *****\n",
            " *******\n",
            "*********\n"
          ]
        }
      ]
    },
    {
      "cell_type": "code",
      "source": [
        "# Print inverted Pyramid\n",
        "\n",
        "# rows = int(input(\"Enter # of rows: \"))\n",
        "rows = 5\n",
        "\n",
        "for i in range(rows, 0, -1):\n",
        "  for j in range(0, rows-i):\n",
        "    print(end=\" \")\n",
        "  for j in range(0, i):\n",
        "    print(\"*\", end=\" \")\n",
        "  print()\n"
      ],
      "metadata": {
        "colab": {
          "base_uri": "https://localhost:8080/"
        },
        "id": "Sdg8P4zYTCTy",
        "outputId": "8c6979b3-2b90-4d39-c55a-2f660bb36085"
      },
      "execution_count": null,
      "outputs": [
        {
          "output_type": "stream",
          "name": "stdout",
          "text": [
            "* * * * * \n",
            " * * * * \n",
            "  * * * \n",
            "   * * \n",
            "    * \n"
          ]
        }
      ]
    },
    {
      "cell_type": "code",
      "source": [
        "# Pyramid Prodgram\n",
        "\n",
        "rows = 5\n",
        "\n",
        "for i in range(rows):\n",
        "  print(' '*(rows-i-1)+'* '*(i+1))\n",
        "for j in range(rows-1, 0, -1):\n",
        "  print(' '*(rows-j)+'* '*(j))\n",
        "\n"
      ],
      "metadata": {
        "colab": {
          "base_uri": "https://localhost:8080/"
        },
        "id": "__M9oedj10h4",
        "outputId": "2f0f7181-d1be-469d-bbbf-635137c6dcef"
      },
      "execution_count": 3,
      "outputs": [
        {
          "output_type": "stream",
          "name": "stdout",
          "text": [
            "    * \n",
            "   * * \n",
            "  * * * \n",
            " * * * * \n",
            "* * * * * \n",
            " * * * * \n",
            "  * * * \n",
            "   * * \n",
            "    * \n"
          ]
        }
      ]
    },
    {
      "cell_type": "code",
      "source": [
        "word = \"Python\"\n",
        "\n",
        "for i in range(len(word)):\n",
        "  for j in range(0, i+1):\n",
        "    print(word[j], end=\" \")\n",
        "  print()"
      ],
      "metadata": {
        "colab": {
          "base_uri": "https://localhost:8080/"
        },
        "id": "uqR4iiqvyl0a",
        "outputId": "103cbf79-2b62-4c3d-deb0-d8309d861f72"
      },
      "execution_count": null,
      "outputs": [
        {
          "output_type": "stream",
          "name": "stdout",
          "text": [
            "P \n",
            "P y \n",
            "P y t \n",
            "P y t h \n",
            "P y t h o \n",
            "P y t h o n \n"
          ]
        }
      ]
    },
    {
      "cell_type": "code",
      "source": [
        "num = 10\n",
        "\n",
        "for i in range(num+1):\n",
        "  for j in range(1, i+1):\n",
        "    print (j, end=\" \")\n",
        "  print()"
      ],
      "metadata": {
        "colab": {
          "base_uri": "https://localhost:8080/"
        },
        "id": "eUDfyQGtWgNZ",
        "outputId": "56465567-4d30-487e-fb2b-55cbb4881ad2"
      },
      "execution_count": null,
      "outputs": [
        {
          "output_type": "stream",
          "name": "stdout",
          "text": [
            "\n",
            "1 \n",
            "1 2 \n",
            "1 2 3 \n",
            "1 2 3 4 \n",
            "1 2 3 4 5 \n",
            "1 2 3 4 5 6 \n",
            "1 2 3 4 5 6 7 \n",
            "1 2 3 4 5 6 7 8 \n",
            "1 2 3 4 5 6 7 8 9 \n",
            "1 2 3 4 5 6 7 8 9 10 \n"
          ]
        }
      ]
    },
    {
      "cell_type": "code",
      "source": [],
      "metadata": {
        "id": "X_oKxqUzWpV6"
      },
      "execution_count": null,
      "outputs": []
    }
  ]
}