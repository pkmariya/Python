{
  "nbformat": 4,
  "nbformat_minor": 0,
  "metadata": {
    "colab": {
      "provenance": [],
      "authorship_tag": "ABX9TyMKBrqoWj2hRfTwXKy3k8Su",
      "include_colab_link": true
    },
    "kernelspec": {
      "name": "python3",
      "display_name": "Python 3"
    },
    "language_info": {
      "name": "python"
    }
  },
  "cells": [
    {
      "cell_type": "markdown",
      "metadata": {
        "id": "view-in-github",
        "colab_type": "text"
      },
      "source": [
        "<a href=\"https://colab.research.google.com/github/pkmariya/Python/blob/main/Loan_Assign.ipynb\" target=\"_parent\"><img src=\"https://colab.research.google.com/assets/colab-badge.svg\" alt=\"Open In Colab\"/></a>"
      ]
    },
    {
      "cell_type": "code",
      "execution_count": 22,
      "metadata": {
        "id": "dCU5ivGdysdc"
      },
      "outputs": [],
      "source": [
        "import numpy as np\n",
        "import pandas as pd\n",
        "import scipy.stats as st"
      ]
    },
    {
      "cell_type": "code",
      "source": [
        "loan_df = pd.read_csv('https://d2beiqkhq929f0.cloudfront.net/public_assets/assets/000/018/746/original/loan.csv?1666170299')"
      ],
      "metadata": {
        "id": "zDzvNqa5yxce"
      },
      "execution_count": 4,
      "outputs": []
    },
    {
      "cell_type": "code",
      "source": [
        "loan_df['Loan_Amount_per_year'] = loan_df['LoanAmount'] / loan_df['Loan_Amount_Term']"
      ],
      "metadata": {
        "id": "LTZkPzq9ziZE"
      },
      "execution_count": 6,
      "outputs": []
    },
    {
      "cell_type": "code",
      "source": [
        "data = loan_df.copy()"
      ],
      "metadata": {
        "id": "nJ50W7XvzXZZ"
      },
      "execution_count": 7,
      "outputs": []
    },
    {
      "cell_type": "code",
      "source": [
        "# group1 women data\n",
        "group1 = data[(data['Gender']=='Female')]['Loan_Amount_per_year']"
      ],
      "metadata": {
        "id": "zjSWQz-tzfdF"
      },
      "execution_count": 14,
      "outputs": []
    },
    {
      "cell_type": "code",
      "source": [
        "# group2 unmarried men data\n",
        "group2 = data[(data['Gender']=='Male') & (data['Married']=='No')]['Loan_Amount_per_year']"
      ],
      "metadata": {
        "id": "KcC8Alqo0a6X"
      },
      "execution_count": 16,
      "outputs": []
    },
    {
      "cell_type": "code",
      "source": [
        "group1.var()"
      ],
      "metadata": {
        "colab": {
          "base_uri": "https://localhost:8080/"
        },
        "id": "V-KBMVRg0jIn",
        "outputId": "7ff9404e-4322-4cb4-c662-d316e370249c"
      },
      "execution_count": 18,
      "outputs": [
        {
          "output_type": "execute_result",
          "data": {
            "text/plain": [
              "0.22548316632557983"
            ]
          },
          "metadata": {},
          "execution_count": 18
        }
      ]
    },
    {
      "cell_type": "code",
      "source": [
        "group2.var()"
      ],
      "metadata": {
        "colab": {
          "base_uri": "https://localhost:8080/"
        },
        "id": "aOxIlCH11EYs",
        "outputId": "6144e1b7-3134-4cb8-ee04-bee8eb495570"
      },
      "execution_count": 19,
      "outputs": [
        {
          "output_type": "execute_result",
          "data": {
            "text/plain": [
              "0.11362377496532253"
            ]
          },
          "metadata": {},
          "execution_count": 19
        }
      ]
    },
    {
      "cell_type": "code",
      "source": [
        "# dropping the missing values of both the groups\n",
        "group1 = group1.dropna()\n",
        "group2 = group2.dropna()"
      ],
      "metadata": {
        "id": "4Pbzpret1Va7"
      },
      "execution_count": 20,
      "outputs": []
    },
    {
      "cell_type": "code",
      "source": [
        "print(\"Number of records in group1 (Women): \", len(group1))\n",
        "print(\"Variance of group1 (Women): \", round(group1.var(),2))\n",
        "print(\"Number of records in group2 (Men): \", len(group2))\n",
        "print(\"Variance of group2 (Men): \", round(np.var(group2),2))"
      ],
      "metadata": {
        "colab": {
          "base_uri": "https://localhost:8080/"
        },
        "id": "J7yKhfn81inL",
        "outputId": "d16f6a05-60bf-43aa-f2b8-a4b4622ef9fa"
      },
      "execution_count": 24,
      "outputs": [
        {
          "output_type": "stream",
          "name": "stdout",
          "text": [
            "Number of records in group1 (Women):  106\n",
            "Variance of group1 (Women):  0.23\n",
            "Number of records in group2 (Men):  123\n",
            "Variance of group2 (Men):  0.11\n"
          ]
        }
      ]
    },
    {
      "cell_type": "code",
      "source": [
        "p_val_ttest = st.ttest_ind(group1, group2)[1]"
      ],
      "metadata": {
        "id": "DCEcGWzS1zoX"
      },
      "execution_count": 28,
      "outputs": []
    },
    {
      "cell_type": "code",
      "source": [
        "p_val_kruskal = st.kruskal(group1, group2)[1]"
      ],
      "metadata": {
        "id": "3Jgi4M3F2dkJ"
      },
      "execution_count": 29,
      "outputs": []
    },
    {
      "cell_type": "code",
      "source": [
        "print(\"Kruskal test p_value is: \", round(p_val_kruskal, 2))"
      ],
      "metadata": {
        "colab": {
          "base_uri": "https://localhost:8080/"
        },
        "id": "3u3kRQgj2lln",
        "outputId": "1110b4ab-298d-4022-f490-a0b8052fca11"
      },
      "execution_count": 30,
      "outputs": [
        {
          "output_type": "stream",
          "name": "stdout",
          "text": [
            "Kruskal test p_value is:  0.11\n"
          ]
        }
      ]
    },
    {
      "cell_type": "code",
      "source": [
        "alpha = 0.05\n",
        "if p_val_kruskal < alpha:\n",
        "  print(\"Since p_value is less than Alpha, we fail to accept the Null Hypothesis\")\n",
        "else:\n",
        "  print(\"Since p_value is greater than Alpha, we fail to reject the Null Hypothesis\")"
      ],
      "metadata": {
        "colab": {
          "base_uri": "https://localhost:8080/"
        },
        "id": "tCz5ql5q3LoR",
        "outputId": "5955585d-63ff-4fee-f903-d8d111ad2d12"
      },
      "execution_count": 32,
      "outputs": [
        {
          "output_type": "stream",
          "name": "stdout",
          "text": [
            "Since p_value is greater than Alpha, we fail to reject the Null Hypothesis\n"
          ]
        }
      ]
    },
    {
      "cell_type": "code",
      "source": [],
      "metadata": {
        "id": "LU3r5ZYF3dka"
      },
      "execution_count": null,
      "outputs": []
    }
  ]
}