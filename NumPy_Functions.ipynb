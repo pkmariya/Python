{
  "nbformat": 4,
  "nbformat_minor": 0,
  "metadata": {
    "colab": {
      "name": "NumPy Functions.ipynb",
      "provenance": [],
      "authorship_tag": "ABX9TyNVnFdtNyoqSz7Gtzgq3t2d",
      "include_colab_link": true
    },
    "kernelspec": {
      "name": "python3",
      "display_name": "Python 3"
    },
    "language_info": {
      "name": "python"
    }
  },
  "cells": [
    {
      "cell_type": "markdown",
      "metadata": {
        "id": "view-in-github",
        "colab_type": "text"
      },
      "source": [
        "<a href=\"https://colab.research.google.com/github/pkmariya/Python/blob/master/NumPy_Functions.ipynb\" target=\"_parent\"><img src=\"https://colab.research.google.com/assets/colab-badge.svg\" alt=\"Open In Colab\"/></a>"
      ]
    },
    {
      "cell_type": "code",
      "execution_count": 7,
      "metadata": {
        "colab": {
          "base_uri": "https://localhost:8080/"
        },
        "id": "DnvMv4AyjxwV",
        "outputId": "dd556dd8-953e-4400-db72-ce7a2852ea14"
      },
      "outputs": [
        {
          "output_type": "stream",
          "name": "stdout",
          "text": [
            "Given array is: [1 2 3 4 5 6 7]\n",
            "Array Slicing: [3 4 5]\n",
            "Array dimension: 1\n",
            "Array Shape: (7,)\n",
            "Returns first 4 values from the array: [1 2 3 4]\n",
            "Returns remaining values from 4th item: [5 6 7]\n",
            "Returns every 2nd element in the array [1 3 5 7]\n",
            "3.15\n",
            "3.0\n",
            "3.0\n",
            "My array: [1 2 3]\n",
            "Resultant cumulative array is: [1 3 6]\n"
          ]
        }
      ],
      "source": [
        "import numpy as np\n",
        "arr = np.array([1,2,3,4,5,6,7])\n",
        "print(f\"Given array is: {arr}\")\n",
        "print(f\"Array Slicing: {arr[2:5]}\")\n",
        "print(f\"Array dimension: {np.ndim(arr)}\") # to print array dimension\n",
        "print(f\"Array Shape: {arr.shape}\")\n",
        "print(f\"Returns first 4 values from the array: {arr[:4]}\")  # returns first 4 values\n",
        "print(f\"Returns remaining values from 4th item: {arr[4:]}\")  # returns all the remaining values from 4th item\n",
        "print(f\"Returns every 2nd element in the array {arr[::2]}\") # returns every 2nd element from the array\n",
        "\n",
        "# Rounding / Trunc methods to trunc float values\n",
        "floVal = 3.14567890\n",
        "print(np.around(floVal, 2))\n",
        "print(np.trunc(floVal))\n",
        "print(np.fix(floVal))\n",
        "\n",
        "myArr = np.array([1, 2, 3])\n",
        "print(f\"My array: {myArr}\")\n",
        "print(f\"Resultant cumulative array is: {np.cumsum(myArr)}\")\n",
        "\n",
        "\n"
      ]
    },
    {
      "cell_type": "code",
      "source": [
        ""
      ],
      "metadata": {
        "id": "Fx0NACrBqwtt"
      },
      "execution_count": null,
      "outputs": []
    }
  ]
}