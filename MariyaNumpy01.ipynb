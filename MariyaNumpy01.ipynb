{
  "nbformat": 4,
  "nbformat_minor": 0,
  "metadata": {
    "colab": {
      "name": "MariyaNumpy01.ipynb",
      "provenance": [],
      "authorship_tag": "ABX9TyMqh47k6cXx/FTVJ51xvQ94",
      "include_colab_link": true
    },
    "kernelspec": {
      "name": "python3",
      "display_name": "Python 3"
    },
    "language_info": {
      "name": "python"
    }
  },
  "cells": [
    {
      "cell_type": "markdown",
      "metadata": {
        "id": "view-in-github",
        "colab_type": "text"
      },
      "source": [
        "<a href=\"https://colab.research.google.com/github/pkmariya/Python/blob/master/MariyaNumpy01.ipynb\" target=\"_parent\"><img src=\"https://colab.research.google.com/assets/colab-badge.svg\" alt=\"Open In Colab\"/></a>"
      ]
    },
    {
      "cell_type": "markdown",
      "source": [
        "# Numpy Series 01\n",
        "NumPy - Numerical Python is the core library for numeric and scientific computing. \n",
        "It consists of multi-dimensional array objects and collection of routines to process them"
      ],
      "metadata": {
        "id": "qff8lL-D0sdP"
      }
    },
    {
      "cell_type": "markdown",
      "source": [
        "# Different ways arrays created using NumPy\n",
        "\n",
        "\n",
        "1.   One dimensional Array \n",
        "      *   np.array([1, 10, 15, 20])\n",
        "      \n",
        "2.   Two dimensional Array\n",
        "      *   np.array ([[1, 2, 3],[4, 5, 6]])\n",
        "\n",
        "3.   Zeros Array\n",
        "      *   np.zeros((3, 3))\n",
        "\n",
        "4.   An Array with a given number\n",
        "      *   np.full((3, 3), 10)\n",
        "\n",
        "5.   Array with a Range\n",
        "      *   np.arange(1, 10)\n",
        "\n",
        "6.   Array Range with Step value\n",
        "      *   np.arange(10, 100, 10)\n",
        "\n",
        "7.   Random Array \n",
        "      *   np.random.randint(10, 50)\n",
        "\n",
        "8.   Random Array with number of values\n",
        "      *   np.random.randint(10, 50, 5)\n",
        "\n"
      ],
      "metadata": {
        "id": "sFh3iO8kAxaq"
      }
    },
    {
      "cell_type": "code",
      "execution_count": 1,
      "metadata": {
        "id": "W0qYZBlx0ois"
      },
      "outputs": [],
      "source": [
        "import numpy as np"
      ]
    },
    {
      "cell_type": "code",
      "source": [
        "# Single dimensional numpy array\n",
        "SingleDimArray = np.array([10, 20, 30, 40, 50])\n",
        "SingleDimArray"
      ],
      "metadata": {
        "colab": {
          "base_uri": "https://localhost:8080/"
        },
        "id": "zlS4zagk04kf",
        "outputId": "acb5a25f-1bc5-4e96-808d-981eded981d4"
      },
      "execution_count": 2,
      "outputs": [
        {
          "output_type": "execute_result",
          "data": {
            "text/plain": [
              "array([10, 20, 30, 40, 50])"
            ]
          },
          "metadata": {},
          "execution_count": 2
        }
      ]
    },
    {
      "cell_type": "code",
      "source": [
        "# Two dimensional numpy array\n",
        "TwoDimArray = np.array([[10, 20, 30, 40], [40, 30, 20, 10]])\n",
        "TwoDimArray"
      ],
      "metadata": {
        "colab": {
          "base_uri": "https://localhost:8080/"
        },
        "id": "pzAuTnTq1tSX",
        "outputId": "a8316f47-9d74-4ae1-cfe6-52799fcea2ee"
      },
      "execution_count": 4,
      "outputs": [
        {
          "output_type": "execute_result",
          "data": {
            "text/plain": [
              "array([[10, 20, 30, 40],\n",
              "       [40, 30, 20, 10]])"
            ]
          },
          "metadata": {},
          "execution_count": 4
        }
      ]
    },
    {
      "cell_type": "code",
      "source": [
        "# Initialize numpy array with zeros OR create an array of zeros\n",
        "ZerosArray = np.zeros((3, 2))\n",
        "ZerosArray\n"
      ],
      "metadata": {
        "colab": {
          "base_uri": "https://localhost:8080/"
        },
        "id": "HsigP9_L15Pn",
        "outputId": "05b99661-687b-48c3-e77e-c074a1758114"
      },
      "execution_count": 14,
      "outputs": [
        {
          "output_type": "execute_result",
          "data": {
            "text/plain": [
              "array([[0., 0.],\n",
              "       [0., 0.],\n",
              "       [0., 0.]])"
            ]
          },
          "metadata": {},
          "execution_count": 14
        }
      ]
    },
    {
      "cell_type": "code",
      "source": [
        "# Shape of an Array\n",
        "np.shape(ZerosArray)"
      ],
      "metadata": {
        "colab": {
          "base_uri": "https://localhost:8080/"
        },
        "id": "UkjtCTP02w7c",
        "outputId": "c5f2459b-e202-4009-95cd-8e56b5b33a87"
      },
      "execution_count": 15,
      "outputs": [
        {
          "output_type": "execute_result",
          "data": {
            "text/plain": [
              "(3, 2)"
            ]
          },
          "metadata": {},
          "execution_count": 15
        }
      ]
    },
    {
      "cell_type": "code",
      "source": [
        "# Initialize numpy array with a given number\n",
        "SameNumArray = np.full((3, 2), 10)\n",
        "SameNumArray"
      ],
      "metadata": {
        "colab": {
          "base_uri": "https://localhost:8080/"
        },
        "id": "Ad6iBS96341S",
        "outputId": "eb43bcd9-b34d-4a9f-f825-b0e87e599a57"
      },
      "execution_count": 19,
      "outputs": [
        {
          "output_type": "execute_result",
          "data": {
            "text/plain": [
              "array([[10, 10],\n",
              "       [10, 10],\n",
              "       [10, 10]])"
            ]
          },
          "metadata": {},
          "execution_count": 19
        }
      ]
    },
    {
      "cell_type": "code",
      "source": [
        "# Create an array with a range\n",
        "ArraywithRange = np.arange(1, 10)\n",
        "ArraywithRange"
      ],
      "metadata": {
        "colab": {
          "base_uri": "https://localhost:8080/"
        },
        "id": "ZAa7Sjjg4bwb",
        "outputId": "2fdb5eab-e584-46b6-ff63-b82013d220cd"
      },
      "execution_count": 20,
      "outputs": [
        {
          "output_type": "execute_result",
          "data": {
            "text/plain": [
              "array([1, 2, 3, 4, 5, 6, 7, 8, 9])"
            ]
          },
          "metadata": {},
          "execution_count": 20
        }
      ]
    },
    {
      "cell_type": "code",
      "source": [
        "# Create an array range with Step value\n",
        "ArrayRangewithStep = np.arange(100, 200, 10)\n",
        "ArrayRangewithStep"
      ],
      "metadata": {
        "colab": {
          "base_uri": "https://localhost:8080/"
        },
        "id": "w11BZXB07Fc6",
        "outputId": "1b788e13-ece2-4606-9373-96bb3161dd20"
      },
      "execution_count": 22,
      "outputs": [
        {
          "output_type": "execute_result",
          "data": {
            "text/plain": [
              "array([100, 110, 120, 130, 140, 150, 160, 170, 180, 190])"
            ]
          },
          "metadata": {},
          "execution_count": 22
        }
      ]
    },
    {
      "cell_type": "code",
      "source": [
        "# Create an array with random numbers\n",
        "RandomArray = np.random.randint(10, 50)\n",
        "RandomArray"
      ],
      "metadata": {
        "colab": {
          "base_uri": "https://localhost:8080/"
        },
        "id": "JMHV6u2J8Foc",
        "outputId": "147368ba-4b60-4096-be52-a99ae7584cfd"
      },
      "execution_count": 27,
      "outputs": [
        {
          "output_type": "execute_result",
          "data": {
            "text/plain": [
              "16"
            ]
          },
          "metadata": {},
          "execution_count": 27
        }
      ]
    },
    {
      "cell_type": "code",
      "source": [
        "# Number of random values\n",
        "RandomArrayValues = np.random.randint(10, 50, 3)\n",
        "RandomArrayValues"
      ],
      "metadata": {
        "colab": {
          "base_uri": "https://localhost:8080/"
        },
        "id": "eclh45ri_yuR",
        "outputId": "717a2e91-d591-4260-c76d-81445447d37d"
      },
      "execution_count": 28,
      "outputs": [
        {
          "output_type": "execute_result",
          "data": {
            "text/plain": [
              "array([48, 33, 25])"
            ]
          },
          "metadata": {},
          "execution_count": 28
        }
      ]
    },
    {
      "cell_type": "code",
      "source": [
        ""
      ],
      "metadata": {
        "id": "FbZ1IuSmAIdB"
      },
      "execution_count": null,
      "outputs": []
    }
  ]
}