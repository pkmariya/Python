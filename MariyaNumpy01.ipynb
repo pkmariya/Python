{
  "nbformat": 4,
  "nbformat_minor": 0,
  "metadata": {
    "colab": {
      "name": "MariyaNumpy01.ipynb",
      "provenance": [],
      "authorship_tag": "ABX9TyMVkBh5c6RmYkaHNDrsfd1h",
      "include_colab_link": true
    },
    "kernelspec": {
      "name": "python3",
      "display_name": "Python 3"
    },
    "language_info": {
      "name": "python"
    }
  },
  "cells": [
    {
      "cell_type": "markdown",
      "metadata": {
        "id": "view-in-github",
        "colab_type": "text"
      },
      "source": [
        "<a href=\"https://colab.research.google.com/github/pkmariya/Python/blob/master/MariyaNumpy01.ipynb\" target=\"_parent\"><img src=\"https://colab.research.google.com/assets/colab-badge.svg\" alt=\"Open In Colab\"/></a>"
      ]
    },
    {
      "cell_type": "markdown",
      "source": [
        "# Numpy Series 01\n",
        "NumPy - Numerical Python is the core library for numeric and scientific computing. \n",
        "It consists of multi-dimensional array objects and collection of routines to process them"
      ],
      "metadata": {
        "id": "qff8lL-D0sdP"
      }
    },
    {
      "cell_type": "markdown",
      "source": [
        "# Different ways arrays created using NumPy\n",
        "\n",
        "\n",
        "1.   One dimensional Array \n",
        "      *   np.array([1, 10, 15, 20])\n",
        "      \n",
        "2.   Two dimensional Array\n",
        "      *   np.array ([[1, 2, 3],[4, 5, 6]])\n",
        "\n",
        "3.   Zeros Array\n",
        "      *   np.zeros((3, 3))\n",
        "\n",
        "4.   An Array with a given number\n",
        "      *   np.full((3, 3), 10)\n",
        "\n",
        "5.   Array with a Range\n",
        "      *   np.arange(1, 10)\n",
        "\n",
        "6.   Array Range with Step value\n",
        "      *   np.arange(10, 100, 10)\n",
        "\n",
        "7.   Random Array \n",
        "      *   np.random.randint(10, 50)\n",
        "\n",
        "8.   Random Array with number of values\n",
        "      *   np.random.randint(10, 50, 5)\n",
        "\n"
      ],
      "metadata": {
        "id": "sFh3iO8kAxaq"
      }
    },
    {
      "cell_type": "code",
      "execution_count": 3,
      "metadata": {
        "id": "W0qYZBlx0ois"
      },
      "outputs": [],
      "source": [
        "import numpy as np"
      ]
    },
    {
      "cell_type": "markdown",
      "source": [
        "# Creating Arrays using NumPy routines"
      ],
      "metadata": {
        "id": "aa4RvpeLJujj"
      }
    },
    {
      "cell_type": "code",
      "source": [
        "# Single dimensional numpy array\n",
        "SingleDimArray = np.array([10, 20, 30, 40, 50])\n",
        "SingleDimArray"
      ],
      "metadata": {
        "colab": {
          "base_uri": "https://localhost:8080/"
        },
        "id": "zlS4zagk04kf",
        "outputId": "acb5a25f-1bc5-4e96-808d-981eded981d4"
      },
      "execution_count": null,
      "outputs": [
        {
          "output_type": "execute_result",
          "data": {
            "text/plain": [
              "array([10, 20, 30, 40, 50])"
            ]
          },
          "metadata": {},
          "execution_count": 2
        }
      ]
    },
    {
      "cell_type": "code",
      "source": [
        "# Two dimensional numpy array\n",
        "TwoDimArray = np.array([[10, 20, 30, 40], [40, 30, 20, 10]])\n",
        "TwoDimArray"
      ],
      "metadata": {
        "colab": {
          "base_uri": "https://localhost:8080/"
        },
        "id": "pzAuTnTq1tSX",
        "outputId": "a8316f47-9d74-4ae1-cfe6-52799fcea2ee"
      },
      "execution_count": null,
      "outputs": [
        {
          "output_type": "execute_result",
          "data": {
            "text/plain": [
              "array([[10, 20, 30, 40],\n",
              "       [40, 30, 20, 10]])"
            ]
          },
          "metadata": {},
          "execution_count": 4
        }
      ]
    },
    {
      "cell_type": "code",
      "source": [
        "# Initialize numpy array with zeros OR create an array of zeros\n",
        "ZerosArray = np.zeros((3, 2))\n",
        "ZerosArray\n"
      ],
      "metadata": {
        "colab": {
          "base_uri": "https://localhost:8080/"
        },
        "id": "HsigP9_L15Pn",
        "outputId": "05b99661-687b-48c3-e77e-c074a1758114"
      },
      "execution_count": null,
      "outputs": [
        {
          "output_type": "execute_result",
          "data": {
            "text/plain": [
              "array([[0., 0.],\n",
              "       [0., 0.],\n",
              "       [0., 0.]])"
            ]
          },
          "metadata": {},
          "execution_count": 14
        }
      ]
    },
    {
      "cell_type": "code",
      "source": [
        "# Shape of an Array\n",
        "np.shape(ZerosArray)"
      ],
      "metadata": {
        "colab": {
          "base_uri": "https://localhost:8080/"
        },
        "id": "UkjtCTP02w7c",
        "outputId": "c5f2459b-e202-4009-95cd-8e56b5b33a87"
      },
      "execution_count": null,
      "outputs": [
        {
          "output_type": "execute_result",
          "data": {
            "text/plain": [
              "(3, 2)"
            ]
          },
          "metadata": {},
          "execution_count": 15
        }
      ]
    },
    {
      "cell_type": "code",
      "source": [
        "# Initialize numpy array with a given number\n",
        "SameNumArray = np.full((3, 2), 10)\n",
        "SameNumArray"
      ],
      "metadata": {
        "colab": {
          "base_uri": "https://localhost:8080/"
        },
        "id": "Ad6iBS96341S",
        "outputId": "eb43bcd9-b34d-4a9f-f825-b0e87e599a57"
      },
      "execution_count": null,
      "outputs": [
        {
          "output_type": "execute_result",
          "data": {
            "text/plain": [
              "array([[10, 10],\n",
              "       [10, 10],\n",
              "       [10, 10]])"
            ]
          },
          "metadata": {},
          "execution_count": 19
        }
      ]
    },
    {
      "cell_type": "code",
      "source": [
        "# Create an array with a range\n",
        "ArraywithRange = np.arange(1, 10)\n",
        "ArraywithRange"
      ],
      "metadata": {
        "colab": {
          "base_uri": "https://localhost:8080/"
        },
        "id": "ZAa7Sjjg4bwb",
        "outputId": "2fdb5eab-e584-46b6-ff63-b82013d220cd"
      },
      "execution_count": null,
      "outputs": [
        {
          "output_type": "execute_result",
          "data": {
            "text/plain": [
              "array([1, 2, 3, 4, 5, 6, 7, 8, 9])"
            ]
          },
          "metadata": {},
          "execution_count": 20
        }
      ]
    },
    {
      "cell_type": "code",
      "source": [
        "# Create an array range with Step value\n",
        "ArrayRangewithStep = np.arange(100, 200, 10)\n",
        "ArrayRangewithStep"
      ],
      "metadata": {
        "colab": {
          "base_uri": "https://localhost:8080/"
        },
        "id": "w11BZXB07Fc6",
        "outputId": "1b788e13-ece2-4606-9373-96bb3161dd20"
      },
      "execution_count": null,
      "outputs": [
        {
          "output_type": "execute_result",
          "data": {
            "text/plain": [
              "array([100, 110, 120, 130, 140, 150, 160, 170, 180, 190])"
            ]
          },
          "metadata": {},
          "execution_count": 22
        }
      ]
    },
    {
      "cell_type": "code",
      "source": [
        "# Create an array with random numbers\n",
        "RandomArray = np.random.randint(10, 50)\n",
        "RandomArray"
      ],
      "metadata": {
        "colab": {
          "base_uri": "https://localhost:8080/"
        },
        "id": "JMHV6u2J8Foc",
        "outputId": "147368ba-4b60-4096-be52-a99ae7584cfd"
      },
      "execution_count": null,
      "outputs": [
        {
          "output_type": "execute_result",
          "data": {
            "text/plain": [
              "16"
            ]
          },
          "metadata": {},
          "execution_count": 27
        }
      ]
    },
    {
      "cell_type": "code",
      "source": [
        "# Number of random values\n",
        "RandomArrayValues = np.random.randint(10, 50, 3)\n",
        "RandomArrayValues"
      ],
      "metadata": {
        "colab": {
          "base_uri": "https://localhost:8080/"
        },
        "id": "eclh45ri_yuR",
        "outputId": "717a2e91-d591-4260-c76d-81445447d37d"
      },
      "execution_count": null,
      "outputs": [
        {
          "output_type": "execute_result",
          "data": {
            "text/plain": [
              "array([48, 33, 25])"
            ]
          },
          "metadata": {},
          "execution_count": 28
        }
      ]
    },
    {
      "cell_type": "markdown",
      "source": [
        "# NumPy Array Shape and reshape"
      ],
      "metadata": {
        "id": "YVPL6hX3I3vB"
      }
    },
    {
      "cell_type": "code",
      "source": [
        "# Array Shape and changing the dims using shape method\n",
        "OriginalArray = np.array([[10, 20, 30], [40, 50, 60]])\n",
        "OriginalArray"
      ],
      "metadata": {
        "id": "FbZ1IuSmAIdB",
        "colab": {
          "base_uri": "https://localhost:8080/"
        },
        "outputId": "2a1ca79c-f8bb-4250-a3cd-71d85bafec07"
      },
      "execution_count": 6,
      "outputs": [
        {
          "output_type": "execute_result",
          "data": {
            "text/plain": [
              "array([[10, 20, 30],\n",
              "       [40, 50, 60]])"
            ]
          },
          "metadata": {},
          "execution_count": 6
        }
      ]
    },
    {
      "cell_type": "code",
      "source": [
        "# Shape of the original array is: \n",
        "OriginalArray.shape"
      ],
      "metadata": {
        "colab": {
          "base_uri": "https://localhost:8080/"
        },
        "id": "1bv0NSyNDyfh",
        "outputId": "efc86892-e5df-4d28-b5e3-5b18c3a90d44"
      },
      "execution_count": 7,
      "outputs": [
        {
          "output_type": "execute_result",
          "data": {
            "text/plain": [
              "(2, 3)"
            ]
          },
          "metadata": {},
          "execution_count": 7
        }
      ]
    },
    {
      "cell_type": "code",
      "source": [
        "# now changing the above 2x3 array to 3x2\n",
        "OriginalArray.shape = (3, 2)\n",
        "OriginalArray"
      ],
      "metadata": {
        "colab": {
          "base_uri": "https://localhost:8080/"
        },
        "id": "MJRZztqAEMQ8",
        "outputId": "fdf255d9-63fc-4804-c302-7784599433da"
      },
      "execution_count": 8,
      "outputs": [
        {
          "output_type": "execute_result",
          "data": {
            "text/plain": [
              "array([[10, 20],\n",
              "       [30, 40],\n",
              "       [50, 60]])"
            ]
          },
          "metadata": {},
          "execution_count": 8
        }
      ]
    },
    {
      "cell_type": "code",
      "source": [
        "OriginalArray.shape"
      ],
      "metadata": {
        "colab": {
          "base_uri": "https://localhost:8080/"
        },
        "id": "sEP2U-U2EXCw",
        "outputId": "344850b8-4ac6-42d7-fa27-85ac5c5bb17d"
      },
      "execution_count": 9,
      "outputs": [
        {
          "output_type": "execute_result",
          "data": {
            "text/plain": [
              "(3, 2)"
            ]
          },
          "metadata": {},
          "execution_count": 9
        }
      ]
    },
    {
      "cell_type": "markdown",
      "source": [
        "# Numpy Array Joins\n",
        "*   vstack\n",
        "*   hstack\n",
        "*   column_stack\n"
      ],
      "metadata": {
        "id": "seT3LU4pJUYL"
      }
    },
    {
      "cell_type": "code",
      "source": [
        "# Vertical Stacking or Row-wise Join\n",
        "firstArray = np.array([10, 20, 30])\n",
        "secondArray = np.array([40, 50, 60])\n",
        "VStackedArray = np.vstack((firstArray, secondArray))\n",
        "VStackedArray"
      ],
      "metadata": {
        "colab": {
          "base_uri": "https://localhost:8080/"
        },
        "id": "TpPH8YBJEZqK",
        "outputId": "f5bb2d9b-a114-4135-c5d5-181faf2dcfa9"
      },
      "execution_count": 11,
      "outputs": [
        {
          "output_type": "execute_result",
          "data": {
            "text/plain": [
              "array([[10, 20, 30],\n",
              "       [40, 50, 60]])"
            ]
          },
          "metadata": {},
          "execution_count": 11
        }
      ]
    },
    {
      "cell_type": "code",
      "source": [
        "# Horizontal Stacking\n",
        "oneArray = np.array([10, 20, 30])\n",
        "twoArray = np.array([40, 50, 60])\n",
        "HStackedArray = np.hstack((oneArray, twoArray))\n",
        "HStackedArray"
      ],
      "metadata": {
        "colab": {
          "base_uri": "https://localhost:8080/"
        },
        "id": "UpINGLY1HI_I",
        "outputId": "88df3209-6481-4d42-eded-18f247c79edc"
      },
      "execution_count": 12,
      "outputs": [
        {
          "output_type": "execute_result",
          "data": {
            "text/plain": [
              "array([10, 20, 30, 40, 50, 60])"
            ]
          },
          "metadata": {},
          "execution_count": 12
        }
      ]
    },
    {
      "cell_type": "code",
      "source": [
        "# Column-wise Stacking or Join; first array becomes first column and second array becomes second column \n",
        "colStack = np.column_stack((oneArray, twoArray))\n",
        "colStack"
      ],
      "metadata": {
        "colab": {
          "base_uri": "https://localhost:8080/"
        },
        "id": "VqWo1GimHjG-",
        "outputId": "92ab88f1-96aa-4436-9ccf-726d1c6bb911"
      },
      "execution_count": 13,
      "outputs": [
        {
          "output_type": "execute_result",
          "data": {
            "text/plain": [
              "array([[10, 40],\n",
              "       [20, 50],\n",
              "       [30, 60]])"
            ]
          },
          "metadata": {},
          "execution_count": 13
        }
      ]
    },
    {
      "cell_type": "markdown",
      "source": [
        "# NumPy arrays Intersection & Difference"
      ],
      "metadata": {
        "id": "O5vbdRXkKGq8"
      }
    },
    {
      "cell_type": "code",
      "source": [
        "# Intersection \n",
        "\n",
        "n1 = np.array([10, 20, 30, 40, 50, 60, 70])\n",
        "n2 = np.array([10, 20, 90])\n",
        "IntersectArray = np.intersect1d(n1, n2)\n",
        "IntersectArray"
      ],
      "metadata": {
        "colab": {
          "base_uri": "https://localhost:8080/"
        },
        "id": "Iy_h_1ZkIg0V",
        "outputId": "7db86b49-6b38-4b52-b679-2f5ad7b3ff02"
      },
      "execution_count": 18,
      "outputs": [
        {
          "output_type": "execute_result",
          "data": {
            "text/plain": [
              "array([10, 20])"
            ]
          },
          "metadata": {},
          "execution_count": 18
        }
      ]
    },
    {
      "cell_type": "code",
      "source": [
        "# Array difference\n",
        "\n",
        "diffArray = np.setdiff1d(n1, n2)\n",
        "diffArray"
      ],
      "metadata": {
        "id": "gIxTv52dKU8a",
        "outputId": "60b44e7a-f076-4645-8d54-e4565d34522d",
        "colab": {
          "base_uri": "https://localhost:8080/"
        }
      },
      "execution_count": 19,
      "outputs": [
        {
          "output_type": "execute_result",
          "data": {
            "text/plain": [
              "array([30, 40, 50, 60, 70])"
            ]
          },
          "metadata": {},
          "execution_count": 19
        }
      ]
    },
    {
      "cell_type": "code",
      "source": [
        "diffArray1 = np.setdiff1d(n2, n1)\n",
        "diffArray1"
      ],
      "metadata": {
        "id": "9skxCf-MK27a",
        "outputId": "969ad799-2ed1-4483-fefd-2b447e63a95e",
        "colab": {
          "base_uri": "https://localhost:8080/"
        }
      },
      "execution_count": 20,
      "outputs": [
        {
          "output_type": "execute_result",
          "data": {
            "text/plain": [
              "array([90])"
            ]
          },
          "metadata": {},
          "execution_count": 20
        }
      ]
    },
    {
      "cell_type": "markdown",
      "source": [
        "# NumPy array Mathematics\n",
        "\n",
        "\n",
        "*   np.sum([arr1, arr2]) - total sum of all values\n",
        "*   np.sum([arr1, arr2], axis=0) - column-wise sum of each element\n",
        "*   np.sum([arr1, arr2], axis=1) - row-wise sum\n",
        "\n",
        "# Scaler arithmetic operations\n",
        "*   arr1 + 10         # simple addition\n",
        "*   arr1 - 10         # simple subtraction\n",
        "*   arr1 * 10         # simple multiplication\n",
        "*   arr1 / 10         # simple division\n"
      ],
      "metadata": {
        "id": "ZmOqw1bmRi6V"
      }
    },
    {
      "cell_type": "code",
      "source": [
        "# Sum of all the elements\n",
        "n1 = np.array([5, 15, 25])\n",
        "n2 = np.array([10, 20, 30])\n",
        "sumOfArrays = np.sum([n1, n2])\n",
        "sumOfArrays"
      ],
      "metadata": {
        "id": "zXpXLY3-K-8C",
        "outputId": "97a1a472-2160-451e-fd14-1413f7372b03",
        "colab": {
          "base_uri": "https://localhost:8080/"
        }
      },
      "execution_count": 24,
      "outputs": [
        {
          "output_type": "execute_result",
          "data": {
            "text/plain": [
              "105"
            ]
          },
          "metadata": {},
          "execution_count": 24
        }
      ]
    },
    {
      "cell_type": "code",
      "source": [
        "# column-wise sum of individual elements\n",
        "n1 = np.array([5, 15, 25])\n",
        "n2 = np.array([10, 20, 30])\n",
        "sumOfArrays = np.sum([n1, n2], axis=0)\n",
        "sumOfArrays"
      ],
      "metadata": {
        "id": "U_0fbfZKR6EM",
        "outputId": "f7e27df0-571c-4730-e8b8-af597ce8d6c0",
        "colab": {
          "base_uri": "https://localhost:8080/"
        }
      },
      "execution_count": 25,
      "outputs": [
        {
          "output_type": "execute_result",
          "data": {
            "text/plain": [
              "array([15, 35, 55])"
            ]
          },
          "metadata": {},
          "execution_count": 25
        }
      ]
    },
    {
      "cell_type": "code",
      "source": [
        "# Row-wise sum\n",
        "n1 = np.array([5, 15, 25])\n",
        "n2 = np.array([10, 20, 30])\n",
        "sumOfArrays = np.sum([n1, n2], axis=1)\n",
        "sumOfArrays"
      ],
      "metadata": {
        "id": "5HamdTz0Stdq",
        "outputId": "cae0c5d5-8416-4757-aa5f-f23d0bd7ce0f",
        "colab": {
          "base_uri": "https://localhost:8080/"
        }
      },
      "execution_count": 26,
      "outputs": [
        {
          "output_type": "execute_result",
          "data": {
            "text/plain": [
              "array([45, 60])"
            ]
          },
          "metadata": {},
          "execution_count": 26
        }
      ]
    },
    {
      "cell_type": "code",
      "source": [
        "# basic addition with numeral\n",
        "n1 = np.array([5, 10, 15])\n",
        "arrayAddition = n1 + 10\n",
        "arrayAddition"
      ],
      "metadata": {
        "id": "ffuAaIgCSye7",
        "outputId": "bbdd90b9-183f-470d-da8b-193c8bf95f3c",
        "colab": {
          "base_uri": "https://localhost:8080/"
        }
      },
      "execution_count": 28,
      "outputs": [
        {
          "output_type": "execute_result",
          "data": {
            "text/plain": [
              "array([15, 20, 25])"
            ]
          },
          "metadata": {},
          "execution_count": 28
        }
      ]
    },
    {
      "cell_type": "code",
      "source": [
        "# basic subtraction\n",
        "n1 = np.array([10, 20, 30])\n",
        "arraySubtraction = n1 - 5\n",
        "arraySubtraction"
      ],
      "metadata": {
        "id": "coDx-irWhNdf",
        "outputId": "799dfe1b-65c7-40e3-9991-cab9946e6d31",
        "colab": {
          "base_uri": "https://localhost:8080/"
        }
      },
      "execution_count": 33,
      "outputs": [
        {
          "output_type": "execute_result",
          "data": {
            "text/plain": [
              "array([ 5, 15, 25])"
            ]
          },
          "metadata": {},
          "execution_count": 33
        }
      ]
    },
    {
      "cell_type": "code",
      "source": [
        "# basic multipliciation\n",
        "n1 = np.array([5, 10, 15])\n",
        "arrayMultiplication = n1 * 2\n",
        "arrayMultiplication"
      ],
      "metadata": {
        "id": "UMH3-9n5gvZj",
        "outputId": "798ffab6-f529-45f8-e53d-127e7a263803",
        "colab": {
          "base_uri": "https://localhost:8080/"
        }
      },
      "execution_count": 29,
      "outputs": [
        {
          "output_type": "execute_result",
          "data": {
            "text/plain": [
              "array([10, 20, 30])"
            ]
          },
          "metadata": {},
          "execution_count": 29
        }
      ]
    },
    {
      "cell_type": "code",
      "source": [
        "# basic division\n",
        "n1 = np.array([10, 20, 30])\n",
        "arrayDivision = n1/2\n",
        "arrayDivision"
      ],
      "metadata": {
        "id": "3uwUzxl7hBy-",
        "outputId": "caf6eea1-2a91-4ce6-ea8b-68b3fb09b1c8",
        "colab": {
          "base_uri": "https://localhost:8080/"
        }
      },
      "execution_count": 32,
      "outputs": [
        {
          "output_type": "execute_result",
          "data": {
            "text/plain": [
              "array([ 5., 10., 15.])"
            ]
          },
          "metadata": {},
          "execution_count": 32
        }
      ]
    },
    {
      "cell_type": "markdown",
      "source": [
        "# Mean, Median, Standarad Deviation"
      ],
      "metadata": {
        "id": "Kc4xvce0i3sa"
      }
    },
    {
      "cell_type": "code",
      "source": [
        "# Mean of an array\n",
        "n1 = np.array([10, 20, 30, 40, 100])\n",
        "arrayMean = np.mean(n1)\n",
        "arrayMean"
      ],
      "metadata": {
        "id": "B3r_lXk6hgpW",
        "outputId": "db74f461-02e6-42da-9554-77a853fe41c2",
        "colab": {
          "base_uri": "https://localhost:8080/"
        }
      },
      "execution_count": 42,
      "outputs": [
        {
          "output_type": "execute_result",
          "data": {
            "text/plain": [
              "40.0"
            ]
          },
          "metadata": {},
          "execution_count": 42
        }
      ]
    },
    {
      "cell_type": "code",
      "source": [
        "# Median of an array\n",
        "arrayMedian = np.median(n1)\n",
        "arrayMedian"
      ],
      "metadata": {
        "id": "nOm-l4WvjEsS",
        "outputId": "c03cd35e-12b6-480b-a905-7cf7324deb8a",
        "colab": {
          "base_uri": "https://localhost:8080/"
        }
      },
      "execution_count": 43,
      "outputs": [
        {
          "output_type": "execute_result",
          "data": {
            "text/plain": [
              "30.0"
            ]
          },
          "metadata": {},
          "execution_count": 43
        }
      ]
    },
    {
      "cell_type": "code",
      "source": [
        "# Standard Deviation of an array\n",
        "arrayStd = np.std(n1)\n",
        "arrayStd"
      ],
      "metadata": {
        "id": "eGNA0WZ8jKIc",
        "outputId": "d0ef1ca7-62f8-4ee9-b73a-0b83c02639d7",
        "colab": {
          "base_uri": "https://localhost:8080/"
        }
      },
      "execution_count": 44,
      "outputs": [
        {
          "output_type": "execute_result",
          "data": {
            "text/plain": [
              "31.622776601683793"
            ]
          },
          "metadata": {},
          "execution_count": 44
        }
      ]
    },
    {
      "cell_type": "code",
      "source": [
        ""
      ],
      "metadata": {
        "id": "fzpC42s7jZFx"
      },
      "execution_count": null,
      "outputs": []
    }
  ]
}